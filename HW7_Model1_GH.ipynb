{
 "cells": [
  {
   "cell_type": "code",
   "execution_count": 1,
   "metadata": {
    "colab": {
     "base_uri": "https://localhost:8080/"
    },
    "id": "m85q1OdIGXM_",
    "outputId": "331728db-8014-4822-daa9-b801cb533dd6"
   },
   "outputs": [
    {
     "name": "stdout",
     "output_type": "stream",
     "text": [
      "2.6.0+cu124\n"
     ]
    }
   ],
   "source": [
    "import torch\n",
    "print(torch.__version__)"
   ]
  },
  {
   "cell_type": "code",
   "execution_count": 2,
   "metadata": {
    "colab": {
     "base_uri": "https://localhost:8080/"
    },
    "id": "NGjmsDBKbcqW",
    "outputId": "e58eee57-bb96-4027-90b6-48b5a166be9f"
   },
   "outputs": [
    {
     "name": "stdout",
     "output_type": "stream",
     "text": [
      "Python 3.11.12\n"
     ]
    }
   ],
   "source": [
    "!python --version"
   ]
  },
  {
   "cell_type": "code",
   "execution_count": 4,
   "metadata": {
    "id": "dy4Z9_msd70i"
   },
   "outputs": [],
   "source": [
    "# Install required libraries quietly\n",
    "# !pip install transformers evaluate wandb datasets accelerate -U peft bitsandbytes -qq"
   ]
  },
  {
   "cell_type": "code",
   "execution_count": 5,
   "metadata": {
    "colab": {
     "base_uri": "https://localhost:8080/"
    },
    "id": "f1836C5UbfDO",
    "outputId": "30961b71-72c1-462f-b9a9-4ef7b711e424"
   },
   "outputs": [
    {
     "name": "stdout",
     "output_type": "stream",
     "text": [
      "Mounted at /content/drive\n"
     ]
    }
   ],
   "source": [
    "## Setting Up the Environment\n",
    "import os\n",
    "from pathlib import Path\n",
    "\n",
    "# Check if running in Google Colab\n",
    "if 'google.colab' in str(get_ipython()):\n",
    "    from google.colab import drive\n",
    "    # Mount Google Drive to access files\n",
    "    drive.mount('/content/drive')\n",
    "\n",
    "\n",
    "    # Set the base path to your specific Google Drive folder\n",
    "    basepath = '/content/drive/MyDrive/HW7/'\n",
    "    data_folder = Path(basepath) / 'data_folder/'\n",
    "    # model_folder = Path(basepath) / 'sentiment' / 'nn'\n",
    "    model_folder = Path(basepath) / 'model_checkpoints' / 'experiment_fulls'\n",
    "    custom_functions = Path(basepath) / 'CustomFiles'\n",
    "\n",
    "    # Create the necessary directories if they don't exist\n",
    "    model_folder.mkdir(exist_ok=True, parents=True)\n",
    "    custom_functions.mkdir(exist_ok=True, parents=True)\n",
    "else:\n",
    "    # Raise an error if not running in Google Colab\n",
    "    raise EnvironmentError(\"This code is designed to run in Google Colab. Please switch to Google Colab to execute it.\")\n"
   ]
  },
  {
   "cell_type": "code",
   "execution_count": 6,
   "metadata": {
    "id": "cpc_9p6YcyUh"
   },
   "outputs": [],
   "source": [
    "## Load the Libraries\n",
    "# standard data science librraies for data handling and v isualization\n",
    "import matplotlib.pyplot as plt\n",
    "import numpy as np\n",
    "import pandas as pd\n",
    "from sklearn.metrics import confusion_matrix\n",
    "import matplotlib.pyplot as plt\n",
    "import seaborn as sns\n",
    "from pathlib import Path\n",
    "import re\n",
    "import gc\n",
    "import time\n",
    "\n",
    "from sklearn.preprocessing import MultiLabelBinarizer\n",
    "from sklearn.model_selection import train_test_split\n",
    "from sklearn.metrics import multilabel_confusion_matrix, precision_score, recall_score, f1_score\n",
    "import joblib\n",
    "\n",
    "import torch\n",
    "import torch.nn as nn\n",
    "import ast\n",
    "\n",
    "\n",
    "# New libraries introduced in this notebook\n",
    "import evaluate\n",
    "from datasets import load_dataset, DatasetDict, Dataset, ClassLabel\n",
    "from transformers import (\n",
    "    TrainingArguments,\n",
    "    Trainer,\n",
    "    set_seed,\n",
    "    AutoTokenizer,\n",
    "    AutoModelForSequenceClassification,\n",
    "    AutoConfig,\n",
    "    pipeline,\n",
    "    BitsAndBytesConfig,\n",
    ")\n",
    "from peft import (\n",
    "    TaskType,\n",
    "    LoraConfig,\n",
    "    prepare_model_for_kbit_training,\n",
    "    get_peft_model,\n",
    ")\n",
    "\n",
    "import wandb\n",
    "from google.colab import userdata\n",
    "from huggingface_hub import login\n"
   ]
  },
  {
   "cell_type": "code",
   "execution_count": 7,
   "metadata": {
    "colab": {
     "base_uri": "https://localhost:8080/",
     "height": 34,
     "referenced_widgets": [
      "f1a68e5d3d7a49cca6eb2cf857209cdd",
      "bb236cfa61e740c1bf1ce18eafe2871d",
      "f63b0ae5f98d4d7393eeb79ada2d6acc",
      "d8eb32915a7443e085421975a34338cf",
      "804f69924de1442e921f1742373f188a",
      "b116c5fbeaa54265b07aa8a8e32ca9b2",
      "88ce86d5842d498d9938bc99d6501e00",
      "3062a1bae1b64cb4a4c0e283271a8f55",
      "7932c358516842a4b38ef74ad3020785",
      "7b4aa031e22f491480714577ef9479c9",
      "66fc36142cd245d08242ccee8db3bf77",
      "8a147d00bf624ebbb655fcfee39a2d0b",
      "eab9d8afd5c64b62a9d611c3c4f3ae9a",
      "6ffbc6f0b88541b8900439a118422fb3",
      "bc6293887b6245fb9886ca661fa2b76b",
      "1cf5cd4fab7c42ef8817c0077e62502d",
      "2836342db48b4d42b17b89274156f60d",
      "ff8c5071e8d94642ac3c5f4a43a4965f",
      "b66de5fc45494c3cb529e0b31fc2fd6c",
      "a24f8ceb87c4441a823e5e09c980abb9"
     ]
    },
    "id": "dnNOqRnreIo1",
    "outputId": "6ce0c509-5f37-41b2-d525-238e4302f927"
   },
   "outputs": [
    {
     "data": {
      "application/vnd.jupyter.widget-view+json": {
       "model_id": "f1a68e5d3d7a49cca6eb2cf857209cdd",
       "version_major": 2,
       "version_minor": 0
      },
      "text/plain": [
       "VBox(children=(HTML(value='<center> <img\\nsrc=https://huggingface.co/front/assets/huggingface_logo-noborder.sv…"
      ]
     },
     "metadata": {},
     "output_type": "display_data"
    },
    {
     "name": "stdout",
     "output_type": "stream",
     "text": [
      "Successfully logged into Hugging Face!\n"
     ]
    }
   ],
   "source": [
    "set_seed(42)\n",
    "import os\n",
    "from huggingface_hub import login\n",
    "\n",
    "\n",
    "\n",
    "# Retrieve Hugging Face token from environment variables\n",
    "hf_token = os.getenv('HF_TOKEN')\n",
    "login(token=hf_token)\n",
    "print(\"Successfully logged into Hugging Face!\")"
   ]
  },
  {
   "cell_type": "code",
   "execution_count": 8,
   "metadata": {
    "colab": {
     "base_uri": "https://localhost:8080/",
     "height": 191
    },
    "id": "1S57l59rel3e",
    "outputId": "e80050bc-62f1-4577-e153-0c48779446a4"
   },
   "outputs": [
    {
     "data": {
      "application/javascript": [
       "\n",
       "        window._wandbApiKey = new Promise((resolve, reject) => {\n",
       "            function loadScript(url) {\n",
       "            return new Promise(function(resolve, reject) {\n",
       "                let newScript = document.createElement(\"script\");\n",
       "                newScript.onerror = reject;\n",
       "                newScript.onload = resolve;\n",
       "                document.body.appendChild(newScript);\n",
       "                newScript.src = url;\n",
       "            });\n",
       "            }\n",
       "            loadScript(\"https://cdn.jsdelivr.net/npm/postmate/build/postmate.min.js\").then(() => {\n",
       "            const iframe = document.createElement('iframe')\n",
       "            iframe.style.cssText = \"width:0;height:0;border:none\"\n",
       "            document.body.appendChild(iframe)\n",
       "            const handshake = new Postmate({\n",
       "                container: iframe,\n",
       "                url: 'https://wandb.ai/authorize'\n",
       "            });\n",
       "            const timeout = setTimeout(() => reject(\"Couldn't auto authenticate\"), 5000)\n",
       "            handshake.then(function(child) {\n",
       "                child.on('authorize', data => {\n",
       "                    clearTimeout(timeout)\n",
       "                    resolve(data)\n",
       "                });\n",
       "            });\n",
       "            })\n",
       "        });\n",
       "    "
      ],
      "text/plain": [
       "<IPython.core.display.Javascript object>"
      ]
     },
     "metadata": {},
     "output_type": "display_data"
    },
    {
     "name": "stderr",
     "output_type": "stream",
     "text": [
      "\u001b[34m\u001b[1mwandb\u001b[0m: Logging into wandb.ai. (Learn how to deploy a W&B server locally: https://wandb.me/wandb-server)\n",
      "\u001b[34m\u001b[1mwandb\u001b[0m: You can find your API key in your browser here: https://wandb.ai/authorize\n",
      "wandb: Paste an API key from your profile and hit enter:"
     ]
    },
    {
     "name": "stdout",
     "output_type": "stream",
     "text": [
      " ··········\n"
     ]
    },
    {
     "name": "stderr",
     "output_type": "stream",
     "text": [
      "\u001b[34m\u001b[1mwandb\u001b[0m: \u001b[33mWARNING\u001b[0m If you're specifying your api key in code, ensure this code is not shared publicly.\n",
      "\u001b[34m\u001b[1mwandb\u001b[0m: \u001b[33mWARNING\u001b[0m Consider setting the WANDB_API_KEY environment variable, or running `wandb login` from the command line.\n",
      "\u001b[34m\u001b[1mwandb\u001b[0m: No netrc file found, creating one.\n",
      "\u001b[34m\u001b[1mwandb\u001b[0m: Appending key for api.wandb.ai to your netrc file: /root/.netrc\n",
      "\u001b[34m\u001b[1mwandb\u001b[0m: Currently logged in as: \u001b[33mdwivedi-anmol1996\u001b[0m (\u001b[33mdwivedi-anmol1996-university-of-texas-at-dallas\u001b[0m) to \u001b[32mhttps://api.wandb.ai\u001b[0m. Use \u001b[1m`wandb login --relogin`\u001b[0m to force relogin\n"
     ]
    },
    {
     "name": "stdout",
     "output_type": "stream",
     "text": [
      "Successfully logged into W&B!\n"
     ]
    }
   ],
   "source": [
    "import wandb\n",
    "\n",
    "# Retrieve W&B API key from environment variables\n",
    "wandb_api_key = os.getenv('WANDB_API_KEY')\n",
    "wandb.login(key=wandb_api_key)\n",
    "print(\"Successfully logged into W&B!\")"
   ]
  },
  {
   "cell_type": "code",
   "execution_count": 15,
   "metadata": {
    "id": "AberKxYse4x0"
   },
   "outputs": [],
   "source": [
    "# CHANGE FOLDERS TO WHERE YOU WANT TO SAVE DATA AND MODELS\n",
    "base_folder = Path(basepath)\n",
    "data_folder = base_folder/'datasets/Classification_HW/joblib_files'"
   ]
  },
  {
   "cell_type": "code",
   "execution_count": 16,
   "metadata": {
    "colab": {
     "base_uri": "https://localhost:8080/",
     "height": 212
    },
    "id": "uQ28MwnsfeYC",
    "outputId": "3ac90740-d0f1-42ba-9aec-c8559b5389c2"
   },
   "outputs": [
    {
     "data": {
      "text/html": [
       "Finishing previous runs because reinit is set to 'default'."
      ],
      "text/plain": [
       "<IPython.core.display.HTML object>"
      ]
     },
     "metadata": {},
     "output_type": "display_data"
    },
    {
     "data": {
      "text/html": [],
      "text/plain": [
       "<IPython.core.display.HTML object>"
      ]
     },
     "metadata": {},
     "output_type": "display_data"
    },
    {
     "data": {
      "text/html": [
       " View run <strong style=\"color:#cdcd00\">model_1</strong> at: <a href='https://wandb.ai/dwivedi-anmol1996-university-of-texas-at-dallas/NLP_HW7/runs/vfs3vgfd' target=\"_blank\">https://wandb.ai/dwivedi-anmol1996-university-of-texas-at-dallas/NLP_HW7/runs/vfs3vgfd</a><br> View project at: <a href='https://wandb.ai/dwivedi-anmol1996-university-of-texas-at-dallas/NLP_HW7' target=\"_blank\">https://wandb.ai/dwivedi-anmol1996-university-of-texas-at-dallas/NLP_HW7</a><br>Synced 5 W&B file(s), 0 media file(s), 0 artifact file(s) and 0 other file(s)"
      ],
      "text/plain": [
       "<IPython.core.display.HTML object>"
      ]
     },
     "metadata": {},
     "output_type": "display_data"
    },
    {
     "data": {
      "text/html": [
       "Find logs at: <code>./wandb/run-20250525_184129-vfs3vgfd/logs</code>"
      ],
      "text/plain": [
       "<IPython.core.display.HTML object>"
      ]
     },
     "metadata": {},
     "output_type": "display_data"
    },
    {
     "data": {
      "text/html": [
       "Tracking run with wandb version 0.19.11"
      ],
      "text/plain": [
       "<IPython.core.display.HTML object>"
      ]
     },
     "metadata": {},
     "output_type": "display_data"
    },
    {
     "data": {
      "text/html": [
       "Run data is saved locally in <code>/content/wandb/run-20250525_184328-avusv2e2</code>"
      ],
      "text/plain": [
       "<IPython.core.display.HTML object>"
      ]
     },
     "metadata": {},
     "output_type": "display_data"
    },
    {
     "data": {
      "text/html": [
       "Syncing run <strong><a href='https://wandb.ai/dwivedi-anmol1996-university-of-texas-at-dallas/NLP_HW7/runs/avusv2e2' target=\"_blank\">model_1</a></strong> to <a href='https://wandb.ai/dwivedi-anmol1996-university-of-texas-at-dallas/NLP_HW7' target=\"_blank\">Weights & Biases</a> (<a href='https://wandb.me/developer-guide' target=\"_blank\">docs</a>)<br>"
      ],
      "text/plain": [
       "<IPython.core.display.HTML object>"
      ]
     },
     "metadata": {},
     "output_type": "display_data"
    },
    {
     "data": {
      "text/html": [
       " View project at <a href='https://wandb.ai/dwivedi-anmol1996-university-of-texas-at-dallas/NLP_HW7' target=\"_blank\">https://wandb.ai/dwivedi-anmol1996-university-of-texas-at-dallas/NLP_HW7</a>"
      ],
      "text/plain": [
       "<IPython.core.display.HTML object>"
      ]
     },
     "metadata": {},
     "output_type": "display_data"
    },
    {
     "data": {
      "text/html": [
       " View run at <a href='https://wandb.ai/dwivedi-anmol1996-university-of-texas-at-dallas/NLP_HW7/runs/avusv2e2' target=\"_blank\">https://wandb.ai/dwivedi-anmol1996-university-of-texas-at-dallas/NLP_HW7/runs/avusv2e2</a>"
      ],
      "text/plain": [
       "<IPython.core.display.HTML object>"
      ]
     },
     "metadata": {},
     "output_type": "display_data"
    },
    {
     "data": {
      "text/html": [
       "<button onClick=\"this.nextSibling.style.display='block';this.style.display='none';\">Display W&B run</button><iframe src='https://wandb.ai/dwivedi-anmol1996-university-of-texas-at-dallas/NLP_HW7/runs/avusv2e2?jupyter=true' style='border:none;width:100%;height:420px;display:none;'></iframe>"
      ],
      "text/plain": [
       "<wandb.sdk.wandb_run.Run at 0x7b47ef977690>"
      ]
     },
     "execution_count": 16,
     "metadata": {},
     "output_type": "execute_result"
    }
   ],
   "source": [
    "wandb.init(\n",
    "    project=\"NLP_HW7\",  # project name\n",
    "    group=\"Exp_1_google/gemma\",  # Group related runs under a specific experiment\n",
    "    name=\"model_1\",  # Set a unique name for each specific run\n",
    "    )"
   ]
  },
  {
   "cell_type": "markdown",
   "metadata": {
    "id": "J42_cXeLgxOR"
   },
   "source": [
    "# Loading the Dataset"
   ]
  },
  {
   "cell_type": "code",
   "execution_count": 17,
   "metadata": {
    "id": "75cLoYpEf2Z9"
   },
   "outputs": [],
   "source": [
    "import pandas as pd\n",
    "from sklearn.preprocessing import MultiLabelBinarizer\n",
    "from datasets import Dataset\n",
    "\n",
    "def prepare_dataset(csv_file_path, is_test=False):\n",
    "    \"\"\"\n",
    "    Prepares a dataset for multi-label classification.\n",
    "\n",
    "    Args:\n",
    "        csv_file_path (str): Path to the CSV file.\n",
    "        is_test (bool): Whether the dataset is for testing (no labels).\n",
    "\n",
    "    Returns:\n",
    "        Dataset: Hugging Face Dataset in the required format.\n",
    "        list: Class names (only if not in test mode).\n",
    "    \"\"\"\n",
    "    # Load the CSV dataset\n",
    "    df = pd.read_csv(csv_file_path)\n",
    "\n",
    "    # Define the emotion columns (labels)\n",
    "    emotion_columns = ['anger', 'anticipation', 'disgust', 'fear', 'joy',\n",
    "                       'love', 'optimism', 'pessimism', 'sadness', 'surprise', 'trust']\n",
    "\n",
    "    if not is_test:\n",
    "        # Combine the binary emotion labels into a list for each row\n",
    "        df['labels'] = df[emotion_columns].apply(\n",
    "            lambda x: [emotion for emotion, value in x.items() if value == 1], axis=1\n",
    "        )\n",
    "\n",
    "        # Keep only the 'Tweet' (renamed to 'text') and 'labels' columns\n",
    "        df_final = df[['Tweet', 'labels']].rename(columns={'Tweet': 'text'})\n",
    "\n",
    "        # One-hot encode the labels using MultiLabelBinarizer\n",
    "        label_encoder = MultiLabelBinarizer()\n",
    "        df_final['label'] = list(label_encoder.fit_transform(df_final['labels']))\n",
    "\n",
    "        # Define class names for reference\n",
    "        class_names = label_encoder.classes_\n",
    "\n",
    "        # Convert to Hugging Face Dataset format\n",
    "        dataset = Dataset.from_pandas(df_final[['text', 'label']])\n",
    "\n",
    "        return dataset, class_names\n",
    "    else:\n",
    "        # For test data, only keep the 'Tweet' column, renamed to 'text'\n",
    "        df_final = df[['Tweet']].rename(columns={'Tweet': 'text'})\n",
    "\n",
    "        # Convert to Hugging Face Dataset format\n",
    "        dataset = Dataset.from_pandas(df_final[['text']])\n",
    "\n",
    "        return dataset\n"
   ]
  },
  {
   "cell_type": "code",
   "execution_count": 18,
   "metadata": {
    "id": "s3tIwhrTg6MF"
   },
   "outputs": [],
   "source": [
    "# Prepare the training and validation datasets\n",
    "train_data, class_names = prepare_dataset(csv_file_path='/content/drive/MyDrive/HW7/data_folder/train.csv', is_test=False)\n",
    "test_data = prepare_dataset(csv_file_path='/content/drive/MyDrive/HW7/data_folder/test.csv', is_test=True)"
   ]
  },
  {
   "cell_type": "code",
   "execution_count": 19,
   "metadata": {
    "colab": {
     "base_uri": "https://localhost:8080/"
    },
    "id": "sOlzRF-glLyW",
    "outputId": "dd7cfb30-c957-4da8-b5bf-1400128c9803"
   },
   "outputs": [
    {
     "data": {
      "text/plain": [
       "(Dataset({\n",
       "     features: ['text', 'label'],\n",
       "     num_rows: 7724\n",
       " }),\n",
       " Dataset({\n",
       "     features: ['text'],\n",
       "     num_rows: 3259\n",
       " }))"
      ]
     },
     "execution_count": 19,
     "metadata": {},
     "output_type": "execute_result"
    }
   ],
   "source": [
    "train_data, test_data"
   ]
  },
  {
   "cell_type": "code",
   "execution_count": 20,
   "metadata": {
    "colab": {
     "base_uri": "https://localhost:8080/"
    },
    "id": "F-iQOxeMyx9_",
    "outputId": "e4e1d2a4-c269-4c95-8a6b-778700fbd149"
   },
   "outputs": [
    {
     "data": {
      "text/plain": [
       "[0, 1, 0, 0, 0, 0, 1, 0, 0, 0, 1]"
      ]
     },
     "execution_count": 20,
     "metadata": {},
     "output_type": "execute_result"
    }
   ],
   "source": [
    "train_data['label'][0]"
   ]
  },
  {
   "cell_type": "code",
   "execution_count": 21,
   "metadata": {
    "colab": {
     "base_uri": "https://localhost:8080/"
    },
    "id": "jbwvuGeEz98w",
    "outputId": "7659cc8a-f5f9-4978-8bce-22956987b6c2"
   },
   "outputs": [
    {
     "data": {
      "text/plain": [
       "Dataset({\n",
       "    features: ['text'],\n",
       "    num_rows: 3259\n",
       "})"
      ]
     },
     "execution_count": 21,
     "metadata": {},
     "output_type": "execute_result"
    }
   ],
   "source": [
    "test_data"
   ]
  },
  {
   "cell_type": "markdown",
   "metadata": {
    "id": "b78ff2E40uW6"
   },
   "source": [
    "# Splitting the Training Data into Train and Validation Data"
   ]
  },
  {
   "cell_type": "code",
   "execution_count": 22,
   "metadata": {
    "colab": {
     "base_uri": "https://localhost:8080/"
    },
    "id": "AUwQcy0Y0zX4",
    "outputId": "01b0f3f3-bce0-4ad8-fcc8-8291a29310a5"
   },
   "outputs": [
    {
     "name": "stdout",
     "output_type": "stream",
     "text": [
      "Train Data: Dataset({\n",
      "    features: ['text', 'label'],\n",
      "    num_rows: 6951\n",
      "})\n",
      "Valid Data: Dataset({\n",
      "    features: ['text', 'label'],\n",
      "    num_rows: 773\n",
      "})\n",
      "Test Data (Unseen): Dataset({\n",
      "    features: ['text'],\n",
      "    num_rows: 3259\n",
      "})\n"
     ]
    }
   ],
   "source": [
    "# Unpack if train_data is a tuple\n",
    "if isinstance(train_data, tuple):\n",
    "    train_data, class_names = train_data\n",
    "\n",
    "# Split the existing train_data into train and validation sets\n",
    "train_valid_split = train_data.train_test_split(test_size=0.1, seed=42)\n",
    "\n",
    "# Rename the splits for clarity\n",
    "train_data = train_valid_split['train']\n",
    "valid_data = train_valid_split['test']\n",
    "\n",
    "# Now we have:\n",
    "# - train_data: for training\n",
    "# - valid_data: for validation during training\n",
    "# - test_data: as the final unseen test data\n",
    "\n",
    "print(\"Train Data:\", train_data)\n",
    "print(\"Valid Data:\", valid_data)\n",
    "print(\"Test Data (Unseen):\", test_data)\n"
   ]
  },
  {
   "cell_type": "code",
   "execution_count": 23,
   "metadata": {
    "colab": {
     "base_uri": "https://localhost:8080/"
    },
    "id": "ZUk_PpJu0zc9",
    "outputId": "b62babc9-da5c-42a2-cb8a-45822c128435"
   },
   "outputs": [
    {
     "data": {
      "text/plain": [
       "DatasetDict({\n",
       "    train: Dataset({\n",
       "        features: ['text', 'label'],\n",
       "        num_rows: 6951\n",
       "    })\n",
       "    valid: Dataset({\n",
       "        features: ['text', 'label'],\n",
       "        num_rows: 773\n",
       "    })\n",
       "})"
      ]
     },
     "execution_count": 23,
     "metadata": {},
     "output_type": "execute_result"
    }
   ],
   "source": [
    "train_val_subset= DatasetDict(\n",
    "    {\"train\": train_data, \"valid\": valid_data})\n",
    "\n",
    "train_val_subset"
   ]
  },
  {
   "cell_type": "code",
   "execution_count": 24,
   "metadata": {
    "colab": {
     "base_uri": "https://localhost:8080/"
    },
    "id": "eIyefmzi1Hvz",
    "outputId": "80fb4d44-9868-4f9f-ce4d-831e7b8e072b"
   },
   "outputs": [
    {
     "data": {
      "text/plain": [
       "[1, 0, 1, 0, 0, 0, 0, 0, 1, 0, 0]"
      ]
     },
     "execution_count": 24,
     "metadata": {},
     "output_type": "execute_result"
    }
   ],
   "source": [
    "train_val_subset['train']['label'][0]"
   ]
  },
  {
   "cell_type": "code",
   "execution_count": 25,
   "metadata": {
    "colab": {
     "base_uri": "https://localhost:8080/"
    },
    "id": "JKbWQV97DTIq",
    "outputId": "f7aa626b-87aa-4543-a7f2-1fe9e1ff138c"
   },
   "outputs": [
    {
     "data": {
      "text/plain": [
       "Dataset({\n",
       "    features: ['text'],\n",
       "    num_rows: 3259\n",
       "})"
      ]
     },
     "execution_count": 25,
     "metadata": {},
     "output_type": "execute_result"
    }
   ],
   "source": [
    "test_data"
   ]
  },
  {
   "cell_type": "markdown",
   "metadata": {
    "id": "myGbugOflnGH"
   },
   "source": [
    "# Load Pre-Trained Tokenizer"
   ]
  },
  {
   "cell_type": "code",
   "execution_count": 26,
   "metadata": {
    "id": "nzGARLV9lL0r"
   },
   "outputs": [],
   "source": [
    "def free_gpu_memory():\n",
    "    \"\"\"\n",
    "    Frees up GPU memory after CUDA out-of-memory error in Colab.\n",
    "\n",
    "    This function performs the following steps:\n",
    "    1. Deletes all PyTorch objects to clear references.\n",
    "    2. Calls garbage collection to remove unreferenced objects from memory.\n",
    "    3. Uses torch.cuda.empty_cache() to release cached GPU memory.\n",
    "    4. Waits for a moment to ensure memory is fully released.\n",
    "    \"\"\"\n",
    "    try:\n",
    "        # Delete all torch tensors to free up memory\n",
    "        for obj in list(locals().values()):\n",
    "            if torch.is_tensor(obj):\n",
    "                del obj\n",
    "\n",
    "        # Collect garbage to release any remaining unused memory\n",
    "        gc.collect()\n",
    "\n",
    "        # Empty the CUDA cache to release GPU memory\n",
    "        torch.cuda.empty_cache()\n",
    "\n",
    "        # Adding a small delay to allow memory to be fully released\n",
    "        time.sleep(2)\n",
    "\n",
    "        print(\"GPU memory has been freed.\")\n",
    "    except Exception as e:\n",
    "        print(f\"Error while freeing GPU memory: {e}\")\n"
   ]
  },
  {
   "cell_type": "code",
   "execution_count": 27,
   "metadata": {
    "colab": {
     "base_uri": "https://localhost:8080/"
    },
    "id": "5zKRe1KMlL3j",
    "outputId": "0da62715-abd4-422b-d7b7-b08b34fd1bce"
   },
   "outputs": [
    {
     "name": "stdout",
     "output_type": "stream",
     "text": [
      "GPU memory has been freed.\n"
     ]
    }
   ],
   "source": [
    "free_gpu_memory()"
   ]
  },
  {
   "cell_type": "code",
   "execution_count": 28,
   "metadata": {
    "colab": {
     "base_uri": "https://localhost:8080/",
     "height": 249,
     "referenced_widgets": [
      "9d3bbc05b0564a1799b475cbe076817e",
      "80c8e2758ed44326889da08014e09cbf",
      "8295ca7167f642dfa8d8458e32b28357",
      "6d18e2fa7dc84babac9cbda32d185522",
      "b948896ea86f4fa69b9c64952501410e",
      "5aaaa7c4e5eb46c4b4f4eec35657bd53",
      "1df4a730d9c34b669fd49faab3cd4411",
      "7952ddf937664e5cb18b8161e4bd5bf0",
      "04171369909a40c4969cd9f1857a4543",
      "3b11a937874c44c49ba60cf39e9bd542",
      "0182bbc50b954e2eaba366f8449263e4",
      "7b341635a46c46e5846ff4ebad0b69ff",
      "72157d1bee6049c7a8a6396b7dde7a8e",
      "41e3fc07a8d546b3bd92b7922505b818",
      "8acc5f85994a4112b256330b159ec164",
      "759a8f6edb544a51a56669614218b12f",
      "791e66c3e286422b979108ac1a3574c5",
      "94b49f2b00444f91aae3d6683f74c607",
      "25800006c93e4eb3908ef8387efbde81",
      "f2d3faa030664d29ba30206b264261db",
      "df66a09f0fef43209b71c5dcf204097c",
      "e5e1a0019d5940b8911e6715fd45ee10",
      "b7dc38c527b945d48e7a0a410b33b684",
      "48cc3a6716924d4fbb9d6901c08be790",
      "3ccdb588fe434af3a9269ca5b6084e23",
      "4a60dd0a97f54fb390cff2addfd0ca56",
      "088b028bf8124102a954258a51fe1d96",
      "f84669e3847d4ec2b7cc3c0d2f1f336f",
      "4469839f2679433eaca520e1b864dc05",
      "ffca7db063f144a4af858f63fa1b9e1b",
      "0920964ef95c4560b21dc94758db4730",
      "931e7ab562284a3281d41faac385f1d7",
      "12770a36bd8b4b73a0db0fd387fc73aa",
      "60b7e670dbc44368b42f7f1c0c93156c",
      "88cb0851f307407a8f1933a0f9856dfe",
      "6578d40160a74392abe52ff892a50308",
      "d7b1f30d9d1245068b6d2cd065dc8fe0",
      "826eeb3f03e0485bb4823199a6e32d9f",
      "fe3b502026f945f6b1c5cadd28506518",
      "3caba84dd7d04403a3988b41fdb51c95",
      "8a9c016baf35474c9f62776e8d49e84b",
      "510621483a7a44139d8eb115d91f50dd",
      "cb93254aa137492aadcb41784f20548c",
      "ef6e7c061334469194ca4cb9a9a39937"
     ]
    },
    "id": "cu4k96xNmA4P",
    "outputId": "66c7ea83-0c7e-49f6-de06-e48a0b1ee4b8"
   },
   "outputs": [
    {
     "name": "stderr",
     "output_type": "stream",
     "text": [
      "/usr/local/lib/python3.11/dist-packages/huggingface_hub/utils/_auth.py:94: UserWarning: \n",
      "The secret `HF_TOKEN` does not exist in your Colab secrets.\n",
      "To authenticate with the Hugging Face Hub, create a token in your settings tab (https://huggingface.co/settings/tokens), set it as secret in your Google Colab and restart your session.\n",
      "You will be able to reuse this secret in all of your notebooks.\n",
      "Please note that authentication is recommended but still optional to access public models or datasets.\n",
      "  warnings.warn(\n"
     ]
    },
    {
     "data": {
      "application/vnd.jupyter.widget-view+json": {
       "model_id": "9d3bbc05b0564a1799b475cbe076817e",
       "version_major": 2,
       "version_minor": 0
      },
      "text/plain": [
       "tokenizer_config.json:   0%|          | 0.00/46.4k [00:00<?, ?B/s]"
      ]
     },
     "metadata": {},
     "output_type": "display_data"
    },
    {
     "data": {
      "application/vnd.jupyter.widget-view+json": {
       "model_id": "7b341635a46c46e5846ff4ebad0b69ff",
       "version_major": 2,
       "version_minor": 0
      },
      "text/plain": [
       "tokenizer.model:   0%|          | 0.00/4.24M [00:00<?, ?B/s]"
      ]
     },
     "metadata": {},
     "output_type": "display_data"
    },
    {
     "data": {
      "application/vnd.jupyter.widget-view+json": {
       "model_id": "b7dc38c527b945d48e7a0a410b33b684",
       "version_major": 2,
       "version_minor": 0
      },
      "text/plain": [
       "tokenizer.json:   0%|          | 0.00/17.5M [00:00<?, ?B/s]"
      ]
     },
     "metadata": {},
     "output_type": "display_data"
    },
    {
     "data": {
      "application/vnd.jupyter.widget-view+json": {
       "model_id": "60b7e670dbc44368b42f7f1c0c93156c",
       "version_major": 2,
       "version_minor": 0
      },
      "text/plain": [
       "special_tokens_map.json:   0%|          | 0.00/636 [00:00<?, ?B/s]"
      ]
     },
     "metadata": {},
     "output_type": "display_data"
    }
   ],
   "source": [
    "checkpoint = \"google/gemma-2-2b\"\n",
    "tokenizer = AutoTokenizer.from_pretrained(checkpoint)"
   ]
  },
  {
   "cell_type": "markdown",
   "metadata": {
    "id": "RDwprZyxqT9T"
   },
   "source": [
    "## Create Function for Tokenizer"
   ]
  },
  {
   "cell_type": "code",
   "execution_count": 29,
   "metadata": {
    "id": "xBj6b47_mA6k"
   },
   "outputs": [],
   "source": [
    "def tokenize_fn(batch):\n",
    "    return tokenizer(text = batch[\"text\"], truncation=True, max_length=512)"
   ]
  },
  {
   "cell_type": "code",
   "execution_count": 30,
   "metadata": {
    "colab": {
     "base_uri": "https://localhost:8080/",
     "height": 81,
     "referenced_widgets": [
      "5f57c715b14f4a7481cd7741c2288cc7",
      "fee8f935fd524e8eb226177ad0270ea3",
      "bb8c67b9fc4d4f7d916688ebfc4197b3",
      "e0863b3ca16f4ec6a8396819d582471d",
      "155b7b191e3542eaa83314fe162c4711",
      "e5946f8aba8b466c916f66fa5eea9815",
      "184c4da3116c4a7f9e1c77118c273941",
      "e6a7f3f279144d13bdd183d416e27f11",
      "64ab06486a2545eabb1f960e5fd69bda",
      "8df373472d20432db3866c79b501d38c",
      "f2c84ddf58d94129980769ad72b17840",
      "1bfc5fe2e97a40b0a2f1206acb82af04",
      "0df9b633159b47af9bb84793ddb13212",
      "8c1953cea22c4f528aadcfd44f7d5da1",
      "cd5b39d3d75d4905a701eca690961395",
      "6695dcc87e104d64bcc60168b42b1b8a",
      "f42b37bf98e64c609e63b14147caf617",
      "6ff24814330049a88903112989b95f61",
      "23556cb87b0a41999c5135f8616f652f",
      "931d2883b774469db645c1a80a911f5d",
      "8829a690e3024b1a970523bc48561530",
      "fd498205f6934ab38659a359e8035c7b"
     ]
    },
    "id": "1kXQTGN4mA9D",
    "outputId": "40678222-21fb-49a7-c11c-aa55b7f8fb6d"
   },
   "outputs": [
    {
     "data": {
      "application/vnd.jupyter.widget-view+json": {
       "model_id": "5f57c715b14f4a7481cd7741c2288cc7",
       "version_major": 2,
       "version_minor": 0
      },
      "text/plain": [
       "Map:   0%|          | 0/6951 [00:00<?, ? examples/s]"
      ]
     },
     "metadata": {},
     "output_type": "display_data"
    },
    {
     "data": {
      "application/vnd.jupyter.widget-view+json": {
       "model_id": "1bfc5fe2e97a40b0a2f1206acb82af04",
       "version_major": 2,
       "version_minor": 0
      },
      "text/plain": [
       "Map:   0%|          | 0/773 [00:00<?, ? examples/s]"
      ]
     },
     "metadata": {},
     "output_type": "display_data"
    }
   ],
   "source": [
    "tokenized_dataset= train_val_subset.map(tokenize_fn, batched=True)\n",
    "tokenized_dataset = tokenized_dataset.remove_columns(\n",
    "    ['text']\n",
    ")\n",
    "tokenized_dataset.set_format(type='torch')"
   ]
  },
  {
   "cell_type": "code",
   "execution_count": 31,
   "metadata": {
    "colab": {
     "base_uri": "https://localhost:8080/"
    },
    "id": "z38T1JxQ35VM",
    "outputId": "066097c5-ec0d-409c-f046-2e6afa54ab84"
   },
   "outputs": [
    {
     "data": {
      "text/plain": [
       "DatasetDict({\n",
       "    train: Dataset({\n",
       "        features: ['label', 'input_ids', 'attention_mask'],\n",
       "        num_rows: 6951\n",
       "    })\n",
       "    valid: Dataset({\n",
       "        features: ['label', 'input_ids', 'attention_mask'],\n",
       "        num_rows: 773\n",
       "    })\n",
       "})"
      ]
     },
     "execution_count": 31,
     "metadata": {},
     "output_type": "execute_result"
    }
   ],
   "source": [
    "tokenized_dataset"
   ]
  },
  {
   "cell_type": "code",
   "execution_count": 32,
   "metadata": {
    "colab": {
     "base_uri": "https://localhost:8080/",
     "height": 81,
     "referenced_widgets": [
      "1616cf2031e445d9856df4e4964b90d8",
      "6eefd52f70dc4e65945c95e8ffccaa5d",
      "a491b3edacf047a5b0e0a4b26f4d6fee",
      "f9a17bc4583b42cf9edab564d6d1ec9b",
      "1bbf8e2f87974dfbad8e5f7801dfa5fa",
      "eb45e5e5e47d43bfac052c66ec15c4de",
      "8c1f1ef087244a389580b3383195c67e",
      "6d5f89e3043149faa71feb9153a1e043",
      "282b04110a514fb68dbeb77a58562355",
      "b6fd382b3b0d45e39dd28a49e7d53d9d",
      "48593984d0cf463c91b9a08d2c34cbe6",
      "6afa738cdd4344f5ac67d6b1bb361629",
      "17d42f83af034623813fb4451e776850",
      "a27a992359d3425886867cda1e5323f6",
      "ded8fdb07efc42399b2680d768b37d5f",
      "65d95423185543b3b1af37c4934861a4",
      "46908602c48f4f6ebdc858db244e349f",
      "15daa40047324b8b80ea0a342767ad41",
      "1f08aace249b49329b8417b7c448e192",
      "66ab7a4f44a145a7866885d26ecd59f8",
      "a3bfa0acfe77462f82e2a2c49e562ed5",
      "e47f984e47a5465fbc304e8d57137cc4"
     ]
    },
    "id": "zzNrlqnCmA_Z",
    "outputId": "47b08045-175e-42ab-c3bd-bb39a6db9839"
   },
   "outputs": [
    {
     "data": {
      "application/vnd.jupyter.widget-view+json": {
       "model_id": "1616cf2031e445d9856df4e4964b90d8",
       "version_major": 2,
       "version_minor": 0
      },
      "text/plain": [
       "Map:   0%|          | 0/6951 [00:00<?, ? examples/s]"
      ]
     },
     "metadata": {},
     "output_type": "display_data"
    },
    {
     "data": {
      "application/vnd.jupyter.widget-view+json": {
       "model_id": "6afa738cdd4344f5ac67d6b1bb361629",
       "version_major": 2,
       "version_minor": 0
      },
      "text/plain": [
       "Map:   0%|          | 0/773 [00:00<?, ? examples/s]"
      ]
     },
     "metadata": {},
     "output_type": "display_data"
    }
   ],
   "source": [
    "tokenized_dataset = (tokenized_dataset\n",
    "          .map(lambda x : {\"float_label\": x[\"label\"].to(torch.float)}, remove_columns=[\"label\"])\n",
    "          .rename_column(\"float_label\", \"label\"))"
   ]
  },
  {
   "cell_type": "code",
   "execution_count": 33,
   "metadata": {
    "colab": {
     "base_uri": "https://localhost:8080/"
    },
    "id": "75f1_xdKmBCH",
    "outputId": "870ad8b5-44f7-4860-b07a-d95a09a4ec53"
   },
   "outputs": [
    {
     "data": {
      "text/plain": [
       "tensor([[1., 0., 1., 0., 0., 0., 0., 0., 1., 0., 0.],\n",
       "        [0., 1., 0., 0., 0., 0., 0., 0., 0., 0., 0.],\n",
       "        [0., 0., 0., 0., 1., 0., 1., 0., 0., 0., 0.]])"
      ]
     },
     "execution_count": 33,
     "metadata": {},
     "output_type": "execute_result"
    }
   ],
   "source": [
    "tokenized_dataset['train']['label'][0:3]"
   ]
  },
  {
   "cell_type": "code",
   "execution_count": 33,
   "metadata": {
    "id": "Qp6b4WcEmBEe"
   },
   "outputs": [],
   "source": []
  },
  {
   "cell_type": "markdown",
   "metadata": {
    "id": "HFU_rtsNtQ2j"
   },
   "source": [
    "# Model Training"
   ]
  },
  {
   "cell_type": "markdown",
   "metadata": {
    "id": "W_utfiGftVch"
   },
   "source": [
    "## Download pre-trained model"
   ]
  },
  {
   "cell_type": "code",
   "execution_count": 34,
   "metadata": {
    "colab": {
     "base_uri": "https://localhost:8080/"
    },
    "id": "HJzTj4RctTNk",
    "outputId": "13611f52-6ef8-4c2e-f221-e8f421e3b5e9"
   },
   "outputs": [
    {
     "data": {
      "text/plain": [
       "torch.bfloat16"
      ]
     },
     "execution_count": 34,
     "metadata": {},
     "output_type": "execute_result"
    }
   ],
   "source": [
    "def get_appropriate_dtype():\n",
    "    if torch.cuda.is_available() and torch.cuda.get_device_capability(0) >= (8, 0):\n",
    "        return torch.bfloat16\n",
    "    return torch.float16\n",
    "\n",
    "\n",
    "torch_data_type = get_appropriate_dtype()\n",
    "torch_data_type"
   ]
  },
  {
   "cell_type": "code",
   "execution_count": 35,
   "metadata": {
    "id": "tWXuEfXCuEZJ"
   },
   "outputs": [],
   "source": [
    "bnb_config = BitsAndBytesConfig(\n",
    "  load_in_4bit=True,\n",
    "  bnb_4bit_quant_type=\"nf4\",\n",
    "  bnb_4bit_use_double_quant=True,\n",
    "  bnb_4bit_compute_dtype=torch_data_type,\n",
    "  bnb_4bit_quant_storage=torch_data_type,\n",
    ")"
   ]
  },
  {
   "cell_type": "code",
   "execution_count": 36,
   "metadata": {
    "colab": {
     "base_uri": "https://localhost:8080/",
     "height": 276,
     "referenced_widgets": [
      "a3919e75d27346779389a4b1866ee50c",
      "8b628d6057374660835ca99d100e2739",
      "70506268918347dbba4092b2c8c580f5",
      "9b25e1adfcc44862b518123d73a33559",
      "18fd5dbcee354a83af1eb6e48ccdfaf6",
      "857c2b0e06ef4147a63bcd9e6292c045",
      "38bc8ecc1a5c44d4b575b6b4a85b28f5",
      "20718c77cb8d41579f6cb08ff1733129",
      "de1ff75b0cb14b76993e23531a94adda",
      "f7f442a67c7e4a138ea976b5e74ed5a0",
      "0e4334e0058b4c66b9212441f2af42cc",
      "7027b9454f0d4f589a8dd1c8bbccb4df",
      "b52671554f4f463bb1b55a4d53a63a60",
      "306b66537c3a46dfaf95f1ab50f7bdad",
      "83d5cb6771864a48ad9be711b672316f",
      "394eed586d55401f9305c3f93966e393",
      "91750137d6fa41c8bff8b80ce7448186",
      "77915a97638b405d8ce9fee2aef53119",
      "c93c498b3e984c1abfed700d689fe4f1",
      "7cdc6961e9c3415b81c5bac14ca6715a",
      "d0ef38b302264d8ca3b12290320f3a70",
      "88205a651acd441bbb5ddd96427122c9",
      "91cca3104b1b4f219bc27b634b232d1c",
      "288b6d59eba844d1810014c61c2cd58e",
      "77be6d4d127944458b24cea570851765",
      "725740e2f24f4a43a206248df1a936ac",
      "6b017a3c9d0d4c45a72ff8b8100fae5a",
      "84f2c2590e274df1983fda7be8d3341b",
      "5b4b5e51da164ee2964ad9a7f2637eb5",
      "92d31ae086e54b68862c64b37b5bdcf7",
      "16913a4611114e05bfb638d35db72eaf",
      "7b98b8c551dc4d7b8b66d4f1e2d7d280",
      "c79cd9e64cfc4b9cb6b997b9992196f0",
      "791ab200e42b418a8af37db5192000db",
      "a17075db355148238b106b6083715886",
      "e7e320b4f8504548b7bdc1b336b7d5b7",
      "eff62246f60a41a3bcfe14d87b5683af",
      "fc44af173c374a32b73277b77f222afc",
      "58436ed419674e549c0ec3de068dab4d",
      "01667d8f70bd4c7c8c9aa981c4cb4e97",
      "b550128f506e47e1980bbdff6f13d600",
      "1c28105927004e928d34288d22030a29",
      "5b2933c9841f4d9fb459afa1fd93a270",
      "b583d307fb5c4714aaf10d7a5a7f7608",
      "c08e95549f354e9cbf40f4ca2e93d748",
      "9b465ec5b47348f79e49dd885fec9851",
      "4329de8b1c1244d5aa9f9da21269bf51",
      "abf0baa8466246b28661c0dba86a8a7b",
      "dba5935ec1924c8b896aabfa4c8e84ab",
      "e08bac5f69d34830b77a6a87f6cf79d4",
      "faa63b9bad4e4f7fbc94c40829f34a18",
      "24d9a2af10e34e36aa00fc96756df2a1",
      "23c6346dcdaf4b44944234336aa0f33d",
      "924f08d0a62642028052ccf013edf3e6",
      "7aa6d9a11a43465598ccd07f837a0b17",
      "ab239523584c4cdda2a2811f3795b1c6",
      "ee4ebac34af34e0aac41b80157de0925",
      "e5f4c5d7b2054baa8c54be442265ce4d",
      "9557896344064371bd49098ad80bc11f",
      "a52da70ca31644879476235d1fad3f18",
      "871eb0ee19cc4f59ab9053665ed1c5b8",
      "b9fba0c404ac4da5baf7f5a9fd634f38",
      "138df75edda24c57b423f62468e5cdd2",
      "8429af43de28454caec2c30c8eeb58d0",
      "2919f26f7ac4435e9f74fe5921910b8e",
      "76b499ad24da46c889b70cbd4b329419",
      "74717ede383342b6bd14d886c16e7e2f",
      "ef782ac4c30248148a64c1dcd38c1695",
      "07a4e4382ed54c779d115c350ff4e882",
      "c315b6a3af044c75874050b2d334aba2",
      "52255dbd602347229aa0b22c5bce98ab",
      "28e60625aa8a495db261864ad5ef21ae",
      "75009ac6ba8e4ae99f1a07236a58248a",
      "f84f54c780a4490ea64add29b3b713e6",
      "88f4c19bc320486fa45e513345d6ed55",
      "01d4d0cd4658440f99c072bf37a8e0c1",
      "7eae977d9e5a43d5b1cf6bdcbcde80d1"
     ]
    },
    "id": "gJnCydkHuF0N",
    "outputId": "e556585a-d7e3-4b8b-f11e-80b4ca346671"
   },
   "outputs": [
    {
     "data": {
      "application/vnd.jupyter.widget-view+json": {
       "model_id": "a3919e75d27346779389a4b1866ee50c",
       "version_major": 2,
       "version_minor": 0
      },
      "text/plain": [
       "config.json:   0%|          | 0.00/818 [00:00<?, ?B/s]"
      ]
     },
     "metadata": {},
     "output_type": "display_data"
    },
    {
     "data": {
      "application/vnd.jupyter.widget-view+json": {
       "model_id": "7027b9454f0d4f589a8dd1c8bbccb4df",
       "version_major": 2,
       "version_minor": 0
      },
      "text/plain": [
       "model.safetensors.index.json:   0%|          | 0.00/24.2k [00:00<?, ?B/s]"
      ]
     },
     "metadata": {},
     "output_type": "display_data"
    },
    {
     "data": {
      "application/vnd.jupyter.widget-view+json": {
       "model_id": "91cca3104b1b4f219bc27b634b232d1c",
       "version_major": 2,
       "version_minor": 0
      },
      "text/plain": [
       "Fetching 3 files:   0%|          | 0/3 [00:00<?, ?it/s]"
      ]
     },
     "metadata": {},
     "output_type": "display_data"
    },
    {
     "data": {
      "application/vnd.jupyter.widget-view+json": {
       "model_id": "791ab200e42b418a8af37db5192000db",
       "version_major": 2,
       "version_minor": 0
      },
      "text/plain": [
       "model-00002-of-00003.safetensors:   0%|          | 0.00/4.98G [00:00<?, ?B/s]"
      ]
     },
     "metadata": {},
     "output_type": "display_data"
    },
    {
     "data": {
      "application/vnd.jupyter.widget-view+json": {
       "model_id": "c08e95549f354e9cbf40f4ca2e93d748",
       "version_major": 2,
       "version_minor": 0
      },
      "text/plain": [
       "model-00001-of-00003.safetensors:   0%|          | 0.00/4.99G [00:00<?, ?B/s]"
      ]
     },
     "metadata": {},
     "output_type": "display_data"
    },
    {
     "data": {
      "application/vnd.jupyter.widget-view+json": {
       "model_id": "ab239523584c4cdda2a2811f3795b1c6",
       "version_major": 2,
       "version_minor": 0
      },
      "text/plain": [
       "model-00003-of-00003.safetensors:   0%|          | 0.00/481M [00:00<?, ?B/s]"
      ]
     },
     "metadata": {},
     "output_type": "display_data"
    },
    {
     "data": {
      "application/vnd.jupyter.widget-view+json": {
       "model_id": "74717ede383342b6bd14d886c16e7e2f",
       "version_major": 2,
       "version_minor": 0
      },
      "text/plain": [
       "Loading checkpoint shards:   0%|          | 0/3 [00:00<?, ?it/s]"
      ]
     },
     "metadata": {},
     "output_type": "display_data"
    },
    {
     "name": "stderr",
     "output_type": "stream",
     "text": [
      "Some weights of Gemma2ForSequenceClassification were not initialized from the model checkpoint at google/gemma-2-2b and are newly initialized: ['score.weight']\n",
      "You should probably TRAIN this model on a down-stream task to be able to use it for predictions and inference.\n"
     ]
    }
   ],
   "source": [
    "model = AutoModelForSequenceClassification.from_pretrained(checkpoint,\n",
    "                                                           num_labels = 11,\n",
    "                                                           problem_type=\"multi_label_classification\",\n",
    "                                                           quantization_config=bnb_config,\n",
    "                                                           torch_dtype=torch_data_type,\n",
    "                                                           trust_remote_code=True,)"
   ]
  },
  {
   "cell_type": "markdown",
   "metadata": {
    "id": "6-83OwXUvRBJ"
   },
   "source": [
    "## Download and Modify Model Config File"
   ]
  },
  {
   "cell_type": "code",
   "execution_count": 37,
   "metadata": {
    "colab": {
     "base_uri": "https://localhost:8080/"
    },
    "id": "qrOqE5jxuHql",
    "outputId": "c7dc36f4-33f4-41e3-b4b8-d629e3542ed3"
   },
   "outputs": [
    {
     "data": {
      "text/plain": [
       "array(['anger', 'anticipation', 'disgust', 'fear', 'joy', 'love',\n",
       "       'optimism', 'pessimism', 'sadness', 'surprise', 'trust'],\n",
       "      dtype=object)"
      ]
     },
     "execution_count": 37,
     "metadata": {},
     "output_type": "execute_result"
    }
   ],
   "source": [
    "class_names"
   ]
  },
  {
   "cell_type": "code",
   "execution_count": 38,
   "metadata": {
    "id": "FSeoYqwrux5F"
   },
   "outputs": [],
   "source": [
    "config = AutoConfig.from_pretrained(checkpoint)\n",
    "id2label= {id_: label_ for id_, label_ in enumerate(class_names)}\n",
    "label2id = {label_: id_ for id_, label_ in enumerate(class_names)}\n",
    "config.id2label = id2label\n",
    "config.label2id = label2id\n",
    "model.config = config"
   ]
  },
  {
   "cell_type": "markdown",
   "metadata": {
    "id": "6NgnuG35vb3k"
   },
   "source": [
    "## PEFT Setup"
   ]
  },
  {
   "cell_type": "code",
   "execution_count": 39,
   "metadata": {
    "colab": {
     "base_uri": "https://localhost:8080/"
    },
    "id": "fSr-bignvVk8",
    "outputId": "712e5454-e5f1-4045-d15c-4f6ab2a34da6"
   },
   "outputs": [
    {
     "data": {
      "text/plain": [
       "Gemma2ForSequenceClassification(\n",
       "  (model): Gemma2Model(\n",
       "    (embed_tokens): Embedding(256000, 2304, padding_idx=0)\n",
       "    (layers): ModuleList(\n",
       "      (0-25): 26 x Gemma2DecoderLayer(\n",
       "        (self_attn): Gemma2Attention(\n",
       "          (q_proj): Linear4bit(in_features=2304, out_features=2048, bias=False)\n",
       "          (k_proj): Linear4bit(in_features=2304, out_features=1024, bias=False)\n",
       "          (v_proj): Linear4bit(in_features=2304, out_features=1024, bias=False)\n",
       "          (o_proj): Linear4bit(in_features=2048, out_features=2304, bias=False)\n",
       "        )\n",
       "        (mlp): Gemma2MLP(\n",
       "          (gate_proj): Linear4bit(in_features=2304, out_features=9216, bias=False)\n",
       "          (up_proj): Linear4bit(in_features=2304, out_features=9216, bias=False)\n",
       "          (down_proj): Linear4bit(in_features=9216, out_features=2304, bias=False)\n",
       "          (act_fn): PytorchGELUTanh()\n",
       "        )\n",
       "        (input_layernorm): Gemma2RMSNorm((2304,), eps=1e-06)\n",
       "        (post_attention_layernorm): Gemma2RMSNorm((2304,), eps=1e-06)\n",
       "        (pre_feedforward_layernorm): Gemma2RMSNorm((2304,), eps=1e-06)\n",
       "        (post_feedforward_layernorm): Gemma2RMSNorm((2304,), eps=1e-06)\n",
       "      )\n",
       "    )\n",
       "    (norm): Gemma2RMSNorm((2304,), eps=1e-06)\n",
       "    (rotary_emb): Gemma2RotaryEmbedding()\n",
       "  )\n",
       "  (score): Linear(in_features=2304, out_features=11, bias=False)\n",
       ")"
      ]
     },
     "execution_count": 39,
     "metadata": {},
     "output_type": "execute_result"
    }
   ],
   "source": [
    "model"
   ]
  },
  {
   "cell_type": "code",
   "execution_count": 40,
   "metadata": {
    "id": "1Bvf8lelvYdd"
   },
   "outputs": [],
   "source": [
    "def find_linear_layers(model):\n",
    "    \"\"\"\n",
    "    Extracts the unique names of Linear layers from a model.\n",
    "\n",
    "    Args:\n",
    "    model (nn.Module): The model from which to extract Linear layer names.\n",
    "\n",
    "    Returns:\n",
    "    list: A list of unique names of Linear layers.\n",
    "    \"\"\"\n",
    "    # Convert the model's modules to string\n",
    "    model_modules = str(model.modules)\n",
    "    # Pattern to extract names of Linear layers\n",
    "    pattern = r'\\((\\w+)\\): Linear'\n",
    "    # Find all occurrences of the pattern\n",
    "    linear_layer_names = re.findall(pattern, model_modules)\n",
    "    print(linear_layer_names)\n",
    "    # Get unique names using a set, then convert back to list\n",
    "    target_modules = list(set(linear_layer_names))\n",
    "    return target_modules"
   ]
  },
  {
   "cell_type": "code",
   "execution_count": 41,
   "metadata": {
    "colab": {
     "base_uri": "https://localhost:8080/"
    },
    "id": "lTApUEJ2viN8",
    "outputId": "ac43cf66-88be-4229-8d7c-2fc877b12706"
   },
   "outputs": [
    {
     "name": "stdout",
     "output_type": "stream",
     "text": [
      "['q_proj', 'k_proj', 'v_proj', 'o_proj', 'gate_proj', 'up_proj', 'down_proj', 'score']\n"
     ]
    },
    {
     "data": {
      "text/plain": [
       "['o_proj',\n",
       " 'v_proj',\n",
       " 'down_proj',\n",
       " 'up_proj',\n",
       " 'score',\n",
       " 'gate_proj',\n",
       " 'q_proj',\n",
       " 'k_proj']"
      ]
     },
     "execution_count": 41,
     "metadata": {},
     "output_type": "execute_result"
    }
   ],
   "source": [
    "find_linear_layers(model)"
   ]
  },
  {
   "cell_type": "code",
   "execution_count": 42,
   "metadata": {
    "colab": {
     "base_uri": "https://localhost:8080/"
    },
    "id": "OpenbsdivjVE",
    "outputId": "ecded1a8-11eb-4ba8-e5a5-fe4fd6af90c8"
   },
   "outputs": [
    {
     "name": "stdout",
     "output_type": "stream",
     "text": [
      "trainable params: 166,159,104 || all params: 2,780,526,336 || trainable%: 5.9758\n"
     ]
    }
   ],
   "source": [
    "peft_config = LoraConfig(\n",
    "    task_type=TaskType.SEQ_CLS,\n",
    "    r=128,\n",
    "    lora_alpha=256,\n",
    "    lora_dropout=0.01,\n",
    "    bias=\"all\",\n",
    "    target_modules = ['v_proj',  'q_proj',  'up_proj', 'o_proj', 'down_proj', 'gate_proj','k_proj'])\n",
    "\n",
    "lora_model = get_peft_model(model, peft_config )\n",
    "# qlora_model.resize_token_embeddings(len(tokenizer))\n",
    "lora_model.print_trainable_parameters()"
   ]
  },
  {
   "cell_type": "code",
   "execution_count": 43,
   "metadata": {
    "colab": {
     "base_uri": "https://localhost:8080/"
    },
    "id": "R2Vgy82Rvl0t",
    "outputId": "d28bfe51-588c-4c41-f029-9de17a533b31"
   },
   "outputs": [
    {
     "data": {
      "text/plain": [
       "PeftModelForSequenceClassification(\n",
       "  (base_model): LoraModel(\n",
       "    (model): Gemma2ForSequenceClassification(\n",
       "      (model): Gemma2Model(\n",
       "        (embed_tokens): Embedding(256000, 2304, padding_idx=0)\n",
       "        (layers): ModuleList(\n",
       "          (0-25): 26 x Gemma2DecoderLayer(\n",
       "            (self_attn): Gemma2Attention(\n",
       "              (q_proj): lora.Linear4bit(\n",
       "                (base_layer): Linear4bit(in_features=2304, out_features=2048, bias=False)\n",
       "                (lora_dropout): ModuleDict(\n",
       "                  (default): Dropout(p=0.01, inplace=False)\n",
       "                )\n",
       "                (lora_A): ModuleDict(\n",
       "                  (default): Linear(in_features=2304, out_features=128, bias=False)\n",
       "                )\n",
       "                (lora_B): ModuleDict(\n",
       "                  (default): Linear(in_features=128, out_features=2048, bias=False)\n",
       "                )\n",
       "                (lora_embedding_A): ParameterDict()\n",
       "                (lora_embedding_B): ParameterDict()\n",
       "                (lora_magnitude_vector): ModuleDict()\n",
       "              )\n",
       "              (k_proj): lora.Linear4bit(\n",
       "                (base_layer): Linear4bit(in_features=2304, out_features=1024, bias=False)\n",
       "                (lora_dropout): ModuleDict(\n",
       "                  (default): Dropout(p=0.01, inplace=False)\n",
       "                )\n",
       "                (lora_A): ModuleDict(\n",
       "                  (default): Linear(in_features=2304, out_features=128, bias=False)\n",
       "                )\n",
       "                (lora_B): ModuleDict(\n",
       "                  (default): Linear(in_features=128, out_features=1024, bias=False)\n",
       "                )\n",
       "                (lora_embedding_A): ParameterDict()\n",
       "                (lora_embedding_B): ParameterDict()\n",
       "                (lora_magnitude_vector): ModuleDict()\n",
       "              )\n",
       "              (v_proj): lora.Linear4bit(\n",
       "                (base_layer): Linear4bit(in_features=2304, out_features=1024, bias=False)\n",
       "                (lora_dropout): ModuleDict(\n",
       "                  (default): Dropout(p=0.01, inplace=False)\n",
       "                )\n",
       "                (lora_A): ModuleDict(\n",
       "                  (default): Linear(in_features=2304, out_features=128, bias=False)\n",
       "                )\n",
       "                (lora_B): ModuleDict(\n",
       "                  (default): Linear(in_features=128, out_features=1024, bias=False)\n",
       "                )\n",
       "                (lora_embedding_A): ParameterDict()\n",
       "                (lora_embedding_B): ParameterDict()\n",
       "                (lora_magnitude_vector): ModuleDict()\n",
       "              )\n",
       "              (o_proj): lora.Linear4bit(\n",
       "                (base_layer): Linear4bit(in_features=2048, out_features=2304, bias=False)\n",
       "                (lora_dropout): ModuleDict(\n",
       "                  (default): Dropout(p=0.01, inplace=False)\n",
       "                )\n",
       "                (lora_A): ModuleDict(\n",
       "                  (default): Linear(in_features=2048, out_features=128, bias=False)\n",
       "                )\n",
       "                (lora_B): ModuleDict(\n",
       "                  (default): Linear(in_features=128, out_features=2304, bias=False)\n",
       "                )\n",
       "                (lora_embedding_A): ParameterDict()\n",
       "                (lora_embedding_B): ParameterDict()\n",
       "                (lora_magnitude_vector): ModuleDict()\n",
       "              )\n",
       "            )\n",
       "            (mlp): Gemma2MLP(\n",
       "              (gate_proj): lora.Linear4bit(\n",
       "                (base_layer): Linear4bit(in_features=2304, out_features=9216, bias=False)\n",
       "                (lora_dropout): ModuleDict(\n",
       "                  (default): Dropout(p=0.01, inplace=False)\n",
       "                )\n",
       "                (lora_A): ModuleDict(\n",
       "                  (default): Linear(in_features=2304, out_features=128, bias=False)\n",
       "                )\n",
       "                (lora_B): ModuleDict(\n",
       "                  (default): Linear(in_features=128, out_features=9216, bias=False)\n",
       "                )\n",
       "                (lora_embedding_A): ParameterDict()\n",
       "                (lora_embedding_B): ParameterDict()\n",
       "                (lora_magnitude_vector): ModuleDict()\n",
       "              )\n",
       "              (up_proj): lora.Linear4bit(\n",
       "                (base_layer): Linear4bit(in_features=2304, out_features=9216, bias=False)\n",
       "                (lora_dropout): ModuleDict(\n",
       "                  (default): Dropout(p=0.01, inplace=False)\n",
       "                )\n",
       "                (lora_A): ModuleDict(\n",
       "                  (default): Linear(in_features=2304, out_features=128, bias=False)\n",
       "                )\n",
       "                (lora_B): ModuleDict(\n",
       "                  (default): Linear(in_features=128, out_features=9216, bias=False)\n",
       "                )\n",
       "                (lora_embedding_A): ParameterDict()\n",
       "                (lora_embedding_B): ParameterDict()\n",
       "                (lora_magnitude_vector): ModuleDict()\n",
       "              )\n",
       "              (down_proj): lora.Linear4bit(\n",
       "                (base_layer): Linear4bit(in_features=9216, out_features=2304, bias=False)\n",
       "                (lora_dropout): ModuleDict(\n",
       "                  (default): Dropout(p=0.01, inplace=False)\n",
       "                )\n",
       "                (lora_A): ModuleDict(\n",
       "                  (default): Linear(in_features=9216, out_features=128, bias=False)\n",
       "                )\n",
       "                (lora_B): ModuleDict(\n",
       "                  (default): Linear(in_features=128, out_features=2304, bias=False)\n",
       "                )\n",
       "                (lora_embedding_A): ParameterDict()\n",
       "                (lora_embedding_B): ParameterDict()\n",
       "                (lora_magnitude_vector): ModuleDict()\n",
       "              )\n",
       "              (act_fn): PytorchGELUTanh()\n",
       "            )\n",
       "            (input_layernorm): Gemma2RMSNorm((2304,), eps=1e-06)\n",
       "            (post_attention_layernorm): Gemma2RMSNorm((2304,), eps=1e-06)\n",
       "            (pre_feedforward_layernorm): Gemma2RMSNorm((2304,), eps=1e-06)\n",
       "            (post_feedforward_layernorm): Gemma2RMSNorm((2304,), eps=1e-06)\n",
       "          )\n",
       "        )\n",
       "        (norm): Gemma2RMSNorm((2304,), eps=1e-06)\n",
       "        (rotary_emb): Gemma2RotaryEmbedding()\n",
       "      )\n",
       "      (score): ModulesToSaveWrapper(\n",
       "        (original_module): Linear(in_features=2304, out_features=11, bias=False)\n",
       "        (modules_to_save): ModuleDict(\n",
       "          (default): Linear(in_features=2304, out_features=11, bias=False)\n",
       "        )\n",
       "      )\n",
       "    )\n",
       "  )\n",
       ")"
      ]
     },
     "execution_count": 43,
     "metadata": {},
     "output_type": "execute_result"
    }
   ],
   "source": [
    "lora_model"
   ]
  },
  {
   "cell_type": "code",
   "execution_count": 44,
   "metadata": {
    "colab": {
     "base_uri": "https://localhost:8080/"
    },
    "id": "IzH_g8xXvnyV",
    "outputId": "10a5247a-4550-468e-c447-cfd1cabbc9ba"
   },
   "outputs": [
    {
     "name": "stdout",
     "output_type": "stream",
     "text": [
      "base_model.model.model.embed_tokens.weight: False\n",
      "base_model.model.model.layers.0.self_attn.q_proj.base_layer.weight: False\n",
      "base_model.model.model.layers.0.self_attn.q_proj.lora_A.default.weight: True\n",
      "base_model.model.model.layers.0.self_attn.q_proj.lora_B.default.weight: True\n",
      "base_model.model.model.layers.0.self_attn.k_proj.base_layer.weight: False\n",
      "base_model.model.model.layers.0.self_attn.k_proj.lora_A.default.weight: True\n",
      "base_model.model.model.layers.0.self_attn.k_proj.lora_B.default.weight: True\n",
      "base_model.model.model.layers.0.self_attn.v_proj.base_layer.weight: False\n",
      "base_model.model.model.layers.0.self_attn.v_proj.lora_A.default.weight: True\n",
      "base_model.model.model.layers.0.self_attn.v_proj.lora_B.default.weight: True\n",
      "base_model.model.model.layers.0.self_attn.o_proj.base_layer.weight: False\n",
      "base_model.model.model.layers.0.self_attn.o_proj.lora_A.default.weight: True\n",
      "base_model.model.model.layers.0.self_attn.o_proj.lora_B.default.weight: True\n",
      "base_model.model.model.layers.0.mlp.gate_proj.base_layer.weight: False\n",
      "base_model.model.model.layers.0.mlp.gate_proj.lora_A.default.weight: True\n",
      "base_model.model.model.layers.0.mlp.gate_proj.lora_B.default.weight: True\n",
      "base_model.model.model.layers.0.mlp.up_proj.base_layer.weight: False\n",
      "base_model.model.model.layers.0.mlp.up_proj.lora_A.default.weight: True\n",
      "base_model.model.model.layers.0.mlp.up_proj.lora_B.default.weight: True\n",
      "base_model.model.model.layers.0.mlp.down_proj.base_layer.weight: False\n",
      "base_model.model.model.layers.0.mlp.down_proj.lora_A.default.weight: True\n",
      "base_model.model.model.layers.0.mlp.down_proj.lora_B.default.weight: True\n",
      "base_model.model.model.layers.0.input_layernorm.weight: False\n",
      "base_model.model.model.layers.0.post_attention_layernorm.weight: False\n",
      "base_model.model.model.layers.0.pre_feedforward_layernorm.weight: False\n",
      "base_model.model.model.layers.0.post_feedforward_layernorm.weight: False\n",
      "base_model.model.model.layers.1.self_attn.q_proj.base_layer.weight: False\n",
      "base_model.model.model.layers.1.self_attn.q_proj.lora_A.default.weight: True\n",
      "base_model.model.model.layers.1.self_attn.q_proj.lora_B.default.weight: True\n",
      "base_model.model.model.layers.1.self_attn.k_proj.base_layer.weight: False\n",
      "base_model.model.model.layers.1.self_attn.k_proj.lora_A.default.weight: True\n",
      "base_model.model.model.layers.1.self_attn.k_proj.lora_B.default.weight: True\n",
      "base_model.model.model.layers.1.self_attn.v_proj.base_layer.weight: False\n",
      "base_model.model.model.layers.1.self_attn.v_proj.lora_A.default.weight: True\n",
      "base_model.model.model.layers.1.self_attn.v_proj.lora_B.default.weight: True\n",
      "base_model.model.model.layers.1.self_attn.o_proj.base_layer.weight: False\n",
      "base_model.model.model.layers.1.self_attn.o_proj.lora_A.default.weight: True\n",
      "base_model.model.model.layers.1.self_attn.o_proj.lora_B.default.weight: True\n",
      "base_model.model.model.layers.1.mlp.gate_proj.base_layer.weight: False\n",
      "base_model.model.model.layers.1.mlp.gate_proj.lora_A.default.weight: True\n",
      "base_model.model.model.layers.1.mlp.gate_proj.lora_B.default.weight: True\n",
      "base_model.model.model.layers.1.mlp.up_proj.base_layer.weight: False\n",
      "base_model.model.model.layers.1.mlp.up_proj.lora_A.default.weight: True\n",
      "base_model.model.model.layers.1.mlp.up_proj.lora_B.default.weight: True\n",
      "base_model.model.model.layers.1.mlp.down_proj.base_layer.weight: False\n",
      "base_model.model.model.layers.1.mlp.down_proj.lora_A.default.weight: True\n",
      "base_model.model.model.layers.1.mlp.down_proj.lora_B.default.weight: True\n",
      "base_model.model.model.layers.1.input_layernorm.weight: False\n",
      "base_model.model.model.layers.1.post_attention_layernorm.weight: False\n",
      "base_model.model.model.layers.1.pre_feedforward_layernorm.weight: False\n",
      "base_model.model.model.layers.1.post_feedforward_layernorm.weight: False\n",
      "base_model.model.model.layers.2.self_attn.q_proj.base_layer.weight: False\n",
      "base_model.model.model.layers.2.self_attn.q_proj.lora_A.default.weight: True\n",
      "base_model.model.model.layers.2.self_attn.q_proj.lora_B.default.weight: True\n",
      "base_model.model.model.layers.2.self_attn.k_proj.base_layer.weight: False\n",
      "base_model.model.model.layers.2.self_attn.k_proj.lora_A.default.weight: True\n",
      "base_model.model.model.layers.2.self_attn.k_proj.lora_B.default.weight: True\n",
      "base_model.model.model.layers.2.self_attn.v_proj.base_layer.weight: False\n",
      "base_model.model.model.layers.2.self_attn.v_proj.lora_A.default.weight: True\n",
      "base_model.model.model.layers.2.self_attn.v_proj.lora_B.default.weight: True\n",
      "base_model.model.model.layers.2.self_attn.o_proj.base_layer.weight: False\n",
      "base_model.model.model.layers.2.self_attn.o_proj.lora_A.default.weight: True\n",
      "base_model.model.model.layers.2.self_attn.o_proj.lora_B.default.weight: True\n",
      "base_model.model.model.layers.2.mlp.gate_proj.base_layer.weight: False\n",
      "base_model.model.model.layers.2.mlp.gate_proj.lora_A.default.weight: True\n",
      "base_model.model.model.layers.2.mlp.gate_proj.lora_B.default.weight: True\n",
      "base_model.model.model.layers.2.mlp.up_proj.base_layer.weight: False\n",
      "base_model.model.model.layers.2.mlp.up_proj.lora_A.default.weight: True\n",
      "base_model.model.model.layers.2.mlp.up_proj.lora_B.default.weight: True\n",
      "base_model.model.model.layers.2.mlp.down_proj.base_layer.weight: False\n",
      "base_model.model.model.layers.2.mlp.down_proj.lora_A.default.weight: True\n",
      "base_model.model.model.layers.2.mlp.down_proj.lora_B.default.weight: True\n",
      "base_model.model.model.layers.2.input_layernorm.weight: False\n",
      "base_model.model.model.layers.2.post_attention_layernorm.weight: False\n",
      "base_model.model.model.layers.2.pre_feedforward_layernorm.weight: False\n",
      "base_model.model.model.layers.2.post_feedforward_layernorm.weight: False\n",
      "base_model.model.model.layers.3.self_attn.q_proj.base_layer.weight: False\n",
      "base_model.model.model.layers.3.self_attn.q_proj.lora_A.default.weight: True\n",
      "base_model.model.model.layers.3.self_attn.q_proj.lora_B.default.weight: True\n",
      "base_model.model.model.layers.3.self_attn.k_proj.base_layer.weight: False\n",
      "base_model.model.model.layers.3.self_attn.k_proj.lora_A.default.weight: True\n",
      "base_model.model.model.layers.3.self_attn.k_proj.lora_B.default.weight: True\n",
      "base_model.model.model.layers.3.self_attn.v_proj.base_layer.weight: False\n",
      "base_model.model.model.layers.3.self_attn.v_proj.lora_A.default.weight: True\n",
      "base_model.model.model.layers.3.self_attn.v_proj.lora_B.default.weight: True\n",
      "base_model.model.model.layers.3.self_attn.o_proj.base_layer.weight: False\n",
      "base_model.model.model.layers.3.self_attn.o_proj.lora_A.default.weight: True\n",
      "base_model.model.model.layers.3.self_attn.o_proj.lora_B.default.weight: True\n",
      "base_model.model.model.layers.3.mlp.gate_proj.base_layer.weight: False\n",
      "base_model.model.model.layers.3.mlp.gate_proj.lora_A.default.weight: True\n",
      "base_model.model.model.layers.3.mlp.gate_proj.lora_B.default.weight: True\n",
      "base_model.model.model.layers.3.mlp.up_proj.base_layer.weight: False\n",
      "base_model.model.model.layers.3.mlp.up_proj.lora_A.default.weight: True\n",
      "base_model.model.model.layers.3.mlp.up_proj.lora_B.default.weight: True\n",
      "base_model.model.model.layers.3.mlp.down_proj.base_layer.weight: False\n",
      "base_model.model.model.layers.3.mlp.down_proj.lora_A.default.weight: True\n",
      "base_model.model.model.layers.3.mlp.down_proj.lora_B.default.weight: True\n",
      "base_model.model.model.layers.3.input_layernorm.weight: False\n",
      "base_model.model.model.layers.3.post_attention_layernorm.weight: False\n",
      "base_model.model.model.layers.3.pre_feedforward_layernorm.weight: False\n",
      "base_model.model.model.layers.3.post_feedforward_layernorm.weight: False\n",
      "base_model.model.model.layers.4.self_attn.q_proj.base_layer.weight: False\n",
      "base_model.model.model.layers.4.self_attn.q_proj.lora_A.default.weight: True\n",
      "base_model.model.model.layers.4.self_attn.q_proj.lora_B.default.weight: True\n",
      "base_model.model.model.layers.4.self_attn.k_proj.base_layer.weight: False\n",
      "base_model.model.model.layers.4.self_attn.k_proj.lora_A.default.weight: True\n",
      "base_model.model.model.layers.4.self_attn.k_proj.lora_B.default.weight: True\n",
      "base_model.model.model.layers.4.self_attn.v_proj.base_layer.weight: False\n",
      "base_model.model.model.layers.4.self_attn.v_proj.lora_A.default.weight: True\n",
      "base_model.model.model.layers.4.self_attn.v_proj.lora_B.default.weight: True\n",
      "base_model.model.model.layers.4.self_attn.o_proj.base_layer.weight: False\n",
      "base_model.model.model.layers.4.self_attn.o_proj.lora_A.default.weight: True\n",
      "base_model.model.model.layers.4.self_attn.o_proj.lora_B.default.weight: True\n",
      "base_model.model.model.layers.4.mlp.gate_proj.base_layer.weight: False\n",
      "base_model.model.model.layers.4.mlp.gate_proj.lora_A.default.weight: True\n",
      "base_model.model.model.layers.4.mlp.gate_proj.lora_B.default.weight: True\n",
      "base_model.model.model.layers.4.mlp.up_proj.base_layer.weight: False\n",
      "base_model.model.model.layers.4.mlp.up_proj.lora_A.default.weight: True\n",
      "base_model.model.model.layers.4.mlp.up_proj.lora_B.default.weight: True\n",
      "base_model.model.model.layers.4.mlp.down_proj.base_layer.weight: False\n",
      "base_model.model.model.layers.4.mlp.down_proj.lora_A.default.weight: True\n",
      "base_model.model.model.layers.4.mlp.down_proj.lora_B.default.weight: True\n",
      "base_model.model.model.layers.4.input_layernorm.weight: False\n",
      "base_model.model.model.layers.4.post_attention_layernorm.weight: False\n",
      "base_model.model.model.layers.4.pre_feedforward_layernorm.weight: False\n",
      "base_model.model.model.layers.4.post_feedforward_layernorm.weight: False\n",
      "base_model.model.model.layers.5.self_attn.q_proj.base_layer.weight: False\n",
      "base_model.model.model.layers.5.self_attn.q_proj.lora_A.default.weight: True\n",
      "base_model.model.model.layers.5.self_attn.q_proj.lora_B.default.weight: True\n",
      "base_model.model.model.layers.5.self_attn.k_proj.base_layer.weight: False\n",
      "base_model.model.model.layers.5.self_attn.k_proj.lora_A.default.weight: True\n",
      "base_model.model.model.layers.5.self_attn.k_proj.lora_B.default.weight: True\n",
      "base_model.model.model.layers.5.self_attn.v_proj.base_layer.weight: False\n",
      "base_model.model.model.layers.5.self_attn.v_proj.lora_A.default.weight: True\n",
      "base_model.model.model.layers.5.self_attn.v_proj.lora_B.default.weight: True\n",
      "base_model.model.model.layers.5.self_attn.o_proj.base_layer.weight: False\n",
      "base_model.model.model.layers.5.self_attn.o_proj.lora_A.default.weight: True\n",
      "base_model.model.model.layers.5.self_attn.o_proj.lora_B.default.weight: True\n",
      "base_model.model.model.layers.5.mlp.gate_proj.base_layer.weight: False\n",
      "base_model.model.model.layers.5.mlp.gate_proj.lora_A.default.weight: True\n",
      "base_model.model.model.layers.5.mlp.gate_proj.lora_B.default.weight: True\n",
      "base_model.model.model.layers.5.mlp.up_proj.base_layer.weight: False\n",
      "base_model.model.model.layers.5.mlp.up_proj.lora_A.default.weight: True\n",
      "base_model.model.model.layers.5.mlp.up_proj.lora_B.default.weight: True\n",
      "base_model.model.model.layers.5.mlp.down_proj.base_layer.weight: False\n",
      "base_model.model.model.layers.5.mlp.down_proj.lora_A.default.weight: True\n",
      "base_model.model.model.layers.5.mlp.down_proj.lora_B.default.weight: True\n",
      "base_model.model.model.layers.5.input_layernorm.weight: False\n",
      "base_model.model.model.layers.5.post_attention_layernorm.weight: False\n",
      "base_model.model.model.layers.5.pre_feedforward_layernorm.weight: False\n",
      "base_model.model.model.layers.5.post_feedforward_layernorm.weight: False\n",
      "base_model.model.model.layers.6.self_attn.q_proj.base_layer.weight: False\n",
      "base_model.model.model.layers.6.self_attn.q_proj.lora_A.default.weight: True\n",
      "base_model.model.model.layers.6.self_attn.q_proj.lora_B.default.weight: True\n",
      "base_model.model.model.layers.6.self_attn.k_proj.base_layer.weight: False\n",
      "base_model.model.model.layers.6.self_attn.k_proj.lora_A.default.weight: True\n",
      "base_model.model.model.layers.6.self_attn.k_proj.lora_B.default.weight: True\n",
      "base_model.model.model.layers.6.self_attn.v_proj.base_layer.weight: False\n",
      "base_model.model.model.layers.6.self_attn.v_proj.lora_A.default.weight: True\n",
      "base_model.model.model.layers.6.self_attn.v_proj.lora_B.default.weight: True\n",
      "base_model.model.model.layers.6.self_attn.o_proj.base_layer.weight: False\n",
      "base_model.model.model.layers.6.self_attn.o_proj.lora_A.default.weight: True\n",
      "base_model.model.model.layers.6.self_attn.o_proj.lora_B.default.weight: True\n",
      "base_model.model.model.layers.6.mlp.gate_proj.base_layer.weight: False\n",
      "base_model.model.model.layers.6.mlp.gate_proj.lora_A.default.weight: True\n",
      "base_model.model.model.layers.6.mlp.gate_proj.lora_B.default.weight: True\n",
      "base_model.model.model.layers.6.mlp.up_proj.base_layer.weight: False\n",
      "base_model.model.model.layers.6.mlp.up_proj.lora_A.default.weight: True\n",
      "base_model.model.model.layers.6.mlp.up_proj.lora_B.default.weight: True\n",
      "base_model.model.model.layers.6.mlp.down_proj.base_layer.weight: False\n",
      "base_model.model.model.layers.6.mlp.down_proj.lora_A.default.weight: True\n",
      "base_model.model.model.layers.6.mlp.down_proj.lora_B.default.weight: True\n",
      "base_model.model.model.layers.6.input_layernorm.weight: False\n",
      "base_model.model.model.layers.6.post_attention_layernorm.weight: False\n",
      "base_model.model.model.layers.6.pre_feedforward_layernorm.weight: False\n",
      "base_model.model.model.layers.6.post_feedforward_layernorm.weight: False\n",
      "base_model.model.model.layers.7.self_attn.q_proj.base_layer.weight: False\n",
      "base_model.model.model.layers.7.self_attn.q_proj.lora_A.default.weight: True\n",
      "base_model.model.model.layers.7.self_attn.q_proj.lora_B.default.weight: True\n",
      "base_model.model.model.layers.7.self_attn.k_proj.base_layer.weight: False\n",
      "base_model.model.model.layers.7.self_attn.k_proj.lora_A.default.weight: True\n",
      "base_model.model.model.layers.7.self_attn.k_proj.lora_B.default.weight: True\n",
      "base_model.model.model.layers.7.self_attn.v_proj.base_layer.weight: False\n",
      "base_model.model.model.layers.7.self_attn.v_proj.lora_A.default.weight: True\n",
      "base_model.model.model.layers.7.self_attn.v_proj.lora_B.default.weight: True\n",
      "base_model.model.model.layers.7.self_attn.o_proj.base_layer.weight: False\n",
      "base_model.model.model.layers.7.self_attn.o_proj.lora_A.default.weight: True\n",
      "base_model.model.model.layers.7.self_attn.o_proj.lora_B.default.weight: True\n",
      "base_model.model.model.layers.7.mlp.gate_proj.base_layer.weight: False\n",
      "base_model.model.model.layers.7.mlp.gate_proj.lora_A.default.weight: True\n",
      "base_model.model.model.layers.7.mlp.gate_proj.lora_B.default.weight: True\n",
      "base_model.model.model.layers.7.mlp.up_proj.base_layer.weight: False\n",
      "base_model.model.model.layers.7.mlp.up_proj.lora_A.default.weight: True\n",
      "base_model.model.model.layers.7.mlp.up_proj.lora_B.default.weight: True\n",
      "base_model.model.model.layers.7.mlp.down_proj.base_layer.weight: False\n",
      "base_model.model.model.layers.7.mlp.down_proj.lora_A.default.weight: True\n",
      "base_model.model.model.layers.7.mlp.down_proj.lora_B.default.weight: True\n",
      "base_model.model.model.layers.7.input_layernorm.weight: False\n",
      "base_model.model.model.layers.7.post_attention_layernorm.weight: False\n",
      "base_model.model.model.layers.7.pre_feedforward_layernorm.weight: False\n",
      "base_model.model.model.layers.7.post_feedforward_layernorm.weight: False\n",
      "base_model.model.model.layers.8.self_attn.q_proj.base_layer.weight: False\n",
      "base_model.model.model.layers.8.self_attn.q_proj.lora_A.default.weight: True\n",
      "base_model.model.model.layers.8.self_attn.q_proj.lora_B.default.weight: True\n",
      "base_model.model.model.layers.8.self_attn.k_proj.base_layer.weight: False\n",
      "base_model.model.model.layers.8.self_attn.k_proj.lora_A.default.weight: True\n",
      "base_model.model.model.layers.8.self_attn.k_proj.lora_B.default.weight: True\n",
      "base_model.model.model.layers.8.self_attn.v_proj.base_layer.weight: False\n",
      "base_model.model.model.layers.8.self_attn.v_proj.lora_A.default.weight: True\n",
      "base_model.model.model.layers.8.self_attn.v_proj.lora_B.default.weight: True\n",
      "base_model.model.model.layers.8.self_attn.o_proj.base_layer.weight: False\n",
      "base_model.model.model.layers.8.self_attn.o_proj.lora_A.default.weight: True\n",
      "base_model.model.model.layers.8.self_attn.o_proj.lora_B.default.weight: True\n",
      "base_model.model.model.layers.8.mlp.gate_proj.base_layer.weight: False\n",
      "base_model.model.model.layers.8.mlp.gate_proj.lora_A.default.weight: True\n",
      "base_model.model.model.layers.8.mlp.gate_proj.lora_B.default.weight: True\n",
      "base_model.model.model.layers.8.mlp.up_proj.base_layer.weight: False\n",
      "base_model.model.model.layers.8.mlp.up_proj.lora_A.default.weight: True\n",
      "base_model.model.model.layers.8.mlp.up_proj.lora_B.default.weight: True\n",
      "base_model.model.model.layers.8.mlp.down_proj.base_layer.weight: False\n",
      "base_model.model.model.layers.8.mlp.down_proj.lora_A.default.weight: True\n",
      "base_model.model.model.layers.8.mlp.down_proj.lora_B.default.weight: True\n",
      "base_model.model.model.layers.8.input_layernorm.weight: False\n",
      "base_model.model.model.layers.8.post_attention_layernorm.weight: False\n",
      "base_model.model.model.layers.8.pre_feedforward_layernorm.weight: False\n",
      "base_model.model.model.layers.8.post_feedforward_layernorm.weight: False\n",
      "base_model.model.model.layers.9.self_attn.q_proj.base_layer.weight: False\n",
      "base_model.model.model.layers.9.self_attn.q_proj.lora_A.default.weight: True\n",
      "base_model.model.model.layers.9.self_attn.q_proj.lora_B.default.weight: True\n",
      "base_model.model.model.layers.9.self_attn.k_proj.base_layer.weight: False\n",
      "base_model.model.model.layers.9.self_attn.k_proj.lora_A.default.weight: True\n",
      "base_model.model.model.layers.9.self_attn.k_proj.lora_B.default.weight: True\n",
      "base_model.model.model.layers.9.self_attn.v_proj.base_layer.weight: False\n",
      "base_model.model.model.layers.9.self_attn.v_proj.lora_A.default.weight: True\n",
      "base_model.model.model.layers.9.self_attn.v_proj.lora_B.default.weight: True\n",
      "base_model.model.model.layers.9.self_attn.o_proj.base_layer.weight: False\n",
      "base_model.model.model.layers.9.self_attn.o_proj.lora_A.default.weight: True\n",
      "base_model.model.model.layers.9.self_attn.o_proj.lora_B.default.weight: True\n",
      "base_model.model.model.layers.9.mlp.gate_proj.base_layer.weight: False\n",
      "base_model.model.model.layers.9.mlp.gate_proj.lora_A.default.weight: True\n",
      "base_model.model.model.layers.9.mlp.gate_proj.lora_B.default.weight: True\n",
      "base_model.model.model.layers.9.mlp.up_proj.base_layer.weight: False\n",
      "base_model.model.model.layers.9.mlp.up_proj.lora_A.default.weight: True\n",
      "base_model.model.model.layers.9.mlp.up_proj.lora_B.default.weight: True\n",
      "base_model.model.model.layers.9.mlp.down_proj.base_layer.weight: False\n",
      "base_model.model.model.layers.9.mlp.down_proj.lora_A.default.weight: True\n",
      "base_model.model.model.layers.9.mlp.down_proj.lora_B.default.weight: True\n",
      "base_model.model.model.layers.9.input_layernorm.weight: False\n",
      "base_model.model.model.layers.9.post_attention_layernorm.weight: False\n",
      "base_model.model.model.layers.9.pre_feedforward_layernorm.weight: False\n",
      "base_model.model.model.layers.9.post_feedforward_layernorm.weight: False\n",
      "base_model.model.model.layers.10.self_attn.q_proj.base_layer.weight: False\n",
      "base_model.model.model.layers.10.self_attn.q_proj.lora_A.default.weight: True\n",
      "base_model.model.model.layers.10.self_attn.q_proj.lora_B.default.weight: True\n",
      "base_model.model.model.layers.10.self_attn.k_proj.base_layer.weight: False\n",
      "base_model.model.model.layers.10.self_attn.k_proj.lora_A.default.weight: True\n",
      "base_model.model.model.layers.10.self_attn.k_proj.lora_B.default.weight: True\n",
      "base_model.model.model.layers.10.self_attn.v_proj.base_layer.weight: False\n",
      "base_model.model.model.layers.10.self_attn.v_proj.lora_A.default.weight: True\n",
      "base_model.model.model.layers.10.self_attn.v_proj.lora_B.default.weight: True\n",
      "base_model.model.model.layers.10.self_attn.o_proj.base_layer.weight: False\n",
      "base_model.model.model.layers.10.self_attn.o_proj.lora_A.default.weight: True\n",
      "base_model.model.model.layers.10.self_attn.o_proj.lora_B.default.weight: True\n",
      "base_model.model.model.layers.10.mlp.gate_proj.base_layer.weight: False\n",
      "base_model.model.model.layers.10.mlp.gate_proj.lora_A.default.weight: True\n",
      "base_model.model.model.layers.10.mlp.gate_proj.lora_B.default.weight: True\n",
      "base_model.model.model.layers.10.mlp.up_proj.base_layer.weight: False\n",
      "base_model.model.model.layers.10.mlp.up_proj.lora_A.default.weight: True\n",
      "base_model.model.model.layers.10.mlp.up_proj.lora_B.default.weight: True\n",
      "base_model.model.model.layers.10.mlp.down_proj.base_layer.weight: False\n",
      "base_model.model.model.layers.10.mlp.down_proj.lora_A.default.weight: True\n",
      "base_model.model.model.layers.10.mlp.down_proj.lora_B.default.weight: True\n",
      "base_model.model.model.layers.10.input_layernorm.weight: False\n",
      "base_model.model.model.layers.10.post_attention_layernorm.weight: False\n",
      "base_model.model.model.layers.10.pre_feedforward_layernorm.weight: False\n",
      "base_model.model.model.layers.10.post_feedforward_layernorm.weight: False\n",
      "base_model.model.model.layers.11.self_attn.q_proj.base_layer.weight: False\n",
      "base_model.model.model.layers.11.self_attn.q_proj.lora_A.default.weight: True\n",
      "base_model.model.model.layers.11.self_attn.q_proj.lora_B.default.weight: True\n",
      "base_model.model.model.layers.11.self_attn.k_proj.base_layer.weight: False\n",
      "base_model.model.model.layers.11.self_attn.k_proj.lora_A.default.weight: True\n",
      "base_model.model.model.layers.11.self_attn.k_proj.lora_B.default.weight: True\n",
      "base_model.model.model.layers.11.self_attn.v_proj.base_layer.weight: False\n",
      "base_model.model.model.layers.11.self_attn.v_proj.lora_A.default.weight: True\n",
      "base_model.model.model.layers.11.self_attn.v_proj.lora_B.default.weight: True\n",
      "base_model.model.model.layers.11.self_attn.o_proj.base_layer.weight: False\n",
      "base_model.model.model.layers.11.self_attn.o_proj.lora_A.default.weight: True\n",
      "base_model.model.model.layers.11.self_attn.o_proj.lora_B.default.weight: True\n",
      "base_model.model.model.layers.11.mlp.gate_proj.base_layer.weight: False\n",
      "base_model.model.model.layers.11.mlp.gate_proj.lora_A.default.weight: True\n",
      "base_model.model.model.layers.11.mlp.gate_proj.lora_B.default.weight: True\n",
      "base_model.model.model.layers.11.mlp.up_proj.base_layer.weight: False\n",
      "base_model.model.model.layers.11.mlp.up_proj.lora_A.default.weight: True\n",
      "base_model.model.model.layers.11.mlp.up_proj.lora_B.default.weight: True\n",
      "base_model.model.model.layers.11.mlp.down_proj.base_layer.weight: False\n",
      "base_model.model.model.layers.11.mlp.down_proj.lora_A.default.weight: True\n",
      "base_model.model.model.layers.11.mlp.down_proj.lora_B.default.weight: True\n",
      "base_model.model.model.layers.11.input_layernorm.weight: False\n",
      "base_model.model.model.layers.11.post_attention_layernorm.weight: False\n",
      "base_model.model.model.layers.11.pre_feedforward_layernorm.weight: False\n",
      "base_model.model.model.layers.11.post_feedforward_layernorm.weight: False\n",
      "base_model.model.model.layers.12.self_attn.q_proj.base_layer.weight: False\n",
      "base_model.model.model.layers.12.self_attn.q_proj.lora_A.default.weight: True\n",
      "base_model.model.model.layers.12.self_attn.q_proj.lora_B.default.weight: True\n",
      "base_model.model.model.layers.12.self_attn.k_proj.base_layer.weight: False\n",
      "base_model.model.model.layers.12.self_attn.k_proj.lora_A.default.weight: True\n",
      "base_model.model.model.layers.12.self_attn.k_proj.lora_B.default.weight: True\n",
      "base_model.model.model.layers.12.self_attn.v_proj.base_layer.weight: False\n",
      "base_model.model.model.layers.12.self_attn.v_proj.lora_A.default.weight: True\n",
      "base_model.model.model.layers.12.self_attn.v_proj.lora_B.default.weight: True\n",
      "base_model.model.model.layers.12.self_attn.o_proj.base_layer.weight: False\n",
      "base_model.model.model.layers.12.self_attn.o_proj.lora_A.default.weight: True\n",
      "base_model.model.model.layers.12.self_attn.o_proj.lora_B.default.weight: True\n",
      "base_model.model.model.layers.12.mlp.gate_proj.base_layer.weight: False\n",
      "base_model.model.model.layers.12.mlp.gate_proj.lora_A.default.weight: True\n",
      "base_model.model.model.layers.12.mlp.gate_proj.lora_B.default.weight: True\n",
      "base_model.model.model.layers.12.mlp.up_proj.base_layer.weight: False\n",
      "base_model.model.model.layers.12.mlp.up_proj.lora_A.default.weight: True\n",
      "base_model.model.model.layers.12.mlp.up_proj.lora_B.default.weight: True\n",
      "base_model.model.model.layers.12.mlp.down_proj.base_layer.weight: False\n",
      "base_model.model.model.layers.12.mlp.down_proj.lora_A.default.weight: True\n",
      "base_model.model.model.layers.12.mlp.down_proj.lora_B.default.weight: True\n",
      "base_model.model.model.layers.12.input_layernorm.weight: False\n",
      "base_model.model.model.layers.12.post_attention_layernorm.weight: False\n",
      "base_model.model.model.layers.12.pre_feedforward_layernorm.weight: False\n",
      "base_model.model.model.layers.12.post_feedforward_layernorm.weight: False\n",
      "base_model.model.model.layers.13.self_attn.q_proj.base_layer.weight: False\n",
      "base_model.model.model.layers.13.self_attn.q_proj.lora_A.default.weight: True\n",
      "base_model.model.model.layers.13.self_attn.q_proj.lora_B.default.weight: True\n",
      "base_model.model.model.layers.13.self_attn.k_proj.base_layer.weight: False\n",
      "base_model.model.model.layers.13.self_attn.k_proj.lora_A.default.weight: True\n",
      "base_model.model.model.layers.13.self_attn.k_proj.lora_B.default.weight: True\n",
      "base_model.model.model.layers.13.self_attn.v_proj.base_layer.weight: False\n",
      "base_model.model.model.layers.13.self_attn.v_proj.lora_A.default.weight: True\n",
      "base_model.model.model.layers.13.self_attn.v_proj.lora_B.default.weight: True\n",
      "base_model.model.model.layers.13.self_attn.o_proj.base_layer.weight: False\n",
      "base_model.model.model.layers.13.self_attn.o_proj.lora_A.default.weight: True\n",
      "base_model.model.model.layers.13.self_attn.o_proj.lora_B.default.weight: True\n",
      "base_model.model.model.layers.13.mlp.gate_proj.base_layer.weight: False\n",
      "base_model.model.model.layers.13.mlp.gate_proj.lora_A.default.weight: True\n",
      "base_model.model.model.layers.13.mlp.gate_proj.lora_B.default.weight: True\n",
      "base_model.model.model.layers.13.mlp.up_proj.base_layer.weight: False\n",
      "base_model.model.model.layers.13.mlp.up_proj.lora_A.default.weight: True\n",
      "base_model.model.model.layers.13.mlp.up_proj.lora_B.default.weight: True\n",
      "base_model.model.model.layers.13.mlp.down_proj.base_layer.weight: False\n",
      "base_model.model.model.layers.13.mlp.down_proj.lora_A.default.weight: True\n",
      "base_model.model.model.layers.13.mlp.down_proj.lora_B.default.weight: True\n",
      "base_model.model.model.layers.13.input_layernorm.weight: False\n",
      "base_model.model.model.layers.13.post_attention_layernorm.weight: False\n",
      "base_model.model.model.layers.13.pre_feedforward_layernorm.weight: False\n",
      "base_model.model.model.layers.13.post_feedforward_layernorm.weight: False\n",
      "base_model.model.model.layers.14.self_attn.q_proj.base_layer.weight: False\n",
      "base_model.model.model.layers.14.self_attn.q_proj.lora_A.default.weight: True\n",
      "base_model.model.model.layers.14.self_attn.q_proj.lora_B.default.weight: True\n",
      "base_model.model.model.layers.14.self_attn.k_proj.base_layer.weight: False\n",
      "base_model.model.model.layers.14.self_attn.k_proj.lora_A.default.weight: True\n",
      "base_model.model.model.layers.14.self_attn.k_proj.lora_B.default.weight: True\n",
      "base_model.model.model.layers.14.self_attn.v_proj.base_layer.weight: False\n",
      "base_model.model.model.layers.14.self_attn.v_proj.lora_A.default.weight: True\n",
      "base_model.model.model.layers.14.self_attn.v_proj.lora_B.default.weight: True\n",
      "base_model.model.model.layers.14.self_attn.o_proj.base_layer.weight: False\n",
      "base_model.model.model.layers.14.self_attn.o_proj.lora_A.default.weight: True\n",
      "base_model.model.model.layers.14.self_attn.o_proj.lora_B.default.weight: True\n",
      "base_model.model.model.layers.14.mlp.gate_proj.base_layer.weight: False\n",
      "base_model.model.model.layers.14.mlp.gate_proj.lora_A.default.weight: True\n",
      "base_model.model.model.layers.14.mlp.gate_proj.lora_B.default.weight: True\n",
      "base_model.model.model.layers.14.mlp.up_proj.base_layer.weight: False\n",
      "base_model.model.model.layers.14.mlp.up_proj.lora_A.default.weight: True\n",
      "base_model.model.model.layers.14.mlp.up_proj.lora_B.default.weight: True\n",
      "base_model.model.model.layers.14.mlp.down_proj.base_layer.weight: False\n",
      "base_model.model.model.layers.14.mlp.down_proj.lora_A.default.weight: True\n",
      "base_model.model.model.layers.14.mlp.down_proj.lora_B.default.weight: True\n",
      "base_model.model.model.layers.14.input_layernorm.weight: False\n",
      "base_model.model.model.layers.14.post_attention_layernorm.weight: False\n",
      "base_model.model.model.layers.14.pre_feedforward_layernorm.weight: False\n",
      "base_model.model.model.layers.14.post_feedforward_layernorm.weight: False\n",
      "base_model.model.model.layers.15.self_attn.q_proj.base_layer.weight: False\n",
      "base_model.model.model.layers.15.self_attn.q_proj.lora_A.default.weight: True\n",
      "base_model.model.model.layers.15.self_attn.q_proj.lora_B.default.weight: True\n",
      "base_model.model.model.layers.15.self_attn.k_proj.base_layer.weight: False\n",
      "base_model.model.model.layers.15.self_attn.k_proj.lora_A.default.weight: True\n",
      "base_model.model.model.layers.15.self_attn.k_proj.lora_B.default.weight: True\n",
      "base_model.model.model.layers.15.self_attn.v_proj.base_layer.weight: False\n",
      "base_model.model.model.layers.15.self_attn.v_proj.lora_A.default.weight: True\n",
      "base_model.model.model.layers.15.self_attn.v_proj.lora_B.default.weight: True\n",
      "base_model.model.model.layers.15.self_attn.o_proj.base_layer.weight: False\n",
      "base_model.model.model.layers.15.self_attn.o_proj.lora_A.default.weight: True\n",
      "base_model.model.model.layers.15.self_attn.o_proj.lora_B.default.weight: True\n",
      "base_model.model.model.layers.15.mlp.gate_proj.base_layer.weight: False\n",
      "base_model.model.model.layers.15.mlp.gate_proj.lora_A.default.weight: True\n",
      "base_model.model.model.layers.15.mlp.gate_proj.lora_B.default.weight: True\n",
      "base_model.model.model.layers.15.mlp.up_proj.base_layer.weight: False\n",
      "base_model.model.model.layers.15.mlp.up_proj.lora_A.default.weight: True\n",
      "base_model.model.model.layers.15.mlp.up_proj.lora_B.default.weight: True\n",
      "base_model.model.model.layers.15.mlp.down_proj.base_layer.weight: False\n",
      "base_model.model.model.layers.15.mlp.down_proj.lora_A.default.weight: True\n",
      "base_model.model.model.layers.15.mlp.down_proj.lora_B.default.weight: True\n",
      "base_model.model.model.layers.15.input_layernorm.weight: False\n",
      "base_model.model.model.layers.15.post_attention_layernorm.weight: False\n",
      "base_model.model.model.layers.15.pre_feedforward_layernorm.weight: False\n",
      "base_model.model.model.layers.15.post_feedforward_layernorm.weight: False\n",
      "base_model.model.model.layers.16.self_attn.q_proj.base_layer.weight: False\n",
      "base_model.model.model.layers.16.self_attn.q_proj.lora_A.default.weight: True\n",
      "base_model.model.model.layers.16.self_attn.q_proj.lora_B.default.weight: True\n",
      "base_model.model.model.layers.16.self_attn.k_proj.base_layer.weight: False\n",
      "base_model.model.model.layers.16.self_attn.k_proj.lora_A.default.weight: True\n",
      "base_model.model.model.layers.16.self_attn.k_proj.lora_B.default.weight: True\n",
      "base_model.model.model.layers.16.self_attn.v_proj.base_layer.weight: False\n",
      "base_model.model.model.layers.16.self_attn.v_proj.lora_A.default.weight: True\n",
      "base_model.model.model.layers.16.self_attn.v_proj.lora_B.default.weight: True\n",
      "base_model.model.model.layers.16.self_attn.o_proj.base_layer.weight: False\n",
      "base_model.model.model.layers.16.self_attn.o_proj.lora_A.default.weight: True\n",
      "base_model.model.model.layers.16.self_attn.o_proj.lora_B.default.weight: True\n",
      "base_model.model.model.layers.16.mlp.gate_proj.base_layer.weight: False\n",
      "base_model.model.model.layers.16.mlp.gate_proj.lora_A.default.weight: True\n",
      "base_model.model.model.layers.16.mlp.gate_proj.lora_B.default.weight: True\n",
      "base_model.model.model.layers.16.mlp.up_proj.base_layer.weight: False\n",
      "base_model.model.model.layers.16.mlp.up_proj.lora_A.default.weight: True\n",
      "base_model.model.model.layers.16.mlp.up_proj.lora_B.default.weight: True\n",
      "base_model.model.model.layers.16.mlp.down_proj.base_layer.weight: False\n",
      "base_model.model.model.layers.16.mlp.down_proj.lora_A.default.weight: True\n",
      "base_model.model.model.layers.16.mlp.down_proj.lora_B.default.weight: True\n",
      "base_model.model.model.layers.16.input_layernorm.weight: False\n",
      "base_model.model.model.layers.16.post_attention_layernorm.weight: False\n",
      "base_model.model.model.layers.16.pre_feedforward_layernorm.weight: False\n",
      "base_model.model.model.layers.16.post_feedforward_layernorm.weight: False\n",
      "base_model.model.model.layers.17.self_attn.q_proj.base_layer.weight: False\n",
      "base_model.model.model.layers.17.self_attn.q_proj.lora_A.default.weight: True\n",
      "base_model.model.model.layers.17.self_attn.q_proj.lora_B.default.weight: True\n",
      "base_model.model.model.layers.17.self_attn.k_proj.base_layer.weight: False\n",
      "base_model.model.model.layers.17.self_attn.k_proj.lora_A.default.weight: True\n",
      "base_model.model.model.layers.17.self_attn.k_proj.lora_B.default.weight: True\n",
      "base_model.model.model.layers.17.self_attn.v_proj.base_layer.weight: False\n",
      "base_model.model.model.layers.17.self_attn.v_proj.lora_A.default.weight: True\n",
      "base_model.model.model.layers.17.self_attn.v_proj.lora_B.default.weight: True\n",
      "base_model.model.model.layers.17.self_attn.o_proj.base_layer.weight: False\n",
      "base_model.model.model.layers.17.self_attn.o_proj.lora_A.default.weight: True\n",
      "base_model.model.model.layers.17.self_attn.o_proj.lora_B.default.weight: True\n",
      "base_model.model.model.layers.17.mlp.gate_proj.base_layer.weight: False\n",
      "base_model.model.model.layers.17.mlp.gate_proj.lora_A.default.weight: True\n",
      "base_model.model.model.layers.17.mlp.gate_proj.lora_B.default.weight: True\n",
      "base_model.model.model.layers.17.mlp.up_proj.base_layer.weight: False\n",
      "base_model.model.model.layers.17.mlp.up_proj.lora_A.default.weight: True\n",
      "base_model.model.model.layers.17.mlp.up_proj.lora_B.default.weight: True\n",
      "base_model.model.model.layers.17.mlp.down_proj.base_layer.weight: False\n",
      "base_model.model.model.layers.17.mlp.down_proj.lora_A.default.weight: True\n",
      "base_model.model.model.layers.17.mlp.down_proj.lora_B.default.weight: True\n",
      "base_model.model.model.layers.17.input_layernorm.weight: False\n",
      "base_model.model.model.layers.17.post_attention_layernorm.weight: False\n",
      "base_model.model.model.layers.17.pre_feedforward_layernorm.weight: False\n",
      "base_model.model.model.layers.17.post_feedforward_layernorm.weight: False\n",
      "base_model.model.model.layers.18.self_attn.q_proj.base_layer.weight: False\n",
      "base_model.model.model.layers.18.self_attn.q_proj.lora_A.default.weight: True\n",
      "base_model.model.model.layers.18.self_attn.q_proj.lora_B.default.weight: True\n",
      "base_model.model.model.layers.18.self_attn.k_proj.base_layer.weight: False\n",
      "base_model.model.model.layers.18.self_attn.k_proj.lora_A.default.weight: True\n",
      "base_model.model.model.layers.18.self_attn.k_proj.lora_B.default.weight: True\n",
      "base_model.model.model.layers.18.self_attn.v_proj.base_layer.weight: False\n",
      "base_model.model.model.layers.18.self_attn.v_proj.lora_A.default.weight: True\n",
      "base_model.model.model.layers.18.self_attn.v_proj.lora_B.default.weight: True\n",
      "base_model.model.model.layers.18.self_attn.o_proj.base_layer.weight: False\n",
      "base_model.model.model.layers.18.self_attn.o_proj.lora_A.default.weight: True\n",
      "base_model.model.model.layers.18.self_attn.o_proj.lora_B.default.weight: True\n",
      "base_model.model.model.layers.18.mlp.gate_proj.base_layer.weight: False\n",
      "base_model.model.model.layers.18.mlp.gate_proj.lora_A.default.weight: True\n",
      "base_model.model.model.layers.18.mlp.gate_proj.lora_B.default.weight: True\n",
      "base_model.model.model.layers.18.mlp.up_proj.base_layer.weight: False\n",
      "base_model.model.model.layers.18.mlp.up_proj.lora_A.default.weight: True\n",
      "base_model.model.model.layers.18.mlp.up_proj.lora_B.default.weight: True\n",
      "base_model.model.model.layers.18.mlp.down_proj.base_layer.weight: False\n",
      "base_model.model.model.layers.18.mlp.down_proj.lora_A.default.weight: True\n",
      "base_model.model.model.layers.18.mlp.down_proj.lora_B.default.weight: True\n",
      "base_model.model.model.layers.18.input_layernorm.weight: False\n",
      "base_model.model.model.layers.18.post_attention_layernorm.weight: False\n",
      "base_model.model.model.layers.18.pre_feedforward_layernorm.weight: False\n",
      "base_model.model.model.layers.18.post_feedforward_layernorm.weight: False\n",
      "base_model.model.model.layers.19.self_attn.q_proj.base_layer.weight: False\n",
      "base_model.model.model.layers.19.self_attn.q_proj.lora_A.default.weight: True\n",
      "base_model.model.model.layers.19.self_attn.q_proj.lora_B.default.weight: True\n",
      "base_model.model.model.layers.19.self_attn.k_proj.base_layer.weight: False\n",
      "base_model.model.model.layers.19.self_attn.k_proj.lora_A.default.weight: True\n",
      "base_model.model.model.layers.19.self_attn.k_proj.lora_B.default.weight: True\n",
      "base_model.model.model.layers.19.self_attn.v_proj.base_layer.weight: False\n",
      "base_model.model.model.layers.19.self_attn.v_proj.lora_A.default.weight: True\n",
      "base_model.model.model.layers.19.self_attn.v_proj.lora_B.default.weight: True\n",
      "base_model.model.model.layers.19.self_attn.o_proj.base_layer.weight: False\n",
      "base_model.model.model.layers.19.self_attn.o_proj.lora_A.default.weight: True\n",
      "base_model.model.model.layers.19.self_attn.o_proj.lora_B.default.weight: True\n",
      "base_model.model.model.layers.19.mlp.gate_proj.base_layer.weight: False\n",
      "base_model.model.model.layers.19.mlp.gate_proj.lora_A.default.weight: True\n",
      "base_model.model.model.layers.19.mlp.gate_proj.lora_B.default.weight: True\n",
      "base_model.model.model.layers.19.mlp.up_proj.base_layer.weight: False\n",
      "base_model.model.model.layers.19.mlp.up_proj.lora_A.default.weight: True\n",
      "base_model.model.model.layers.19.mlp.up_proj.lora_B.default.weight: True\n",
      "base_model.model.model.layers.19.mlp.down_proj.base_layer.weight: False\n",
      "base_model.model.model.layers.19.mlp.down_proj.lora_A.default.weight: True\n",
      "base_model.model.model.layers.19.mlp.down_proj.lora_B.default.weight: True\n",
      "base_model.model.model.layers.19.input_layernorm.weight: False\n",
      "base_model.model.model.layers.19.post_attention_layernorm.weight: False\n",
      "base_model.model.model.layers.19.pre_feedforward_layernorm.weight: False\n",
      "base_model.model.model.layers.19.post_feedforward_layernorm.weight: False\n",
      "base_model.model.model.layers.20.self_attn.q_proj.base_layer.weight: False\n",
      "base_model.model.model.layers.20.self_attn.q_proj.lora_A.default.weight: True\n",
      "base_model.model.model.layers.20.self_attn.q_proj.lora_B.default.weight: True\n",
      "base_model.model.model.layers.20.self_attn.k_proj.base_layer.weight: False\n",
      "base_model.model.model.layers.20.self_attn.k_proj.lora_A.default.weight: True\n",
      "base_model.model.model.layers.20.self_attn.k_proj.lora_B.default.weight: True\n",
      "base_model.model.model.layers.20.self_attn.v_proj.base_layer.weight: False\n",
      "base_model.model.model.layers.20.self_attn.v_proj.lora_A.default.weight: True\n",
      "base_model.model.model.layers.20.self_attn.v_proj.lora_B.default.weight: True\n",
      "base_model.model.model.layers.20.self_attn.o_proj.base_layer.weight: False\n",
      "base_model.model.model.layers.20.self_attn.o_proj.lora_A.default.weight: True\n",
      "base_model.model.model.layers.20.self_attn.o_proj.lora_B.default.weight: True\n",
      "base_model.model.model.layers.20.mlp.gate_proj.base_layer.weight: False\n",
      "base_model.model.model.layers.20.mlp.gate_proj.lora_A.default.weight: True\n",
      "base_model.model.model.layers.20.mlp.gate_proj.lora_B.default.weight: True\n",
      "base_model.model.model.layers.20.mlp.up_proj.base_layer.weight: False\n",
      "base_model.model.model.layers.20.mlp.up_proj.lora_A.default.weight: True\n",
      "base_model.model.model.layers.20.mlp.up_proj.lora_B.default.weight: True\n",
      "base_model.model.model.layers.20.mlp.down_proj.base_layer.weight: False\n",
      "base_model.model.model.layers.20.mlp.down_proj.lora_A.default.weight: True\n",
      "base_model.model.model.layers.20.mlp.down_proj.lora_B.default.weight: True\n",
      "base_model.model.model.layers.20.input_layernorm.weight: False\n",
      "base_model.model.model.layers.20.post_attention_layernorm.weight: False\n",
      "base_model.model.model.layers.20.pre_feedforward_layernorm.weight: False\n",
      "base_model.model.model.layers.20.post_feedforward_layernorm.weight: False\n",
      "base_model.model.model.layers.21.self_attn.q_proj.base_layer.weight: False\n",
      "base_model.model.model.layers.21.self_attn.q_proj.lora_A.default.weight: True\n",
      "base_model.model.model.layers.21.self_attn.q_proj.lora_B.default.weight: True\n",
      "base_model.model.model.layers.21.self_attn.k_proj.base_layer.weight: False\n",
      "base_model.model.model.layers.21.self_attn.k_proj.lora_A.default.weight: True\n",
      "base_model.model.model.layers.21.self_attn.k_proj.lora_B.default.weight: True\n",
      "base_model.model.model.layers.21.self_attn.v_proj.base_layer.weight: False\n",
      "base_model.model.model.layers.21.self_attn.v_proj.lora_A.default.weight: True\n",
      "base_model.model.model.layers.21.self_attn.v_proj.lora_B.default.weight: True\n",
      "base_model.model.model.layers.21.self_attn.o_proj.base_layer.weight: False\n",
      "base_model.model.model.layers.21.self_attn.o_proj.lora_A.default.weight: True\n",
      "base_model.model.model.layers.21.self_attn.o_proj.lora_B.default.weight: True\n",
      "base_model.model.model.layers.21.mlp.gate_proj.base_layer.weight: False\n",
      "base_model.model.model.layers.21.mlp.gate_proj.lora_A.default.weight: True\n",
      "base_model.model.model.layers.21.mlp.gate_proj.lora_B.default.weight: True\n",
      "base_model.model.model.layers.21.mlp.up_proj.base_layer.weight: False\n",
      "base_model.model.model.layers.21.mlp.up_proj.lora_A.default.weight: True\n",
      "base_model.model.model.layers.21.mlp.up_proj.lora_B.default.weight: True\n",
      "base_model.model.model.layers.21.mlp.down_proj.base_layer.weight: False\n",
      "base_model.model.model.layers.21.mlp.down_proj.lora_A.default.weight: True\n",
      "base_model.model.model.layers.21.mlp.down_proj.lora_B.default.weight: True\n",
      "base_model.model.model.layers.21.input_layernorm.weight: False\n",
      "base_model.model.model.layers.21.post_attention_layernorm.weight: False\n",
      "base_model.model.model.layers.21.pre_feedforward_layernorm.weight: False\n",
      "base_model.model.model.layers.21.post_feedforward_layernorm.weight: False\n",
      "base_model.model.model.layers.22.self_attn.q_proj.base_layer.weight: False\n",
      "base_model.model.model.layers.22.self_attn.q_proj.lora_A.default.weight: True\n",
      "base_model.model.model.layers.22.self_attn.q_proj.lora_B.default.weight: True\n",
      "base_model.model.model.layers.22.self_attn.k_proj.base_layer.weight: False\n",
      "base_model.model.model.layers.22.self_attn.k_proj.lora_A.default.weight: True\n",
      "base_model.model.model.layers.22.self_attn.k_proj.lora_B.default.weight: True\n",
      "base_model.model.model.layers.22.self_attn.v_proj.base_layer.weight: False\n",
      "base_model.model.model.layers.22.self_attn.v_proj.lora_A.default.weight: True\n",
      "base_model.model.model.layers.22.self_attn.v_proj.lora_B.default.weight: True\n",
      "base_model.model.model.layers.22.self_attn.o_proj.base_layer.weight: False\n",
      "base_model.model.model.layers.22.self_attn.o_proj.lora_A.default.weight: True\n",
      "base_model.model.model.layers.22.self_attn.o_proj.lora_B.default.weight: True\n",
      "base_model.model.model.layers.22.mlp.gate_proj.base_layer.weight: False\n",
      "base_model.model.model.layers.22.mlp.gate_proj.lora_A.default.weight: True\n",
      "base_model.model.model.layers.22.mlp.gate_proj.lora_B.default.weight: True\n",
      "base_model.model.model.layers.22.mlp.up_proj.base_layer.weight: False\n",
      "base_model.model.model.layers.22.mlp.up_proj.lora_A.default.weight: True\n",
      "base_model.model.model.layers.22.mlp.up_proj.lora_B.default.weight: True\n",
      "base_model.model.model.layers.22.mlp.down_proj.base_layer.weight: False\n",
      "base_model.model.model.layers.22.mlp.down_proj.lora_A.default.weight: True\n",
      "base_model.model.model.layers.22.mlp.down_proj.lora_B.default.weight: True\n",
      "base_model.model.model.layers.22.input_layernorm.weight: False\n",
      "base_model.model.model.layers.22.post_attention_layernorm.weight: False\n",
      "base_model.model.model.layers.22.pre_feedforward_layernorm.weight: False\n",
      "base_model.model.model.layers.22.post_feedforward_layernorm.weight: False\n",
      "base_model.model.model.layers.23.self_attn.q_proj.base_layer.weight: False\n",
      "base_model.model.model.layers.23.self_attn.q_proj.lora_A.default.weight: True\n",
      "base_model.model.model.layers.23.self_attn.q_proj.lora_B.default.weight: True\n",
      "base_model.model.model.layers.23.self_attn.k_proj.base_layer.weight: False\n",
      "base_model.model.model.layers.23.self_attn.k_proj.lora_A.default.weight: True\n",
      "base_model.model.model.layers.23.self_attn.k_proj.lora_B.default.weight: True\n",
      "base_model.model.model.layers.23.self_attn.v_proj.base_layer.weight: False\n",
      "base_model.model.model.layers.23.self_attn.v_proj.lora_A.default.weight: True\n",
      "base_model.model.model.layers.23.self_attn.v_proj.lora_B.default.weight: True\n",
      "base_model.model.model.layers.23.self_attn.o_proj.base_layer.weight: False\n",
      "base_model.model.model.layers.23.self_attn.o_proj.lora_A.default.weight: True\n",
      "base_model.model.model.layers.23.self_attn.o_proj.lora_B.default.weight: True\n",
      "base_model.model.model.layers.23.mlp.gate_proj.base_layer.weight: False\n",
      "base_model.model.model.layers.23.mlp.gate_proj.lora_A.default.weight: True\n",
      "base_model.model.model.layers.23.mlp.gate_proj.lora_B.default.weight: True\n",
      "base_model.model.model.layers.23.mlp.up_proj.base_layer.weight: False\n",
      "base_model.model.model.layers.23.mlp.up_proj.lora_A.default.weight: True\n",
      "base_model.model.model.layers.23.mlp.up_proj.lora_B.default.weight: True\n",
      "base_model.model.model.layers.23.mlp.down_proj.base_layer.weight: False\n",
      "base_model.model.model.layers.23.mlp.down_proj.lora_A.default.weight: True\n",
      "base_model.model.model.layers.23.mlp.down_proj.lora_B.default.weight: True\n",
      "base_model.model.model.layers.23.input_layernorm.weight: False\n",
      "base_model.model.model.layers.23.post_attention_layernorm.weight: False\n",
      "base_model.model.model.layers.23.pre_feedforward_layernorm.weight: False\n",
      "base_model.model.model.layers.23.post_feedforward_layernorm.weight: False\n",
      "base_model.model.model.layers.24.self_attn.q_proj.base_layer.weight: False\n",
      "base_model.model.model.layers.24.self_attn.q_proj.lora_A.default.weight: True\n",
      "base_model.model.model.layers.24.self_attn.q_proj.lora_B.default.weight: True\n",
      "base_model.model.model.layers.24.self_attn.k_proj.base_layer.weight: False\n",
      "base_model.model.model.layers.24.self_attn.k_proj.lora_A.default.weight: True\n",
      "base_model.model.model.layers.24.self_attn.k_proj.lora_B.default.weight: True\n",
      "base_model.model.model.layers.24.self_attn.v_proj.base_layer.weight: False\n",
      "base_model.model.model.layers.24.self_attn.v_proj.lora_A.default.weight: True\n",
      "base_model.model.model.layers.24.self_attn.v_proj.lora_B.default.weight: True\n",
      "base_model.model.model.layers.24.self_attn.o_proj.base_layer.weight: False\n",
      "base_model.model.model.layers.24.self_attn.o_proj.lora_A.default.weight: True\n",
      "base_model.model.model.layers.24.self_attn.o_proj.lora_B.default.weight: True\n",
      "base_model.model.model.layers.24.mlp.gate_proj.base_layer.weight: False\n",
      "base_model.model.model.layers.24.mlp.gate_proj.lora_A.default.weight: True\n",
      "base_model.model.model.layers.24.mlp.gate_proj.lora_B.default.weight: True\n",
      "base_model.model.model.layers.24.mlp.up_proj.base_layer.weight: False\n",
      "base_model.model.model.layers.24.mlp.up_proj.lora_A.default.weight: True\n",
      "base_model.model.model.layers.24.mlp.up_proj.lora_B.default.weight: True\n",
      "base_model.model.model.layers.24.mlp.down_proj.base_layer.weight: False\n",
      "base_model.model.model.layers.24.mlp.down_proj.lora_A.default.weight: True\n",
      "base_model.model.model.layers.24.mlp.down_proj.lora_B.default.weight: True\n",
      "base_model.model.model.layers.24.input_layernorm.weight: False\n",
      "base_model.model.model.layers.24.post_attention_layernorm.weight: False\n",
      "base_model.model.model.layers.24.pre_feedforward_layernorm.weight: False\n",
      "base_model.model.model.layers.24.post_feedforward_layernorm.weight: False\n",
      "base_model.model.model.layers.25.self_attn.q_proj.base_layer.weight: False\n",
      "base_model.model.model.layers.25.self_attn.q_proj.lora_A.default.weight: True\n",
      "base_model.model.model.layers.25.self_attn.q_proj.lora_B.default.weight: True\n",
      "base_model.model.model.layers.25.self_attn.k_proj.base_layer.weight: False\n",
      "base_model.model.model.layers.25.self_attn.k_proj.lora_A.default.weight: True\n",
      "base_model.model.model.layers.25.self_attn.k_proj.lora_B.default.weight: True\n",
      "base_model.model.model.layers.25.self_attn.v_proj.base_layer.weight: False\n",
      "base_model.model.model.layers.25.self_attn.v_proj.lora_A.default.weight: True\n",
      "base_model.model.model.layers.25.self_attn.v_proj.lora_B.default.weight: True\n",
      "base_model.model.model.layers.25.self_attn.o_proj.base_layer.weight: False\n",
      "base_model.model.model.layers.25.self_attn.o_proj.lora_A.default.weight: True\n",
      "base_model.model.model.layers.25.self_attn.o_proj.lora_B.default.weight: True\n",
      "base_model.model.model.layers.25.mlp.gate_proj.base_layer.weight: False\n",
      "base_model.model.model.layers.25.mlp.gate_proj.lora_A.default.weight: True\n",
      "base_model.model.model.layers.25.mlp.gate_proj.lora_B.default.weight: True\n",
      "base_model.model.model.layers.25.mlp.up_proj.base_layer.weight: False\n",
      "base_model.model.model.layers.25.mlp.up_proj.lora_A.default.weight: True\n",
      "base_model.model.model.layers.25.mlp.up_proj.lora_B.default.weight: True\n",
      "base_model.model.model.layers.25.mlp.down_proj.base_layer.weight: False\n",
      "base_model.model.model.layers.25.mlp.down_proj.lora_A.default.weight: True\n",
      "base_model.model.model.layers.25.mlp.down_proj.lora_B.default.weight: True\n",
      "base_model.model.model.layers.25.input_layernorm.weight: False\n",
      "base_model.model.model.layers.25.post_attention_layernorm.weight: False\n",
      "base_model.model.model.layers.25.pre_feedforward_layernorm.weight: False\n",
      "base_model.model.model.layers.25.post_feedforward_layernorm.weight: False\n",
      "base_model.model.model.norm.weight: False\n",
      "base_model.model.score.original_module.weight: False\n",
      "base_model.model.score.modules_to_save.default.weight: True\n"
     ]
    }
   ],
   "source": [
    "for name, param in lora_model.named_parameters():\n",
    "    print(f\"{name}: {param.requires_grad}\")"
   ]
  },
  {
   "cell_type": "markdown",
   "metadata": {
    "id": "9zkJOCIKwrq8"
   },
   "source": [
    "## Compute Function"
   ]
  },
  {
   "cell_type": "code",
   "execution_count": 45,
   "metadata": {
    "colab": {
     "base_uri": "https://localhost:8080/",
     "height": 81,
     "referenced_widgets": [
      "6827736682684ea6a5130683c3576ddb",
      "3707e537d56a4199b5ca578082ac127d",
      "6675569154024ed8aca856bb5104130e",
      "21a50951c2ba4e8791870c4bd9a5ee60",
      "dc4f60b072c94612a4201bd17df0575a",
      "b593228c17154659b1214bec913ae2df",
      "2b137e3a8f684063bc0d9312110edddb",
      "7ed6d698fc8044fea2aace52fc1d4869",
      "2ed832bbb9a24683b9ca0daf8d266766",
      "bdc33f88c9784c4d819261f0796c86ce",
      "ca7f4327f4cc444fbc55ffc9d65a30fd",
      "d48a0192473343e9a9414b476d0b7b49",
      "f1566c4071e74e448219cba44a05543f",
      "5cad15d0be7c46559f87da8815c93be9",
      "a6e569d51545426aa25a95b371df155b",
      "25421aba1ceb4efd9bcba03b7bfef78d",
      "58b95b83cd7b48fab09aadbcea493a0f",
      "eb2e7951b9ea48dcbafeacdc12768cd4",
      "1e3fac9733974f7d9ae583adbed0b2e0",
      "742ac2b5671949cebee4c3206fd3fd98",
      "e6c0541590214cb4afa961e4d06ea69f",
      "153eaa79405645249912f79e68e699ab"
     ]
    },
    "id": "hB12Nt5kvqZQ",
    "outputId": "36010d5c-94fc-4100-a302-a4a055e93ffa"
   },
   "outputs": [
    {
     "data": {
      "application/vnd.jupyter.widget-view+json": {
       "model_id": "6827736682684ea6a5130683c3576ddb",
       "version_major": 2,
       "version_minor": 0
      },
      "text/plain": [
       "Downloading builder script:   0%|          | 0.00/4.20k [00:00<?, ?B/s]"
      ]
     },
     "metadata": {},
     "output_type": "display_data"
    },
    {
     "data": {
      "application/vnd.jupyter.widget-view+json": {
       "model_id": "d48a0192473343e9a9414b476d0b7b49",
       "version_major": 2,
       "version_minor": 0
      },
      "text/plain": [
       "Downloading builder script:   0%|          | 0.00/6.79k [00:00<?, ?B/s]"
      ]
     },
     "metadata": {},
     "output_type": "display_data"
    }
   ],
   "source": [
    "# load training metrices\n",
    "accuracy = evaluate.load('accuracy', 'multilabel')\n",
    "f1 = evaluate.load('f1','multilabel')\n",
    "accuracy_flatten = evaluate.load('accuracy')\n",
    "\n",
    "def compute_metrics(eval_pred):\n",
    "    # accuracy_metric = evaluate.load('accuracy', 'multilabel')\n",
    "\n",
    "    logits, labels = eval_pred\n",
    "    preds = (logits > 0).astype(int)\n",
    "    accuracy_label = accuracy_flatten.compute(predictions=preds.flatten(), references=labels.flatten())\n",
    "    accuracy_all = accuracy.compute(predictions=preds, references=labels)\n",
    "    f1_micro = f1.compute(predictions=preds, references=labels, average='micro')\n",
    "    f1_macro = f1.compute(predictions=preds, references=labels, average='macro')\n",
    "    return {'f1_micro':f1_micro['f1'],\n",
    "            'f1_macro':f1_macro['f1'],\n",
    "            'accuracy_label':accuracy_label['accuracy'],\n",
    "             'accuracy_all':accuracy_all['accuracy']}"
   ]
  },
  {
   "cell_type": "markdown",
   "metadata": {
    "id": "gDR9_9gdxJxO"
   },
   "source": [
    "## Training Arguments"
   ]
  },
  {
   "cell_type": "code",
   "execution_count": 46,
   "metadata": {
    "id": "VtlQ6NDqxbw1"
   },
   "outputs": [],
   "source": [
    "# Define the directory where model checkpoints will be saved\n",
    "model_folder = Path(\"/content/gemma_lora_imb\")\n",
    "# Create the directory if it doesn't exist\n",
    "model_folder.mkdir(exist_ok=True, parents=True)\n",
    "run_name= 'stack_exp_imb_exp1'\n",
    "\n",
    "use_fp16 = torch_data_type == torch.float16\n",
    "use_bf16 = torch_data_type == torch.bfloat16\n",
    "\n",
    "# Configure training parameters\n",
    "training_args = TrainingArguments(\n",
    "    seed = 42,\n",
    "    # Training-specific configurations\n",
    "    num_train_epochs=2,  # Total number of training epochs\n",
    "    # Number of samples per training batch for each device\n",
    "    per_device_train_batch_size=16,\n",
    "    # Number of samples per evaluation batch for each device\n",
    "    per_device_eval_batch_size=16,\n",
    "    gradient_accumulation_steps=2,\n",
    "    gradient_checkpointing=True,\n",
    "    gradient_checkpointing_kwargs={\"use_reentrant\":False},\n",
    "    # torch_empty_cache_steps=5,\n",
    "    weight_decay=0.0,  # Apply L2 regularization to prevent overfitting\n",
    "    learning_rate=1e-5,  # Step size for the optimizer during training\n",
    "    optim='adamw_torch',  # Optimizer,\n",
    "\n",
    "    # Checkpoint saving and model evaluation settings\n",
    "    output_dir=str(model_folder),  # Directory to save model checkpoints\n",
    "    eval_strategy='steps',  # Evaluate model at specified step intervals\n",
    "    eval_steps=20,  # Perform evaluation every 10 training steps\n",
    "    save_strategy=\"steps\",  # Save model checkpoint at specified step intervals\n",
    "    save_steps=20,  # Save a model checkpoint every 10 training steps\n",
    "    load_best_model_at_end=True,  # Reload the best model at the end of training\n",
    "    save_total_limit=2,  # Retain only the best and the most recent model checkpoints\n",
    "    # Use 'accuracy' as the metric to determine the best model\n",
    "    metric_for_best_model=\"eval_f1_macro\",\n",
    "    greater_is_better=True,  # A model is 'better' if its accuracy is higher\n",
    "\n",
    "\n",
    "    # Experiment logging configurations (commented out in this example)\n",
    "    logging_strategy='steps',\n",
    "    logging_steps=20,\n",
    "    report_to='wandb',  # Log metrics and results to Weights & Biases platform\n",
    "    run_name= run_name,  # Experiment name for Weights & Biases\n",
    "\n",
    "    # Precision settings determined based on GPU capability\n",
    "    fp16=use_fp16 ,  # Set True if torch_data_type is torch.float16\n",
    "    bf16=use_bf16,  # Set True if torch_data_type is torch.bfloat16\n",
    "    tf32=False,  # Disable tf32 unless you want to use Ampere specific optimization\n",
    ")"
   ]
  },
  {
   "cell_type": "code",
   "execution_count": 47,
   "metadata": {
    "colab": {
     "base_uri": "https://localhost:8080/"
    },
    "id": "575x_7GrxjGn",
    "outputId": "e274c461-9e9b-44a2-afe7-975f5fd7a055"
   },
   "outputs": [
    {
     "data": {
      "text/plain": [
       "Gemma2Config {\n",
       "  \"architectures\": [\n",
       "    \"Gemma2ForCausalLM\"\n",
       "  ],\n",
       "  \"attention_bias\": false,\n",
       "  \"attention_dropout\": 0.0,\n",
       "  \"attn_logit_softcapping\": 50.0,\n",
       "  \"bos_token_id\": 2,\n",
       "  \"cache_implementation\": \"hybrid\",\n",
       "  \"eos_token_id\": 1,\n",
       "  \"final_logit_softcapping\": 30.0,\n",
       "  \"head_dim\": 256,\n",
       "  \"hidden_act\": \"gelu_pytorch_tanh\",\n",
       "  \"hidden_activation\": \"gelu_pytorch_tanh\",\n",
       "  \"hidden_size\": 2304,\n",
       "  \"id2label\": {\n",
       "    \"0\": \"anger\",\n",
       "    \"1\": \"anticipation\",\n",
       "    \"2\": \"disgust\",\n",
       "    \"3\": \"fear\",\n",
       "    \"4\": \"joy\",\n",
       "    \"5\": \"love\",\n",
       "    \"6\": \"optimism\",\n",
       "    \"7\": \"pessimism\",\n",
       "    \"8\": \"sadness\",\n",
       "    \"9\": \"surprise\",\n",
       "    \"10\": \"trust\"\n",
       "  },\n",
       "  \"initializer_range\": 0.02,\n",
       "  \"intermediate_size\": 9216,\n",
       "  \"label2id\": {\n",
       "    \"anger\": 0,\n",
       "    \"anticipation\": 1,\n",
       "    \"disgust\": 2,\n",
       "    \"fear\": 3,\n",
       "    \"joy\": 4,\n",
       "    \"love\": 5,\n",
       "    \"optimism\": 6,\n",
       "    \"pessimism\": 7,\n",
       "    \"sadness\": 8,\n",
       "    \"surprise\": 9,\n",
       "    \"trust\": 10\n",
       "  },\n",
       "  \"max_position_embeddings\": 8192,\n",
       "  \"model_type\": \"gemma2\",\n",
       "  \"num_attention_heads\": 8,\n",
       "  \"num_hidden_layers\": 26,\n",
       "  \"num_key_value_heads\": 4,\n",
       "  \"pad_token_id\": 0,\n",
       "  \"query_pre_attn_scalar\": 256,\n",
       "  \"rms_norm_eps\": 1e-06,\n",
       "  \"rope_theta\": 10000.0,\n",
       "  \"sliding_window\": 4096,\n",
       "  \"torch_dtype\": \"float32\",\n",
       "  \"transformers_version\": \"4.52.3\",\n",
       "  \"use_cache\": false,\n",
       "  \"vocab_size\": 256000\n",
       "}"
      ]
     },
     "execution_count": 47,
     "metadata": {},
     "output_type": "execute_result"
    }
   ],
   "source": [
    "# If gradient checkpointing is enabled, configure relevant settings\n",
    "if training_args.gradient_checkpointing:\n",
    "    lora_model.config.use_cache = False  # Disable caching for compatibility\n",
    "\n",
    "lora_model.config"
   ]
  },
  {
   "cell_type": "markdown",
   "metadata": {
    "id": "9o-gQI8VxlBk"
   },
   "source": [
    "## Initialize Trainer"
   ]
  },
  {
   "cell_type": "code",
   "execution_count": 48,
   "metadata": {
    "colab": {
     "base_uri": "https://localhost:8080/"
    },
    "id": "nLJsTDK66bWa",
    "outputId": "1db5939f-af97-4248-bc84-5425b5b84bbf"
   },
   "outputs": [
    {
     "data": {
      "text/plain": [
       "tensor([[1., 0., 1.,  ..., 1., 0., 0.],\n",
       "        [0., 1., 0.,  ..., 0., 0., 0.],\n",
       "        [0., 0., 0.,  ..., 0., 0., 0.],\n",
       "        ...,\n",
       "        [0., 1., 0.,  ..., 0., 1., 0.],\n",
       "        [1., 0., 1.,  ..., 0., 0., 0.],\n",
       "        [0., 1., 0.,  ..., 0., 0., 0.]])"
      ]
     },
     "execution_count": 48,
     "metadata": {},
     "output_type": "execute_result"
    }
   ],
   "source": [
    "tokenized_dataset['train']['label']"
   ]
  },
  {
   "cell_type": "code",
   "execution_count": 49,
   "metadata": {
    "id": "o-h_BxaMxpgF"
   },
   "outputs": [],
   "source": [
    "def calculate_pos_weights(dataset):\n",
    "    # Initialize counters for all labels\n",
    "    num_labels = len(dataset['train']['label'][0])\n",
    "    total_positives = [0] * num_labels\n",
    "    total_negatives = [0] * num_labels\n",
    "\n",
    "    # Count positives and negatives for each label\n",
    "    for label_array in dataset['train']['label']:\n",
    "        for i, label in enumerate(label_array):\n",
    "            if label == 1:\n",
    "                total_positives[i] += 1\n",
    "            else:\n",
    "                total_negatives[i] += 1\n",
    "\n",
    "    # Calculate pos_weight for each label\n",
    "    pos_weight = [total_negatives[i] / max(total_positives[i], 1) for i in range(num_labels)]\n",
    "    return torch.tensor(pos_weight)"
   ]
  },
  {
   "cell_type": "code",
   "execution_count": 50,
   "metadata": {
    "id": "zgGEvUagyGZI"
   },
   "outputs": [],
   "source": [
    "pos_weights = calculate_pos_weights(tokenized_dataset)"
   ]
  },
  {
   "cell_type": "code",
   "execution_count": 51,
   "metadata": {
    "colab": {
     "base_uri": "https://localhost:8080/"
    },
    "id": "AjccJjxVxs0N",
    "outputId": "e1931f3a-0be6-4ca9-9a43-fdf2846e8ad4"
   },
   "outputs": [
    {
     "data": {
      "text/plain": [
       "tensor([ 1.6869,  6.0569,  1.6450,  4.6975,  1.6952,  8.3427,  2.3891,  7.6134,\n",
       "         2.3743, 18.8034, 18.7472])"
      ]
     },
     "execution_count": 51,
     "metadata": {},
     "output_type": "execute_result"
    }
   ],
   "source": [
    "pos_weights"
   ]
  },
  {
   "cell_type": "code",
   "execution_count": 52,
   "metadata": {
    "colab": {
     "base_uri": "https://localhost:8080/"
    },
    "id": "_ZsC7v8rxuLN",
    "outputId": "814aef3f-3b1d-40e5-93e9-8dcd4f71de2d"
   },
   "outputs": [
    {
     "data": {
      "text/plain": [
       "tensor([ 1.6869,  6.0569,  1.6450,  4.6975,  1.6952,  8.3427,  2.3891,  7.6134,\n",
       "         2.3743, 18.8034, 18.7472])"
      ]
     },
     "execution_count": 52,
     "metadata": {},
     "output_type": "execute_result"
    }
   ],
   "source": [
    "pos_weights"
   ]
  },
  {
   "cell_type": "code",
   "execution_count": 53,
   "metadata": {
    "id": "Ch4VCh8qyQ5c"
   },
   "outputs": [],
   "source": [
    "# initialize trainer\n",
    "class CustomTrainer(Trainer):\n",
    "    def compute_loss(self, model, inputs, return_outputs=False, num_items_in_batch=None):\n",
    "        labels = inputs.pop(\"labels\").float()  # Ensure labels are float for BCE loss\n",
    "        outputs = model(**inputs)\n",
    "        logits = outputs.get(\"logits\")\n",
    "\n",
    "        device = next(model.parameters()).device\n",
    "\n",
    "        loss_fct = nn.BCEWithLogitsLoss(pos_weight=pos_weights.to(device))\n",
    "        loss = loss_fct(logits, labels)\n",
    "\n",
    "        return (loss, outputs) if return_outputs else loss"
   ]
  },
  {
   "cell_type": "code",
   "execution_count": 54,
   "metadata": {
    "colab": {
     "base_uri": "https://localhost:8080/"
    },
    "id": "yi2coalM1uYf",
    "outputId": "ec39de6e-4981-4d23-e73a-d6b7298084c4"
   },
   "outputs": [
    {
     "data": {
      "text/plain": [
       "DatasetDict({\n",
       "    train: Dataset({\n",
       "        features: ['input_ids', 'attention_mask', 'label'],\n",
       "        num_rows: 6951\n",
       "    })\n",
       "    valid: Dataset({\n",
       "        features: ['input_ids', 'attention_mask', 'label'],\n",
       "        num_rows: 773\n",
       "    })\n",
       "})"
      ]
     },
     "execution_count": 54,
     "metadata": {},
     "output_type": "execute_result"
    }
   ],
   "source": [
    "tokenized_dataset"
   ]
  },
  {
   "cell_type": "code",
   "execution_count": 55,
   "metadata": {
    "colab": {
     "base_uri": "https://localhost:8080/"
    },
    "id": "IK6Bq88LyS9s",
    "outputId": "2e80c471-71ac-4320-9979-25a10c730041"
   },
   "outputs": [
    {
     "name": "stderr",
     "output_type": "stream",
     "text": [
      "<ipython-input-55-fcc51a4c04a4>:2: FutureWarning: `tokenizer` is deprecated and will be removed in version 5.0.0 for `CustomTrainer.__init__`. Use `processing_class` instead.\n",
      "  trainer = CustomTrainer(\n",
      "No label_names provided for model class `PeftModelForSequenceClassification`. Since `PeftModel` hides base models input arguments, if label_names is not given, label_names can't be set automatically within `Trainer`. Note that empty label_names list will be used instead.\n"
     ]
    }
   ],
   "source": [
    "# lora_model.config.use_cache = False\n",
    "trainer = CustomTrainer(\n",
    "    model=lora_model,\n",
    "    args=training_args,\n",
    "    train_dataset=tokenized_dataset[\"train\"],\n",
    "    eval_dataset=tokenized_dataset[\"valid\"],\n",
    "    compute_metrics=compute_metrics,\n",
    "    tokenizer=tokenizer,\n",
    ")"
   ]
  },
  {
   "cell_type": "markdown",
   "metadata": {
    "id": "GEnwiCt0yUZ0"
   },
   "source": [
    "## Training and Validataion"
   ]
  },
  {
   "cell_type": "code",
   "execution_count": 56,
   "metadata": {
    "colab": {
     "base_uri": "https://localhost:8080/",
     "height": 751
    },
    "id": "zkm9vGnf2BCs",
    "outputId": "0449076e-cf7e-4d19-eb66-666c7f6a3a88"
   },
   "outputs": [
    {
     "name": "stderr",
     "output_type": "stream",
     "text": [
      "`use_cache=True` is incompatible with gradient checkpointing. Setting `use_cache=False`.\n"
     ]
    },
    {
     "data": {
      "text/html": [
       "\n",
       "    <div>\n",
       "      \n",
       "      <progress value='436' max='436' style='width:300px; height:20px; vertical-align: middle;'></progress>\n",
       "      [436/436 13:37, Epoch 2/2]\n",
       "    </div>\n",
       "    <table border=\"1\" class=\"dataframe\">\n",
       "  <thead>\n",
       " <tr style=\"text-align: left;\">\n",
       "      <th>Step</th>\n",
       "      <th>Training Loss</th>\n",
       "      <th>Validation Loss</th>\n",
       "      <th>F1 Micro</th>\n",
       "      <th>F1 Macro</th>\n",
       "      <th>Accuracy Label</th>\n",
       "      <th>Accuracy All</th>\n",
       "    </tr>\n",
       "  </thead>\n",
       "  <tbody>\n",
       "    <tr>\n",
       "      <td>20</td>\n",
       "      <td>2.268500</td>\n",
       "      <td>1.785441</td>\n",
       "      <td>0.348501</td>\n",
       "      <td>0.320313</td>\n",
       "      <td>0.555451</td>\n",
       "      <td>0.001294</td>\n",
       "    </tr>\n",
       "    <tr>\n",
       "      <td>40</td>\n",
       "      <td>1.456300</td>\n",
       "      <td>1.331988</td>\n",
       "      <td>0.401016</td>\n",
       "      <td>0.365349</td>\n",
       "      <td>0.611784</td>\n",
       "      <td>0.003881</td>\n",
       "    </tr>\n",
       "    <tr>\n",
       "      <td>60</td>\n",
       "      <td>1.182200</td>\n",
       "      <td>1.057199</td>\n",
       "      <td>0.463126</td>\n",
       "      <td>0.431228</td>\n",
       "      <td>0.663531</td>\n",
       "      <td>0.006468</td>\n",
       "    </tr>\n",
       "    <tr>\n",
       "      <td>80</td>\n",
       "      <td>0.923100</td>\n",
       "      <td>0.983369</td>\n",
       "      <td>0.575448</td>\n",
       "      <td>0.484242</td>\n",
       "      <td>0.765730</td>\n",
       "      <td>0.047865</td>\n",
       "    </tr>\n",
       "    <tr>\n",
       "      <td>100</td>\n",
       "      <td>0.915800</td>\n",
       "      <td>0.901978</td>\n",
       "      <td>0.562236</td>\n",
       "      <td>0.501272</td>\n",
       "      <td>0.743973</td>\n",
       "      <td>0.024580</td>\n",
       "    </tr>\n",
       "    <tr>\n",
       "      <td>120</td>\n",
       "      <td>0.824300</td>\n",
       "      <td>0.835848</td>\n",
       "      <td>0.565416</td>\n",
       "      <td>0.519064</td>\n",
       "      <td>0.742561</td>\n",
       "      <td>0.024580</td>\n",
       "    </tr>\n",
       "    <tr>\n",
       "      <td>140</td>\n",
       "      <td>0.804000</td>\n",
       "      <td>0.830691</td>\n",
       "      <td>0.558800</td>\n",
       "      <td>0.527471</td>\n",
       "      <td>0.740562</td>\n",
       "      <td>0.019405</td>\n",
       "    </tr>\n",
       "    <tr>\n",
       "      <td>160</td>\n",
       "      <td>0.769100</td>\n",
       "      <td>0.786471</td>\n",
       "      <td>0.609491</td>\n",
       "      <td>0.549576</td>\n",
       "      <td>0.784194</td>\n",
       "      <td>0.059508</td>\n",
       "    </tr>\n",
       "    <tr>\n",
       "      <td>180</td>\n",
       "      <td>0.736300</td>\n",
       "      <td>0.783545</td>\n",
       "      <td>0.598835</td>\n",
       "      <td>0.543815</td>\n",
       "      <td>0.773256</td>\n",
       "      <td>0.037516</td>\n",
       "    </tr>\n",
       "    <tr>\n",
       "      <td>200</td>\n",
       "      <td>0.730400</td>\n",
       "      <td>0.760805</td>\n",
       "      <td>0.630557</td>\n",
       "      <td>0.566133</td>\n",
       "      <td>0.798659</td>\n",
       "      <td>0.089263</td>\n",
       "    </tr>\n",
       "    <tr>\n",
       "      <td>220</td>\n",
       "      <td>0.707000</td>\n",
       "      <td>0.781823</td>\n",
       "      <td>0.625027</td>\n",
       "      <td>0.558713</td>\n",
       "      <td>0.796660</td>\n",
       "      <td>0.093144</td>\n",
       "    </tr>\n",
       "    <tr>\n",
       "      <td>240</td>\n",
       "      <td>0.627000</td>\n",
       "      <td>0.748453</td>\n",
       "      <td>0.627907</td>\n",
       "      <td>0.569341</td>\n",
       "      <td>0.796778</td>\n",
       "      <td>0.095731</td>\n",
       "    </tr>\n",
       "    <tr>\n",
       "      <td>260</td>\n",
       "      <td>0.636000</td>\n",
       "      <td>0.741429</td>\n",
       "      <td>0.622585</td>\n",
       "      <td>0.571541</td>\n",
       "      <td>0.793249</td>\n",
       "      <td>0.103493</td>\n",
       "    </tr>\n",
       "    <tr>\n",
       "      <td>280</td>\n",
       "      <td>0.630000</td>\n",
       "      <td>0.738404</td>\n",
       "      <td>0.652632</td>\n",
       "      <td>0.589510</td>\n",
       "      <td>0.821475</td>\n",
       "      <td>0.125485</td>\n",
       "    </tr>\n",
       "    <tr>\n",
       "      <td>300</td>\n",
       "      <td>0.633100</td>\n",
       "      <td>0.762199</td>\n",
       "      <td>0.646577</td>\n",
       "      <td>0.582477</td>\n",
       "      <td>0.812419</td>\n",
       "      <td>0.108668</td>\n",
       "    </tr>\n",
       "    <tr>\n",
       "      <td>320</td>\n",
       "      <td>0.621800</td>\n",
       "      <td>0.728775</td>\n",
       "      <td>0.630178</td>\n",
       "      <td>0.570691</td>\n",
       "      <td>0.797366</td>\n",
       "      <td>0.082794</td>\n",
       "    </tr>\n",
       "    <tr>\n",
       "      <td>340</td>\n",
       "      <td>0.588200</td>\n",
       "      <td>0.746349</td>\n",
       "      <td>0.652762</td>\n",
       "      <td>0.585227</td>\n",
       "      <td>0.815947</td>\n",
       "      <td>0.119017</td>\n",
       "    </tr>\n",
       "    <tr>\n",
       "      <td>360</td>\n",
       "      <td>0.587300</td>\n",
       "      <td>0.736877</td>\n",
       "      <td>0.644489</td>\n",
       "      <td>0.585927</td>\n",
       "      <td>0.811478</td>\n",
       "      <td>0.120310</td>\n",
       "    </tr>\n",
       "    <tr>\n",
       "      <td>380</td>\n",
       "      <td>0.591000</td>\n",
       "      <td>0.730061</td>\n",
       "      <td>0.631878</td>\n",
       "      <td>0.574724</td>\n",
       "      <td>0.801717</td>\n",
       "      <td>0.097025</td>\n",
       "    </tr>\n",
       "    <tr>\n",
       "      <td>400</td>\n",
       "      <td>0.655800</td>\n",
       "      <td>0.727930</td>\n",
       "      <td>0.651611</td>\n",
       "      <td>0.588741</td>\n",
       "      <td>0.813125</td>\n",
       "      <td>0.116429</td>\n",
       "    </tr>\n",
       "    <tr>\n",
       "      <td>420</td>\n",
       "      <td>0.601500</td>\n",
       "      <td>0.726331</td>\n",
       "      <td>0.649138</td>\n",
       "      <td>0.586934</td>\n",
       "      <td>0.813242</td>\n",
       "      <td>0.126779</td>\n",
       "    </tr>\n",
       "  </tbody>\n",
       "</table><p>"
      ],
      "text/plain": [
       "<IPython.core.display.HTML object>"
      ]
     },
     "metadata": {},
     "output_type": "display_data"
    }
   ],
   "source": [
    "try:\n",
    "    # Your code that may cause a CUDA out-of-memory error\n",
    "    # Example: trainer.train() or other GPU intensive operations\n",
    "    # lora_model.config.use_cache = False\n",
    "    trainer.train()\n",
    "except RuntimeError as e:\n",
    "    if 'CUDA out of memory' in str(e):\n",
    "        print(\"CUDA out of memory error detected. Freeing GPU memory.\")\n",
    "        free_gpu_memory()\n",
    "        # Optionally, you can retry the operation here after freeing up memory\n",
    "        # Example retry:\n",
    "        # trainer.train()\n",
    "    else:\n",
    "        raise e"
   ]
  },
  {
   "cell_type": "code",
   "execution_count": 57,
   "metadata": {
    "colab": {
     "base_uri": "https://localhost:8080/",
     "height": 37
    },
    "id": "CpQmipNH2CTF",
    "outputId": "3d8da9cc-48b3-4ae9-f120-f353200a071b"
   },
   "outputs": [
    {
     "data": {
      "text/html": [
       "\n",
       "    <div>\n",
       "      \n",
       "      <progress value='49' max='49' style='width:300px; height:20px; vertical-align: middle;'></progress>\n",
       "      [49/49 00:06]\n",
       "    </div>\n",
       "    "
      ],
      "text/plain": [
       "<IPython.core.display.HTML object>"
      ]
     },
     "metadata": {},
     "output_type": "display_data"
    }
   ],
   "source": [
    "eval_results = trainer.evaluate(tokenized_dataset[\"valid\"])"
   ]
  },
  {
   "cell_type": "code",
   "execution_count": 58,
   "metadata": {
    "colab": {
     "base_uri": "https://localhost:8080/"
    },
    "id": "AKj_4VcEBwWS",
    "outputId": "3ace7ace-6bd6-488f-ea67-15114b48994b"
   },
   "outputs": [
    {
     "data": {
      "text/plain": [
       "{'eval_loss': 0.7384035587310791,\n",
       " 'eval_f1_micro': 0.6526315789473685,\n",
       " 'eval_f1_macro': 0.5895101309697789,\n",
       " 'eval_accuracy_label': 0.8214747736093143,\n",
       " 'eval_accuracy_all': 0.12548512289780078,\n",
       " 'eval_runtime': 7.2286,\n",
       " 'eval_samples_per_second': 106.936,\n",
       " 'eval_steps_per_second': 6.779,\n",
       " 'epoch': 2.0}"
      ]
     },
     "execution_count": 58,
     "metadata": {},
     "output_type": "execute_result"
    }
   ],
   "source": [
    "eval_results"
   ]
  },
  {
   "cell_type": "code",
   "execution_count": 59,
   "metadata": {
    "id": "hbjVjEsS-XLy"
   },
   "outputs": [],
   "source": [
    "wandb.log({\"eval_f1_macro\": eval_results[\"eval_f1_macro\"], \"eval_loss\": eval_results[\"eval_loss\"], \"eval_accuracy\": eval_results[\"eval_accuracy_all\"]})"
   ]
  },
  {
   "cell_type": "code",
   "execution_count": 60,
   "metadata": {
    "colab": {
     "base_uri": "https://localhost:8080/",
     "height": 17
    },
    "id": "yu4JHu-S-XOP",
    "outputId": "5e8ae1aa-ea10-4f4a-ab69-25f30a3f35bd"
   },
   "outputs": [
    {
     "data": {
      "text/html": [],
      "text/plain": [
       "<IPython.core.display.HTML object>"
      ]
     },
     "metadata": {},
     "output_type": "display_data"
    }
   ],
   "source": [
    "from scipy.special import expit as sigmoid\n",
    "valid_output = trainer.predict(tokenized_dataset[\"valid\"])\n",
    "\n",
    "# Get probabilities from logits\n",
    "valid_logits = valid_output.predictions\n",
    "valid_probs = sigmoid(valid_logits)\n",
    "valid_labels = np.array(valid_output.label_ids.astype(int))"
   ]
  },
  {
   "cell_type": "code",
   "execution_count": 61,
   "metadata": {
    "colab": {
     "base_uri": "https://localhost:8080/"
    },
    "id": "fS1dbpTm-XQ_",
    "outputId": "fd6256cf-fadc-4ce5-a0fe-75e05575296b"
   },
   "outputs": [
    {
     "data": {
      "text/plain": [
       "(773, 11)"
      ]
     },
     "execution_count": 61,
     "metadata": {},
     "output_type": "execute_result"
    }
   ],
   "source": [
    "valid_logits.shape"
   ]
  },
  {
   "cell_type": "code",
   "execution_count": 62,
   "metadata": {
    "colab": {
     "base_uri": "https://localhost:8080/"
    },
    "id": "Jcsdz-Y--XS_",
    "outputId": "74058ccc-20bf-4c48-dc2f-8b508ce9be6d"
   },
   "outputs": [
    {
     "data": {
      "text/plain": [
       "(773, 11)"
      ]
     },
     "execution_count": 62,
     "metadata": {},
     "output_type": "execute_result"
    }
   ],
   "source": [
    "valid_probs.shape"
   ]
  },
  {
   "cell_type": "code",
   "execution_count": 63,
   "metadata": {
    "colab": {
     "base_uri": "https://localhost:8080/"
    },
    "id": "k3I79ZWn-c8O",
    "outputId": "84708c50-0953-40f4-f8f3-f0ae9732dd8d"
   },
   "outputs": [
    {
     "data": {
      "text/plain": [
       "(773, 11)"
      ]
     },
     "execution_count": 63,
     "metadata": {},
     "output_type": "execute_result"
    }
   ],
   "source": [
    "valid_labels.shape"
   ]
  },
  {
   "cell_type": "code",
   "execution_count": 64,
   "metadata": {
    "id": "cqM-GT_n-c-h"
   },
   "outputs": [],
   "source": [
    "def find_best_thresholds_multilabel(probabilities, labels):\n",
    "    \"\"\"\n",
    "    Find best threshold for each label that maximizes F1 score\n",
    "\n",
    "    Args:\n",
    "        probabilities: Array of shape (n_samples, n_labels) with predicted probabilities\n",
    "        labels: Array of shape (n_samples, n_labels) with true binary labels\n",
    "\n",
    "    Returns:\n",
    "        thresholds: List of best thresholds for each label\n",
    "        metrics: Dictionary containing best F1, precision, and recall for each label\n",
    "    \"\"\"\n",
    "    n_labels = labels.shape[1]\n",
    "    best_thresholds = []\n",
    "    metrics = {}\n",
    "\n",
    "    for label_idx in range(n_labels):\n",
    "        # Get scores and labels for this label\n",
    "        label_scores = probabilities[:, label_idx]\n",
    "        label_true = labels[:, label_idx]\n",
    "\n",
    "        # Sort by scores\n",
    "        rows = list(zip(label_scores, label_true))\n",
    "        rows = sorted(rows, key=lambda x: x[0], reverse=True)\n",
    "\n",
    "        # Initialize metrics\n",
    "        best_f1 = best_precision = best_recall = 0\n",
    "        threshold = 0\n",
    "\n",
    "        # Count total positives for this label\n",
    "        total_positives = sum(label_true)\n",
    "\n",
    "        # Initialize counters\n",
    "        total_predicted_positives = 0\n",
    "        true_positives = 0\n",
    "\n",
    "        # print(f\"\\nAnalyzing label {label_idx}\")\n",
    "\n",
    "        # Try different thresholds\n",
    "        for i in range(len(rows) - 1):\n",
    "            score, label = rows[i]\n",
    "            total_predicted_positives += 1\n",
    "            if label == 1:\n",
    "                true_positives += 1\n",
    "\n",
    "            if true_positives > 0:\n",
    "                precision = true_positives / total_predicted_positives\n",
    "                recall = true_positives / total_positives\n",
    "                f1 = 2 * precision * recall / (precision + recall)\n",
    "\n",
    "                # Update best metrics if current F1 is better\n",
    "                if f1 > best_f1:\n",
    "                    best_f1 = f1\n",
    "                    best_precision = precision\n",
    "                    best_recall = recall\n",
    "                    threshold = (rows[i][0] + rows[i + 1][0]) / 2\n",
    "\n",
    "                    # print(f\"New best threshold found: {threshold:.3f}\")\n",
    "                    # print(f\"F1: {best_f1:.3f}, Precision: {best_precision:.3f}, Recall: {best_recall:.3f}\")\n",
    "\n",
    "        best_thresholds.append(threshold)\n",
    "        metrics[label_idx] = {\n",
    "            'f1': best_f1,\n",
    "            'precision': best_precision,\n",
    "            'recall': best_recall,\n",
    "            'threshold': threshold\n",
    "        }\n",
    "\n",
    "\n",
    "    return best_thresholds, metrics\n",
    "\n"
   ]
  },
  {
   "cell_type": "code",
   "execution_count": 65,
   "metadata": {
    "id": "s6Anl2by-dAw"
   },
   "outputs": [],
   "source": [
    "optimal_thresholds, metrics = find_best_thresholds_multilabel(valid_probs, valid_labels)\n"
   ]
  },
  {
   "cell_type": "code",
   "execution_count": 66,
   "metadata": {
    "colab": {
     "base_uri": "https://localhost:8080/"
    },
    "id": "7Wce5mVg-dDR",
    "outputId": "5a548d22-5feb-4692-cd24-51445a4635cd"
   },
   "outputs": [
    {
     "data": {
      "text/plain": [
       "[np.float32(0.55326366),\n",
       " np.float32(0.45326194),\n",
       " np.float32(0.44493046),\n",
       " np.float32(0.6113819),\n",
       " np.float32(0.49499542),\n",
       " np.float32(0.8282639),\n",
       " np.float32(0.4419138),\n",
       " np.float32(0.6757641),\n",
       " np.float32(0.45677358),\n",
       " np.float32(0.7866199),\n",
       " np.float32(0.81346005)]"
      ]
     },
     "execution_count": 66,
     "metadata": {},
     "output_type": "execute_result"
    }
   ],
   "source": [
    "optimal_thresholds"
   ]
  },
  {
   "cell_type": "code",
   "execution_count": 67,
   "metadata": {
    "id": "_us6bjeR-dFf"
   },
   "outputs": [],
   "source": [
    "accuracy = evaluate.load('accuracy', 'multilabel')\n",
    "f1 = evaluate.load('f1','multilabel')\n",
    "accuracy_flatten = evaluate.load('accuracy')\n",
    "def compute_metrics(eval_pred, thresholds):\n",
    "    # accuracy_metric = evaluate.load('accuracy', 'multilabel')\n",
    "\n",
    "    logits, labels = eval_pred\n",
    "    probs = sigmoid(logits)\n",
    "    preds = (probs > thresholds).astype(int)\n",
    "    accuracy_label = accuracy_flatten.compute(predictions=preds.flatten(), references=labels.flatten())\n",
    "    accuracy_all = accuracy.compute(predictions=preds, references=labels)\n",
    "    f1_micro = f1.compute(predictions=preds, references=labels, average='micro')\n",
    "    f1_macro = f1.compute(predictions=preds, references=labels, average='macro')\n",
    "    return {'f1_micro':f1_micro['f1'],\n",
    "            'f1_macro':f1_macro['f1'],\n",
    "            'accuracy_label':accuracy_label['accuracy'],\n",
    "             'accuracy_all':accuracy_all['accuracy']}"
   ]
  },
  {
   "cell_type": "code",
   "execution_count": 68,
   "metadata": {
    "colab": {
     "base_uri": "https://localhost:8080/"
    },
    "id": "n0VkhBDW-dH9",
    "outputId": "03897417-9617-45a4-f21c-8578c8efb988"
   },
   "outputs": [
    {
     "data": {
      "text/plain": [
       "{'f1_micro': 0.6947264174300569,\n",
       " 'f1_macro': 0.6190683323414146,\n",
       " 'accuracy_label': 0.8549923556391862,\n",
       " 'accuracy_all': 0.17723156532988357}"
      ]
     },
     "execution_count": 68,
     "metadata": {},
     "output_type": "execute_result"
    }
   ],
   "source": [
    "compute_metrics((valid_logits, valid_labels), optimal_thresholds)"
   ]
  },
  {
   "cell_type": "code",
   "execution_count": 69,
   "metadata": {
    "colab": {
     "base_uri": "https://localhost:8080/"
    },
    "id": "5BzRHc1u-XWk",
    "outputId": "290a6335-dceb-4615-e521-d6d5ee540079"
   },
   "outputs": [
    {
     "name": "stdout",
     "output_type": "stream",
     "text": [
      "[[[444  57]\n",
      "  [ 52 220]]\n",
      "\n",
      " [[443 213]\n",
      "  [ 32  85]]\n",
      "\n",
      " [[390  90]\n",
      "  [ 49 244]]\n",
      "\n",
      " [[596  34]\n",
      "  [ 41 102]]\n",
      "\n",
      " [[419  56]\n",
      "  [ 43 255]]\n",
      "\n",
      " [[656  29]\n",
      "  [ 38  50]]\n",
      "\n",
      " [[423 110]\n",
      "  [ 34 206]]\n",
      "\n",
      " [[622  63]\n",
      "  [ 44  44]]\n",
      "\n",
      " [[476  84]\n",
      "  [ 50 163]]\n",
      "\n",
      " [[705  23]\n",
      "  [ 27  18]]\n",
      "\n",
      " [[693  32]\n",
      "  [ 32  16]]]\n"
     ]
    }
   ],
   "source": [
    "valid_preds = (valid_probs > optimal_thresholds).astype(int)\n",
    "mcm = multilabel_confusion_matrix(valid_labels, valid_preds)\n",
    "print(mcm)"
   ]
  },
  {
   "cell_type": "code",
   "execution_count": 70,
   "metadata": {
    "id": "4o5gXgHB-XZD"
   },
   "outputs": [],
   "source": [
    "def multilabel_evaluation(y_true, y_pred, class_names=None, figsize=(12, 8)):\n",
    "    \"\"\"\n",
    "    Generate comprehensive evaluation visualizations for multilabel classification results.\n",
    "\n",
    "    Parameters:\n",
    "    -----------\n",
    "    y_true : array-like\n",
    "        True labels (n_samples, n_classes)\n",
    "    y_pred : array-like\n",
    "        Predicted labels (n_samples, n_classes)\n",
    "    class_names : list, optional\n",
    "        List of class names for better visualization\n",
    "    figsize : tuple, optional\n",
    "        Base figure size for plots (width, height)\n",
    "\n",
    "    Returns:\n",
    "    --------\n",
    "    dict\n",
    "        Dictionary containing the computed metrics for each class\n",
    "    \"\"\"\n",
    "    # Validate inputs\n",
    "    y_true = np.array(y_true)\n",
    "    y_pred = np.array(y_pred)\n",
    "\n",
    "    if y_true.shape != y_pred.shape:\n",
    "        raise ValueError(\"y_true and y_pred must have the same shape\")\n",
    "\n",
    "    # Generate class names if not provided\n",
    "    if class_names is None:\n",
    "        class_names = [f'Class {i}' for i in range(y_true.shape[1])]\n",
    "\n",
    "    # Calculate confusion matrices\n",
    "    mcm = multilabel_confusion_matrix(y_true, y_pred)\n",
    "\n",
    "    # 1. Individual Confusion Matrix Heatmaps\n",
    "    n_classes = len(class_names)\n",
    "    n_cols = min(3, n_classes)\n",
    "    n_rows = (n_classes + n_cols - 1) // n_cols\n",
    "\n",
    "    plt.figure(figsize=(figsize[0], figsize[1] * n_rows/2))\n",
    "    for idx, matrix in enumerate(mcm):\n",
    "        plt.subplot(n_rows, n_cols, idx + 1)\n",
    "        sns.heatmap(matrix, annot=True, fmt='g', cmap='Blues',\n",
    "                    xticklabels=['Pred Neg', 'Pred Pos'],\n",
    "                    yticklabels=['True Neg', 'True Pos'])\n",
    "        plt.title(f'{class_names[idx]}')\n",
    "    plt.tight_layout()\n",
    "    plt.show()\n",
    "\n",
    "    # 2. Calculate and plot aggregate metrics\n",
    "    metrics = {\n",
    "        'Precision': precision_score(y_true, y_pred, average=None),\n",
    "        'Recall': recall_score(y_true, y_pred, average=None),\n",
    "        'F1-Score': f1_score(y_true, y_pred, average=None)\n",
    "    }\n",
    "\n",
    "    metrics_df = pd.DataFrame(metrics, index=class_names)\n",
    "\n",
    "    # Metrics Heatmap\n",
    "    plt.figure(figsize=(figsize[0]/1.5, figsize[1]/1.5))\n",
    "    sns.heatmap(metrics_df, annot=True, fmt='.3f', cmap='Blues')\n",
    "    plt.title('Performance Metrics by Class')\n",
    "    plt.tight_layout()\n",
    "    plt.show()\n",
    "\n",
    "    # 3. Metrics Histogram\n",
    "    plt.figure(figsize=(figsize[0], figsize[1]/1.5))\n",
    "    metrics_df.plot(kind='bar', width=0.8)\n",
    "    plt.xlabel('Classes')\n",
    "    plt.ylabel('Score')\n",
    "    plt.title('Precision, Recall, and F1-Score by Class')\n",
    "    plt.legend(bbox_to_anchor=(1.05, 1), loc='upper left')\n",
    "    plt.tight_layout()\n",
    "    plt.show()\n",
    "\n",
    "    # 4. Calculate and return summary statistics\n",
    "    summary_stats = {\n",
    "        'macro_avg': {\n",
    "            'precision': np.mean(metrics['Precision']),\n",
    "            'recall': np.mean(metrics['Recall']),\n",
    "            'f1': np.mean(metrics['F1-Score'])\n",
    "        },\n",
    "        'per_class': metrics_df.to_dict()\n",
    "    }\n",
    "\n",
    "    return summary_stats\n"
   ]
  },
  {
   "cell_type": "code",
   "execution_count": 71,
   "metadata": {
    "colab": {
     "base_uri": "https://localhost:8080/",
     "height": 1000
    },
    "id": "8e6aMV-t-rE0",
    "outputId": "70e12d1a-cf16-4d33-b5e9-d4495f2bbbdf"
   },
   "outputs": [
    {
     "data": {
      "image/png": "[encoded data removed]",
      "text/plain": [
       "<Figure size 1200x1600 with 22 Axes>"
      ]
     },
     "metadata": {},
     "output_type": "display_data"
    },
    {
     "data": {
      "image/png": "[encoded data removed]",
      "text/plain": [
       "<Figure size 800x533.333 with 2 Axes>"
      ]
     },
     "metadata": {},
     "output_type": "display_data"
    },
    {
     "data": {
      "text/plain": [
       "<Figure size 1200x533.333 with 0 Axes>"
      ]
     },
     "metadata": {},
     "output_type": "display_data"
    },
    {
     "data": {
      "image/png": "[encoded data removed]",
      "text/plain": [
       "<Figure size 640x480 with 1 Axes>"
      ]
     },
     "metadata": {},
     "output_type": "display_data"
    },
    {
     "data": {
      "text/plain": [
       "{'macro_avg': {'precision': np.float64(0.591657742844391),\n",
       "  'recall': np.float64(0.6692892611919238),\n",
       "  'f1': np.float64(0.6190683323414146)},\n",
       " 'per_class': {'Precision': {'anger': 0.7942238267148014,\n",
       "   'anticipation': 0.28523489932885904,\n",
       "   'disgust': 0.7305389221556886,\n",
       "   'fear': 0.75,\n",
       "   'joy': 0.819935691318328,\n",
       "   'love': 0.6329113924050633,\n",
       "   'optimism': 0.6518987341772152,\n",
       "   'pessimism': 0.411214953271028,\n",
       "   'sadness': 0.659919028340081,\n",
       "   'surprise': 0.43902439024390244,\n",
       "   'trust': 0.3333333333333333},\n",
       "  'Recall': {'anger': 0.8088235294117647,\n",
       "   'anticipation': 0.7264957264957265,\n",
       "   'disgust': 0.8327645051194539,\n",
       "   'fear': 0.7132867132867133,\n",
       "   'joy': 0.8557046979865772,\n",
       "   'love': 0.5681818181818182,\n",
       "   'optimism': 0.8583333333333333,\n",
       "   'pessimism': 0.5,\n",
       "   'sadness': 0.7652582159624414,\n",
       "   'surprise': 0.4,\n",
       "   'trust': 0.3333333333333333},\n",
       "  'F1-Score': {'anger': 0.8014571948998178,\n",
       "   'anticipation': 0.40963855421686746,\n",
       "   'disgust': 0.7783094098883573,\n",
       "   'fear': 0.7311827956989247,\n",
       "   'joy': 0.8374384236453202,\n",
       "   'love': 0.5988023952095808,\n",
       "   'optimism': 0.7410071942446043,\n",
       "   'pessimism': 0.4512820512820513,\n",
       "   'sadness': 0.7086956521739131,\n",
       "   'surprise': 0.4186046511627907,\n",
       "   'trust': 0.3333333333333333}}}"
      ]
     },
     "execution_count": 71,
     "metadata": {},
     "output_type": "execute_result"
    }
   ],
   "source": [
    "multilabel_evaluation(y_true=valid_labels, y_pred=valid_preds, class_names=class_names, figsize=(12, 8))"
   ]
  },
  {
   "cell_type": "code",
   "execution_count": 72,
   "metadata": {
    "colab": {
     "base_uri": "https://localhost:8080/"
    },
    "id": "xuvtc5Qh-wdi",
    "outputId": "648f5d5e-cd63-4993-857d-c29dc467c8f7"
   },
   "outputs": [
    {
     "name": "stdout",
     "output_type": "stream",
     "text": [
      "The best model was saved at step 280.\n"
     ]
    }
   ],
   "source": [
    "# After training, let us check the best checkpoint\n",
    "# We need this for Inference\n",
    "best_model_checkpoint_step = trainer.state.best_model_checkpoint.split('-')[-1]\n",
    "print(f\"The best model was saved at step {best_model_checkpoint_step}.\")"
   ]
  },
  {
   "cell_type": "markdown",
   "metadata": {
    "id": "2dLHHU2i-wfy"
   },
   "source": [
    "# Performance on Test Set"
   ]
  },
  {
   "cell_type": "code",
   "execution_count": 73,
   "metadata": {
    "colab": {
     "base_uri": "https://localhost:8080/",
     "height": 35
    },
    "id": "wWCbVVh1-wiU",
    "outputId": "a6448c21-9d38-4bae-81fb-c8628020b649"
   },
   "outputs": [
    {
     "data": {
      "application/vnd.google.colaboratory.intrinsic+json": {
       "type": "string"
      },
      "text/plain": [
       "'/content/gemma_lora_imb/checkpoint-280'"
      ]
     },
     "execution_count": 73,
     "metadata": {},
     "output_type": "execute_result"
    }
   ],
   "source": [
    "checkpoint = str(model_folder/f'checkpoint-{best_model_checkpoint_step}')\n",
    "checkpoint"
   ]
  },
  {
   "cell_type": "code",
   "execution_count": 74,
   "metadata": {
    "id": "aXeZ_tCh-wk1"
   },
   "outputs": [],
   "source": [
    "from peft import AutoPeftModelForSequenceClassification, PeftConfig"
   ]
  },
  {
   "cell_type": "code",
   "execution_count": 75,
   "metadata": {
    "colab": {
     "base_uri": "https://localhost:8080/",
     "height": 1000,
     "referenced_widgets": [
      "f7cc0aaaedd84f1987e34e85c4a67019",
      "c8d5b6ec69234476ab9602b1c720eb35",
      "683a6309d7764a5899a5e938c9211ab4",
      "ba823376d10d4572b8acc22c87ecde6c",
      "07024d5adcbf4c79aac434b247367586",
      "802986bf0e754e79a644a6a06ff3e5e4",
      "7790ac2e91dd4698a60c3643be61591d",
      "ed693ffd3884422288ae932531037cc2",
      "710d1e6df25d4304bb0caa96302a5a32",
      "6bd8e8e50a8d47dfafbbb2b84d4c4d24",
      "0595e1df5ece475b9998ce75cd2ae7a1"
     ]
    },
    "id": "vc0aySIp-wnH",
    "outputId": "e4da9654-6b8b-41ba-9266-5983b6c736f5"
   },
   "outputs": [
    {
     "data": {
      "application/vnd.jupyter.widget-view+json": {
       "model_id": "f7cc0aaaedd84f1987e34e85c4a67019",
       "version_major": 2,
       "version_minor": 0
      },
      "text/plain": [
       "Loading checkpoint shards:   0%|          | 0/3 [00:00<?, ?it/s]"
      ]
     },
     "metadata": {},
     "output_type": "display_data"
    },
    {
     "name": "stderr",
     "output_type": "stream",
     "text": [
      "Some weights of Gemma2ForSequenceClassification were not initialized from the model checkpoint at google/gemma-2-2b and are newly initialized: ['score.weight']\n",
      "You should probably TRAIN this model on a down-stream task to be able to use it for predictions and inference.\n"
     ]
    },
    {
     "data": {
      "text/plain": [
       "PeftModelForSequenceClassification(\n",
       "  (base_model): LoraModel(\n",
       "    (model): Gemma2ForSequenceClassification(\n",
       "      (model): Gemma2Model(\n",
       "        (embed_tokens): Embedding(256000, 2304, padding_idx=0)\n",
       "        (layers): ModuleList(\n",
       "          (0-25): 26 x Gemma2DecoderLayer(\n",
       "            (self_attn): Gemma2Attention(\n",
       "              (q_proj): lora.Linear4bit(\n",
       "                (base_layer): Linear4bit(in_features=2304, out_features=2048, bias=False)\n",
       "                (lora_dropout): ModuleDict(\n",
       "                  (default): Dropout(p=0.01, inplace=False)\n",
       "                )\n",
       "                (lora_A): ModuleDict(\n",
       "                  (default): Linear(in_features=2304, out_features=128, bias=False)\n",
       "                )\n",
       "                (lora_B): ModuleDict(\n",
       "                  (default): Linear(in_features=128, out_features=2048, bias=False)\n",
       "                )\n",
       "                (lora_embedding_A): ParameterDict()\n",
       "                (lora_embedding_B): ParameterDict()\n",
       "                (lora_magnitude_vector): ModuleDict()\n",
       "              )\n",
       "              (k_proj): lora.Linear4bit(\n",
       "                (base_layer): Linear4bit(in_features=2304, out_features=1024, bias=False)\n",
       "                (lora_dropout): ModuleDict(\n",
       "                  (default): Dropout(p=0.01, inplace=False)\n",
       "                )\n",
       "                (lora_A): ModuleDict(\n",
       "                  (default): Linear(in_features=2304, out_features=128, bias=False)\n",
       "                )\n",
       "                (lora_B): ModuleDict(\n",
       "                  (default): Linear(in_features=128, out_features=1024, bias=False)\n",
       "                )\n",
       "                (lora_embedding_A): ParameterDict()\n",
       "                (lora_embedding_B): ParameterDict()\n",
       "                (lora_magnitude_vector): ModuleDict()\n",
       "              )\n",
       "              (v_proj): lora.Linear4bit(\n",
       "                (base_layer): Linear4bit(in_features=2304, out_features=1024, bias=False)\n",
       "                (lora_dropout): ModuleDict(\n",
       "                  (default): Dropout(p=0.01, inplace=False)\n",
       "                )\n",
       "                (lora_A): ModuleDict(\n",
       "                  (default): Linear(in_features=2304, out_features=128, bias=False)\n",
       "                )\n",
       "                (lora_B): ModuleDict(\n",
       "                  (default): Linear(in_features=128, out_features=1024, bias=False)\n",
       "                )\n",
       "                (lora_embedding_A): ParameterDict()\n",
       "                (lora_embedding_B): ParameterDict()\n",
       "                (lora_magnitude_vector): ModuleDict()\n",
       "              )\n",
       "              (o_proj): lora.Linear4bit(\n",
       "                (base_layer): Linear4bit(in_features=2048, out_features=2304, bias=False)\n",
       "                (lora_dropout): ModuleDict(\n",
       "                  (default): Dropout(p=0.01, inplace=False)\n",
       "                )\n",
       "                (lora_A): ModuleDict(\n",
       "                  (default): Linear(in_features=2048, out_features=128, bias=False)\n",
       "                )\n",
       "                (lora_B): ModuleDict(\n",
       "                  (default): Linear(in_features=128, out_features=2304, bias=False)\n",
       "                )\n",
       "                (lora_embedding_A): ParameterDict()\n",
       "                (lora_embedding_B): ParameterDict()\n",
       "                (lora_magnitude_vector): ModuleDict()\n",
       "              )\n",
       "            )\n",
       "            (mlp): Gemma2MLP(\n",
       "              (gate_proj): lora.Linear4bit(\n",
       "                (base_layer): Linear4bit(in_features=2304, out_features=9216, bias=False)\n",
       "                (lora_dropout): ModuleDict(\n",
       "                  (default): Dropout(p=0.01, inplace=False)\n",
       "                )\n",
       "                (lora_A): ModuleDict(\n",
       "                  (default): Linear(in_features=2304, out_features=128, bias=False)\n",
       "                )\n",
       "                (lora_B): ModuleDict(\n",
       "                  (default): Linear(in_features=128, out_features=9216, bias=False)\n",
       "                )\n",
       "                (lora_embedding_A): ParameterDict()\n",
       "                (lora_embedding_B): ParameterDict()\n",
       "                (lora_magnitude_vector): ModuleDict()\n",
       "              )\n",
       "              (up_proj): lora.Linear4bit(\n",
       "                (base_layer): Linear4bit(in_features=2304, out_features=9216, bias=False)\n",
       "                (lora_dropout): ModuleDict(\n",
       "                  (default): Dropout(p=0.01, inplace=False)\n",
       "                )\n",
       "                (lora_A): ModuleDict(\n",
       "                  (default): Linear(in_features=2304, out_features=128, bias=False)\n",
       "                )\n",
       "                (lora_B): ModuleDict(\n",
       "                  (default): Linear(in_features=128, out_features=9216, bias=False)\n",
       "                )\n",
       "                (lora_embedding_A): ParameterDict()\n",
       "                (lora_embedding_B): ParameterDict()\n",
       "                (lora_magnitude_vector): ModuleDict()\n",
       "              )\n",
       "              (down_proj): lora.Linear4bit(\n",
       "                (base_layer): Linear4bit(in_features=9216, out_features=2304, bias=False)\n",
       "                (lora_dropout): ModuleDict(\n",
       "                  (default): Dropout(p=0.01, inplace=False)\n",
       "                )\n",
       "                (lora_A): ModuleDict(\n",
       "                  (default): Linear(in_features=9216, out_features=128, bias=False)\n",
       "                )\n",
       "                (lora_B): ModuleDict(\n",
       "                  (default): Linear(in_features=128, out_features=2304, bias=False)\n",
       "                )\n",
       "                (lora_embedding_A): ParameterDict()\n",
       "                (lora_embedding_B): ParameterDict()\n",
       "                (lora_magnitude_vector): ModuleDict()\n",
       "              )\n",
       "              (act_fn): PytorchGELUTanh()\n",
       "            )\n",
       "            (input_layernorm): Gemma2RMSNorm((2304,), eps=1e-06)\n",
       "            (post_attention_layernorm): Gemma2RMSNorm((2304,), eps=1e-06)\n",
       "            (pre_feedforward_layernorm): Gemma2RMSNorm((2304,), eps=1e-06)\n",
       "            (post_feedforward_layernorm): Gemma2RMSNorm((2304,), eps=1e-06)\n",
       "          )\n",
       "        )\n",
       "        (norm): Gemma2RMSNorm((2304,), eps=1e-06)\n",
       "        (rotary_emb): Gemma2RotaryEmbedding()\n",
       "      )\n",
       "      (score): ModulesToSaveWrapper(\n",
       "        (original_module): Linear(in_features=2304, out_features=11, bias=False)\n",
       "        (modules_to_save): ModuleDict(\n",
       "          (default): Linear(in_features=2304, out_features=11, bias=False)\n",
       "        )\n",
       "      )\n",
       "    )\n",
       "  )\n",
       ")"
      ]
     },
     "execution_count": 75,
     "metadata": {},
     "output_type": "execute_result"
    }
   ],
   "source": [
    "model = AutoPeftModelForSequenceClassification.from_pretrained(checkpoint,\n",
    "                                                           num_labels = 11,\n",
    "                                                           problem_type=\"multi_label_classification\",\n",
    "                                                           quantization_config=bnb_config,\n",
    "                                                           torch_dtype=torch_data_type,\n",
    "                                                           trust_remote_code=True,\n",
    ")\n",
    "\n",
    "peft_config = PeftConfig.from_pretrained(checkpoint)\n",
    "base_model_name = peft_config.base_model_name_or_path\n",
    "tokenizer = AutoTokenizer.from_pretrained(base_model_name)\n",
    "\n",
    "# 3. Set model to evaluation mode\n",
    "model.eval()"
   ]
  },
  {
   "cell_type": "code",
   "execution_count": 76,
   "metadata": {
    "colab": {
     "base_uri": "https://localhost:8080/",
     "height": 49,
     "referenced_widgets": [
      "947140daa6f341e099a1e4335bf13437",
      "e89c4f5ba5b9463db56aefa114af47a3",
      "4f3c1cf5cd2c465e875c0159f51d0cdf",
      "3250b8a2bc5f4124a38713a27b063569",
      "722b82c143924d16af50ca28843452ef",
      "1eb35b5250f64685a796bb62d8376152",
      "43effdd7caab4152b775fa020628d4b6",
      "23c75ce58444424e9648727f1043a719",
      "57283d8adb464f2592e60425b1b2dcf1",
      "fb2ac5cddb93441b830cac4f375307c4",
      "a196de3e06c240658aa1d37efbf82117"
     ]
    },
    "id": "ziSBzYCa-wpl",
    "outputId": "13b7966d-e191-49c2-c4b4-f2355a8646c6"
   },
   "outputs": [
    {
     "data": {
      "application/vnd.jupyter.widget-view+json": {
       "model_id": "947140daa6f341e099a1e4335bf13437",
       "version_major": 2,
       "version_minor": 0
      },
      "text/plain": [
       "Map:   0%|          | 0/3259 [00:00<?, ? examples/s]"
      ]
     },
     "metadata": {},
     "output_type": "display_data"
    }
   ],
   "source": [
    "# Function to tokenize text data\n",
    "def tokenize_fn(batch):\n",
    "    return tokenizer(text=batch[\"text\"], truncation=True, max_length=512)\n",
    "\n",
    "# Tokenize the unseen test data\n",
    "test_set_tokenized = test_data.map(tokenize_fn, batched=True)\n",
    "test_set_tokenized = test_set_tokenized.remove_columns(['text'])\n",
    "test_set_tokenized.set_format(type='torch')"
   ]
  },
  {
   "cell_type": "code",
   "execution_count": 77,
   "metadata": {
    "colab": {
     "base_uri": "https://localhost:8080/"
    },
    "id": "6YIUrpHW-wsf",
    "outputId": "cd3422dc-4c90-4edf-a436-6d74621b6e8b"
   },
   "outputs": [
    {
     "data": {
      "text/plain": [
       "Dataset({\n",
       "    features: ['input_ids', 'attention_mask'],\n",
       "    num_rows: 3259\n",
       "})"
      ]
     },
     "execution_count": 77,
     "metadata": {},
     "output_type": "execute_result"
    }
   ],
   "source": [
    "test_set_tokenized"
   ]
  },
  {
   "cell_type": "code",
   "execution_count": 78,
   "metadata": {
    "id": "3-IsFN9A-wut"
   },
   "outputs": [],
   "source": [
    "# test_set_tokenized.set_format(type='torch')\n",
    "# test_set_tokenized = (test_set_tokenized\n",
    "#           .map(lambda x : {\"float_label\": x[\"label\"].to(torch.float)}, remove_columns=[\"label\"])\n",
    "#           .rename_column(\"float_label\", \"label\"))"
   ]
  },
  {
   "cell_type": "code",
   "execution_count": 79,
   "metadata": {
    "id": "nlJMe_Fa-wxT"
   },
   "outputs": [],
   "source": [
    "training_args = TrainingArguments(\n",
    "    seed = 42,\n",
    "    output_dir=\"./results\",\n",
    "    per_device_eval_batch_size=128,\n",
    "    do_train=False,\n",
    "    do_eval=True,\n",
    "    report_to=[],\n",
    "    run_name=run_name\n",
    ")"
   ]
  },
  {
   "cell_type": "markdown",
   "metadata": {
    "id": "n0wF6hME-wz-"
   },
   "source": [
    "## Instantiate Trainer"
   ]
  },
  {
   "cell_type": "code",
   "execution_count": 80,
   "metadata": {
    "id": "x0f8LZ6S-w2V"
   },
   "outputs": [],
   "source": [
    "from functools import partial"
   ]
  },
  {
   "cell_type": "code",
   "execution_count": 81,
   "metadata": {
    "id": "3W4fgkgE-w48"
   },
   "outputs": [],
   "source": [
    "compute_metrics_fn = partial(compute_metrics, thresholds=optimal_thresholds)"
   ]
  },
  {
   "cell_type": "code",
   "execution_count": 82,
   "metadata": {
    "colab": {
     "base_uri": "https://localhost:8080/"
    },
    "id": "QK9xh6LU-w7o",
    "outputId": "3d98c0d3-4066-46ba-f065-e551f9a09713"
   },
   "outputs": [
    {
     "name": "stderr",
     "output_type": "stream",
     "text": [
      "<ipython-input-82-b7cbf9c7164a>:1: FutureWarning: `tokenizer` is deprecated and will be removed in version 5.0.0 for `CustomTrainer.__init__`. Use `processing_class` instead.\n",
      "  trainer = CustomTrainer(\n",
      "No label_names provided for model class `PeftModelForSequenceClassification`. Since `PeftModel` hides base models input arguments, if label_names is not given, label_names can't be set automatically within `Trainer`. Note that empty label_names list will be used instead.\n"
     ]
    }
   ],
   "source": [
    "trainer = CustomTrainer(\n",
    "    model=model,\n",
    "    args=training_args,\n",
    "    eval_dataset=test_set_tokenized,\n",
    "    compute_metrics=compute_metrics_fn,\n",
    "    tokenizer=tokenizer,\n",
    ")"
   ]
  },
  {
   "cell_type": "markdown",
   "metadata": {
    "id": "NdXN3yKy-w-Z"
   },
   "source": [
    "## Evaluate Using Trainer"
   ]
  },
  {
   "cell_type": "code",
   "execution_count": 83,
   "metadata": {
    "colab": {
     "base_uri": "https://localhost:8080/",
     "height": 37
    },
    "id": "3bqwXqrh-xCX",
    "outputId": "4e8d7877-1de2-4b75-c81c-d33e519bd90b"
   },
   "outputs": [
    {
     "data": {
      "text/html": [
       "\n",
       "    <div>\n",
       "      \n",
       "      <progress value='26' max='26' style='width:300px; height:20px; vertical-align: middle;'></progress>\n",
       "      [26/26 00:28]\n",
       "    </div>\n",
       "    "
      ],
      "text/plain": [
       "<IPython.core.display.HTML object>"
      ]
     },
     "metadata": {},
     "output_type": "display_data"
    }
   ],
   "source": [
    "test_results= trainer.evaluate()"
   ]
  },
  {
   "cell_type": "code",
   "execution_count": 84,
   "metadata": {
    "colab": {
     "base_uri": "https://localhost:8080/"
    },
    "id": "nMIh8htMH7gP",
    "outputId": "4852449c-a25d-44d5-f5e8-82b42d0ccaa8"
   },
   "outputs": [
    {
     "data": {
      "text/plain": [
       "{'eval_model_preparation_time': 0.0065,\n",
       " 'eval_runtime': 29.6979,\n",
       " 'eval_samples_per_second': 109.738,\n",
       " 'eval_steps_per_second': 0.875}"
      ]
     },
     "execution_count": 84,
     "metadata": {},
     "output_type": "execute_result"
    }
   ],
   "source": [
    "test_results"
   ]
  },
  {
   "cell_type": "code",
   "execution_count": 85,
   "metadata": {
    "id": "fMsP5PSRH7ic"
   },
   "outputs": [],
   "source": [
    "wandb.log({\n",
    "    \"test_f1_macro\": test_results.get(\"eval_f1_macro\", None),\n",
    "    \"test_loss\": test_results.get(\"eval_loss\", None),\n",
    "    \"test_accuracy\": test_results.get(\"eval_accuracy_all\", None)\n",
    "})\n"
   ]
  },
  {
   "cell_type": "code",
   "execution_count": 86,
   "metadata": {
    "colab": {
     "base_uri": "https://localhost:8080/",
     "height": 1000
    },
    "id": "tNJTgAesID8I",
    "outputId": "d1f24101-ed57-4749-f6f6-7dd39815f0a1"
   },
   "outputs": [
    {
     "data": {
      "text/html": [],
      "text/plain": [
       "<IPython.core.display.HTML object>"
      ]
     },
     "metadata": {},
     "output_type": "display_data"
    },
    {
     "data": {
      "text/html": [
       "<br>    <style><br>        .wandb-row {<br>            display: flex;<br>            flex-direction: row;<br>            flex-wrap: wrap;<br>            justify-content: flex-start;<br>            width: 100%;<br>        }<br>        .wandb-col {<br>            display: flex;<br>            flex-direction: column;<br>            flex-basis: 100%;<br>            flex: 1;<br>            padding: 10px;<br>        }<br>    </style><br><div class=\"wandb-row\"><div class=\"wandb-col\"><h3>Run history:</h3><br/><table class=\"wandb\"><tr><td>eval/accuracy_all</td><td>▁▁▁▄▂▂▂▄▃▆▆▆▇█▇▆██▆▇██</td></tr><tr><td>eval/accuracy_label</td><td>▁▂▄▇▆▆▆▇▇▇▇▇▇██▇██▇███</td></tr><tr><td>eval/f1_macro</td><td>▁▂▄▅▆▆▆▇▇▇▇▇██████████</td></tr><tr><td>eval/f1_micro</td><td>▁▂▄▆▆▆▆▇▇▇▇▇▇██▇██████</td></tr><tr><td>eval/loss</td><td>█▅▃▃▂▂▂▁▁▁▁▁▁▁▁▁▁▁▁▁▁▁</td></tr><tr><td>eval/runtime</td><td>▅▃▂▃▃▄▅▅▆▁▇█▅▅▃▅▂▅▃▅▅▆</td></tr><tr><td>eval/samples_per_second</td><td>▄▆▇▆▆▄▄▃▃█▂▁▄▄▆▄▇▄▆▄▄▃</td></tr><tr><td>eval/steps_per_second</td><td>▄▆▇▆▆▄▄▃▃█▂▁▄▄▆▄▇▄▆▄▄▃</td></tr><tr><td>eval_accuracy</td><td>▁</td></tr><tr><td>eval_f1_macro</td><td>▁</td></tr><tr><td>eval_loss</td><td>▁</td></tr><tr><td>test/accuracy_all</td><td>▁</td></tr><tr><td>test/accuracy_label</td><td>▁</td></tr><tr><td>test/f1_macro</td><td>▁</td></tr><tr><td>test/f1_micro</td><td>▁</td></tr><tr><td>test/loss</td><td>▁</td></tr><tr><td>test/runtime</td><td>▁</td></tr><tr><td>test/samples_per_second</td><td>▁</td></tr><tr><td>test/steps_per_second</td><td>▁</td></tr><tr><td>train/epoch</td><td>▁▁▁▁▂▂▂▂▂▂▃▃▃▃▃▄▄▄▄▄▅▅▅▅▅▅▆▆▆▆▆▇▇▇▇▇▇███</td></tr><tr><td>train/global_step</td><td>▁▁▁▁▂▂▂▂▂▃▃▃▃▃▄▄▄▄▄▅▅▅▅▅▆▆▆▆▆▇▇▇▇▇██████</td></tr><tr><td>train/grad_norm</td><td>█▃▂▂▂▃▃▂▂▃▁▄▂▂▂▁▅▂▂▃▃</td></tr><tr><td>train/learning_rate</td><td>██▇▇▇▆▆▆▅▅▅▄▄▃▃▃▂▂▂▁▁</td></tr><tr><td>train/loss</td><td>█▅▃▂▂▂▂▂▂▂▁▁▁▁▁▁▁▁▁▁▁</td></tr></table><br/></div><div class=\"wandb-col\"><h3>Run summary:</h3><br/><table class=\"wandb\"><tr><td>eval/accuracy_all</td><td>0.12549</td></tr><tr><td>eval/accuracy_label</td><td>0.82147</td></tr><tr><td>eval/f1_macro</td><td>0.58951</td></tr><tr><td>eval/f1_micro</td><td>0.65263</td></tr><tr><td>eval/loss</td><td>0.7384</td></tr><tr><td>eval/runtime</td><td>7.2286</td></tr><tr><td>eval/samples_per_second</td><td>106.936</td></tr><tr><td>eval/steps_per_second</td><td>6.779</td></tr><tr><td>eval_accuracy</td><td>0.12549</td></tr><tr><td>eval_f1_macro</td><td>0.58951</td></tr><tr><td>eval_loss</td><td>0.7384</td></tr><tr><td>test/accuracy_all</td><td>0.12549</td></tr><tr><td>test/accuracy_label</td><td>0.82147</td></tr><tr><td>test/f1_macro</td><td>0.58951</td></tr><tr><td>test/f1_micro</td><td>0.65263</td></tr><tr><td>test/loss</td><td>0.7384</td></tr><tr><td>test/runtime</td><td>7.1766</td></tr><tr><td>test/samples_per_second</td><td>107.712</td></tr><tr><td>test/steps_per_second</td><td>6.828</td></tr><tr><td>total_flos</td><td>7643071277595648.0</td></tr><tr><td>train/epoch</td><td>2</td></tr><tr><td>train/global_step</td><td>436</td></tr><tr><td>train/grad_norm</td><td>12.51459</td></tr><tr><td>train/learning_rate</td><td>0.0</td></tr><tr><td>train/loss</td><td>0.6015</td></tr><tr><td>train_loss</td><td>0.82239</td></tr><tr><td>train_runtime</td><td>819.6855</td></tr><tr><td>train_samples_per_second</td><td>16.96</td></tr><tr><td>train_steps_per_second</td><td>0.532</td></tr></table><br/></div></div>"
      ],
      "text/plain": [
       "<IPython.core.display.HTML object>"
      ]
     },
     "metadata": {},
     "output_type": "display_data"
    },
    {
     "data": {
      "text/html": [
       " View run <strong style=\"color:#cdcd00\">model_1</strong> at: <a href='https://wandb.ai/dwivedi-anmol1996-university-of-texas-at-dallas/NLP_HW7/runs/avusv2e2' target=\"_blank\">https://wandb.ai/dwivedi-anmol1996-university-of-texas-at-dallas/NLP_HW7/runs/avusv2e2</a><br> View project at: <a href='https://wandb.ai/dwivedi-anmol1996-university-of-texas-at-dallas/NLP_HW7' target=\"_blank\">https://wandb.ai/dwivedi-anmol1996-university-of-texas-at-dallas/NLP_HW7</a><br>Synced 5 W&B file(s), 0 media file(s), 0 artifact file(s) and 0 other file(s)"
      ],
      "text/plain": [
       "<IPython.core.display.HTML object>"
      ]
     },
     "metadata": {},
     "output_type": "display_data"
    },
    {
     "data": {
      "text/html": [
       "Find logs at: <code>./wandb/run-20250525_184328-avusv2e2/logs</code>"
      ],
      "text/plain": [
       "<IPython.core.display.HTML object>"
      ]
     },
     "metadata": {},
     "output_type": "display_data"
    }
   ],
   "source": [
    "wandb.finish()"
   ]
  },
  {
   "cell_type": "code",
   "execution_count": 86,
   "metadata": {
    "id": "p36NGyf0ID-j"
   },
   "outputs": [],
   "source": []
  },
  {
   "cell_type": "markdown",
   "metadata": {
    "id": "8hOae2kuJ_14"
   },
   "source": [
    "# Model Inference"
   ]
  },
  {
   "cell_type": "code",
   "execution_count": 87,
   "metadata": {
    "colab": {
     "base_uri": "https://localhost:8080/",
     "height": 84,
     "referenced_widgets": [
      "24f1c1338e934c3eb6849ac4b41dfb8e",
      "3c3339be80af494bb2b2793ac2df3b81",
      "65892fdbb77f418283f283f905b255ae",
      "08a12b88343646b8b66ace7d704d63fb",
      "830aa78a860b4fbea2f8184f36bde20a",
      "e1d59f0bb54147a4b6683f2741402151",
      "db102dc861e54cd09c6921ebd2c1ea02",
      "68e45172b1d74b05af7d4de4fd36bf96",
      "741dc9777b2f48e0989c4bcd3f2f483d",
      "2f833be55e4547c0bd3a4068685ec528",
      "49a4e29042404881b40b363b41b813b1"
     ]
    },
    "id": "UptTGrfbJ_Od",
    "outputId": "bf278c1b-a6dc-4e1f-bd15-5f0044a19332"
   },
   "outputs": [
    {
     "data": {
      "application/vnd.jupyter.widget-view+json": {
       "model_id": "24f1c1338e934c3eb6849ac4b41dfb8e",
       "version_major": 2,
       "version_minor": 0
      },
      "text/plain": [
       "Loading checkpoint shards:   0%|          | 0/3 [00:00<?, ?it/s]"
      ]
     },
     "metadata": {},
     "output_type": "display_data"
    },
    {
     "name": "stderr",
     "output_type": "stream",
     "text": [
      "Some weights of Gemma2ForSequenceClassification were not initialized from the model checkpoint at google/gemma-2-2b and are newly initialized: ['score.weight']\n",
      "You should probably TRAIN this model on a down-stream task to be able to use it for predictions and inference.\n"
     ]
    }
   ],
   "source": [
    "model = AutoPeftModelForSequenceClassification.from_pretrained(checkpoint,\n",
    "                                                           num_labels = 11,\n",
    "                                                           problem_type=\"multi_label_classification\",\n",
    "                                                           quantization_config=bnb_config,\n",
    "                                                           torch_dtype=torch_data_type,\n",
    "                                                           trust_remote_code=True,\n",
    ")\n",
    "\n",
    "peft_config = PeftConfig.from_pretrained(checkpoint)\n",
    "base_model_name = peft_config.base_model_name_or_path\n",
    "tokenizer = AutoTokenizer.from_pretrained(base_model_name)\n",
    "model.config.use_cache = False\n",
    "# 3. Set model to evaluation mode\n",
    "model.eval()\n",
    "model.config.use_cache = False"
   ]
  },
  {
   "cell_type": "code",
   "execution_count": 88,
   "metadata": {
    "colab": {
     "base_uri": "https://localhost:8080/"
    },
    "id": "_upZ-ZdYKC2t",
    "outputId": "b735a91a-d3b5-41ba-f8fb-0ed3d02f3f41"
   },
   "outputs": [
    {
     "data": {
      "text/plain": [
       "Gemma2Config {\n",
       "  \"architectures\": [\n",
       "    \"Gemma2ForCausalLM\"\n",
       "  ],\n",
       "  \"attention_bias\": false,\n",
       "  \"attention_dropout\": 0.0,\n",
       "  \"attn_logit_softcapping\": 50.0,\n",
       "  \"bos_token_id\": 2,\n",
       "  \"cache_implementation\": \"hybrid\",\n",
       "  \"eos_token_id\": 1,\n",
       "  \"final_logit_softcapping\": 30.0,\n",
       "  \"head_dim\": 256,\n",
       "  \"hidden_act\": \"gelu_pytorch_tanh\",\n",
       "  \"hidden_activation\": \"gelu_pytorch_tanh\",\n",
       "  \"hidden_size\": 2304,\n",
       "  \"id2label\": {\n",
       "    \"0\": \"LABEL_0\",\n",
       "    \"1\": \"LABEL_1\",\n",
       "    \"2\": \"LABEL_2\",\n",
       "    \"3\": \"LABEL_3\",\n",
       "    \"4\": \"LABEL_4\",\n",
       "    \"5\": \"LABEL_5\",\n",
       "    \"6\": \"LABEL_6\",\n",
       "    \"7\": \"LABEL_7\",\n",
       "    \"8\": \"LABEL_8\",\n",
       "    \"9\": \"LABEL_9\",\n",
       "    \"10\": \"LABEL_10\"\n",
       "  },\n",
       "  \"initializer_range\": 0.02,\n",
       "  \"intermediate_size\": 9216,\n",
       "  \"label2id\": {\n",
       "    \"LABEL_0\": 0,\n",
       "    \"LABEL_1\": 1,\n",
       "    \"LABEL_10\": 10,\n",
       "    \"LABEL_2\": 2,\n",
       "    \"LABEL_3\": 3,\n",
       "    \"LABEL_4\": 4,\n",
       "    \"LABEL_5\": 5,\n",
       "    \"LABEL_6\": 6,\n",
       "    \"LABEL_7\": 7,\n",
       "    \"LABEL_8\": 8,\n",
       "    \"LABEL_9\": 9\n",
       "  },\n",
       "  \"max_position_embeddings\": 8192,\n",
       "  \"model_type\": \"gemma2\",\n",
       "  \"num_attention_heads\": 8,\n",
       "  \"num_hidden_layers\": 26,\n",
       "  \"num_key_value_heads\": 4,\n",
       "  \"pad_token_id\": 0,\n",
       "  \"problem_type\": \"multi_label_classification\",\n",
       "  \"quantization_config\": {\n",
       "    \"_load_in_4bit\": true,\n",
       "    \"_load_in_8bit\": false,\n",
       "    \"bnb_4bit_compute_dtype\": \"bfloat16\",\n",
       "    \"bnb_4bit_quant_storage\": \"bfloat16\",\n",
       "    \"bnb_4bit_quant_type\": \"nf4\",\n",
       "    \"bnb_4bit_use_double_quant\": true,\n",
       "    \"llm_int8_enable_fp32_cpu_offload\": false,\n",
       "    \"llm_int8_has_fp16_weight\": false,\n",
       "    \"llm_int8_skip_modules\": null,\n",
       "    \"llm_int8_threshold\": 6.0,\n",
       "    \"load_in_4bit\": true,\n",
       "    \"load_in_8bit\": false,\n",
       "    \"quant_method\": \"bitsandbytes\"\n",
       "  },\n",
       "  \"query_pre_attn_scalar\": 256,\n",
       "  \"rms_norm_eps\": 1e-06,\n",
       "  \"rope_theta\": 10000.0,\n",
       "  \"sliding_window\": 4096,\n",
       "  \"torch_dtype\": \"bfloat16\",\n",
       "  \"transformers_version\": \"4.52.3\",\n",
       "  \"use_cache\": false,\n",
       "  \"vocab_size\": 256000\n",
       "}"
      ]
     },
     "execution_count": 88,
     "metadata": {},
     "output_type": "execute_result"
    }
   ],
   "source": [
    "model.config"
   ]
  },
  {
   "cell_type": "code",
   "execution_count": 89,
   "metadata": {
    "id": "1EnmypO-KC4_"
   },
   "outputs": [],
   "source": [
    "id2label= {id_: label_ for id_, label_ in enumerate(class_names)}\n",
    "label2id = {label_: id_ for id_, label_ in enumerate(class_names)}\n",
    "model.config.id2label = id2label\n",
    "model.config.label2id = label2id"
   ]
  },
  {
   "cell_type": "code",
   "execution_count": 90,
   "metadata": {
    "colab": {
     "base_uri": "https://localhost:8080/"
    },
    "id": "sZco4pMyKGEV",
    "outputId": "bcb2c6d7-019c-48ff-8f8e-711c0f38686d"
   },
   "outputs": [
    {
     "name": "stderr",
     "output_type": "stream",
     "text": [
      "Device set to use cuda:0\n",
      "/usr/local/lib/python3.11/dist-packages/transformers/pipelines/text_classification.py:106: UserWarning: `return_all_scores` is now deprecated,  if want a similar functionality use `top_k=None` instead of `return_all_scores=True` or `top_k=1` instead of `return_all_scores=False`.\n",
      "  warnings.warn(\n"
     ]
    }
   ],
   "source": [
    "custom_pipeline = pipeline(\n",
    "    task=\"text-classification\",\n",
    "    model=model,\n",
    "    tokenizer=tokenizer,\n",
    "    return_all_scores=True,\n",
    "    function_to_apply='sigmoid')"
   ]
  },
  {
   "cell_type": "code",
   "execution_count": 91,
   "metadata": {
    "colab": {
     "base_uri": "https://localhost:8080/"
    },
    "id": "Ny4Ct4SuKGGi",
    "outputId": "d36dbe1c-a130-474f-efcb-3b0b5ebca52e"
   },
   "outputs": [
    {
     "data": {
      "text/plain": [
       "[[{'label': 'anger', 'score': 0.017442483454942703},\n",
       "  {'label': 'anticipation', 'score': 0.8624675869941711},\n",
       "  {'label': 'disgust', 'score': 0.13117322325706482},\n",
       "  {'label': 'fear', 'score': 0.7994423508644104},\n",
       "  {'label': 'joy', 'score': 0.6697447896003723},\n",
       "  {'label': 'love', 'score': 0.15817435085773468},\n",
       "  {'label': 'optimism', 'score': 0.5493988990783691},\n",
       "  {'label': 'pessimism', 'score': 0.23651622235774994},\n",
       "  {'label': 'sadness', 'score': 0.2030746191740036},\n",
       "  {'label': 'surprise', 'score': 0.502532958984375},\n",
       "  {'label': 'trust', 'score': 0.2267836332321167}]]"
      ]
     },
     "execution_count": 91,
     "metadata": {},
     "output_type": "execute_result"
    }
   ],
   "source": [
    "sample = valid_data['text'][0]\n",
    "preds = custom_pipeline(sample)\n",
    "preds"
   ]
  },
  {
   "cell_type": "code",
   "execution_count": 92,
   "metadata": {
    "id": "_93ek5tfKeef"
   },
   "outputs": [],
   "source": [
    "def get_positive_labels(pipeline_output, optimal_thresholds):\n",
    "\n",
    "   positive_labels = []\n",
    "\n",
    "   for pred_set in pipeline_output:\n",
    "       # Get scores for all labels\n",
    "       scores = [pred['score'] for pred in pred_set]\n",
    "       labels = [pred['label'] for pred in pred_set]\n",
    "\n",
    "       # Get positions where score > threshold for that label\n",
    "       sample_positives = [\n",
    "           label for label, score, threshold in zip(labels, scores, optimal_thresholds)\n",
    "           if score >= threshold\n",
    "       ]\n",
    "\n",
    "       positive_labels.append(sample_positives)\n",
    "\n",
    "   return positive_labels\n"
   ]
  },
  {
   "cell_type": "code",
   "execution_count": 93,
   "metadata": {
    "id": "nMMeWEzsKegw"
   },
   "outputs": [],
   "source": [
    "def get_positive_labels(pipeline_output, optimal_thresholds):\n",
    "\n",
    "   positive_labels = []\n",
    "\n",
    "   for pred_set in pipeline_output:\n",
    "       # Get scores for all labels\n",
    "       scores = [pred['score'] for pred in pred_set]\n",
    "       labels = [pred['label'] for pred in pred_set]\n",
    "\n",
    "       # Get positions where score > threshold for that label\n",
    "       sample_positives = [\n",
    "           label for label, score, threshold in zip(labels, scores, optimal_thresholds)\n",
    "           if score >= threshold\n",
    "       ]\n",
    "\n",
    "       positive_labels.append(sample_positives)\n",
    "\n",
    "   return positive_labels\n"
   ]
  },
  {
   "cell_type": "code",
   "execution_count": 94,
   "metadata": {
    "colab": {
     "base_uri": "https://localhost:8080/"
    },
    "id": "eBvUgMbmKei_",
    "outputId": "bad650a6-8f62-467c-da0b-0ff3a6147e1a"
   },
   "outputs": [
    {
     "data": {
      "text/plain": [
       "[['anticipation', 'fear', 'joy', 'optimism']]"
      ]
     },
     "execution_count": 94,
     "metadata": {},
     "output_type": "execute_result"
    }
   ],
   "source": [
    "results = get_positive_labels(preds, optimal_thresholds)\n",
    "results"
   ]
  },
  {
   "cell_type": "code",
   "execution_count": 94,
   "metadata": {
    "id": "5mIGFJaYKGI0"
   },
   "outputs": [],
   "source": []
  },
  {
   "cell_type": "markdown",
   "metadata": {
    "id": "aq6_ddmLILGN"
   },
   "source": [
    "#Model Output Logging"
   ]
  },
  {
   "cell_type": "code",
   "execution_count": 95,
   "metadata": {
    "id": "Xvb6BxeAILkN"
   },
   "outputs": [],
   "source": [
    "def prepare_dataset(csv_file_path, is_test=False):\n",
    "    \"\"\"\n",
    "    Prepares a dataset for multi-label classification.\n",
    "\n",
    "    Args:\n",
    "        csv_file_path (str): Path to the CSV file.\n",
    "        is_test (bool): Whether the dataset is for testing (no labels).\n",
    "\n",
    "    Returns:\n",
    "        Dataset: Hugging Face Dataset in the required format.\n",
    "        list: Class names (only if not in test mode).\n",
    "    \"\"\"\n",
    "    # Load the CSV dataset\n",
    "    df = pd.read_csv(csv_file_path)\n",
    "\n",
    "    # Define the emotion columns (labels)\n",
    "    emotion_columns = ['anger', 'anticipation', 'disgust', 'fear', 'joy',\n",
    "                       'love', 'optimism', 'pessimism', 'sadness', 'surprise', 'trust']\n",
    "\n",
    "    if not is_test:\n",
    "        # Combine the binary emotion labels into a list for each row\n",
    "        df['labels'] = df[emotion_columns].apply(\n",
    "            lambda x: [emotion for emotion, value in x.items() if value == 1], axis=1\n",
    "        )\n",
    "\n",
    "        # Keep only the 'Tweet' (renamed to 'text') and 'labels' columns\n",
    "        df_final = df[['Tweet', 'labels']].rename(columns={'Tweet': 'text'})\n",
    "\n",
    "        # One-hot encode the labels using MultiLabelBinarizer\n",
    "        label_encoder = MultiLabelBinarizer()\n",
    "        df_final['label'] = list(label_encoder.fit_transform(df_final['labels']))\n",
    "\n",
    "        # Define class names for reference\n",
    "        class_names = label_encoder.classes_\n",
    "\n",
    "        # Convert to Hugging Face Dataset format\n",
    "        dataset = Dataset.from_pandas(df_final[['text', 'label']])\n",
    "\n",
    "        return dataset, class_names\n",
    "    else:\n",
    "        # For test data, keep the 'ID' and 'Tweet' columns, renaming 'Tweet' to 'text'\n",
    "        df_final = df[['ID', 'Tweet']].rename(columns={'Tweet': 'text'})\n",
    "\n",
    "        # Convert to Hugging Face Dataset format\n",
    "        dataset = Dataset.from_pandas(df_final[['ID', 'text']])\n",
    "\n",
    "        return dataset\n"
   ]
  },
  {
   "cell_type": "code",
   "execution_count": 96,
   "metadata": {
    "id": "0FDkKO8JN4to"
   },
   "outputs": [],
   "source": [
    "# Load and prepare the test dataset\n",
    "test_data = prepare_dataset(csv_file_path='/content/drive/MyDrive/HW7/data_folder/test.csv', is_test=True)"
   ]
  },
  {
   "cell_type": "code",
   "execution_count": 97,
   "metadata": {
    "colab": {
     "base_uri": "https://localhost:8080/",
     "height": 49,
     "referenced_widgets": [
      "d74a576d239e45d18b8a8e50abacd878",
      "20c284951f2448c99dde1badc94a847d",
      "cae605024820485391214451eb486a0f",
      "62a3651919d548e98a482b73560458dd",
      "25a3c993409f49eeb9800e5b3e91f2a8",
      "72d26c0af4f8428888ad2e586be19b55",
      "e867a88ff72e4dfd837914dc402ed765",
      "cb3ffbb2e6554ac5a1a63b8c79afa8ab",
      "75c60fe671434b27b94388ec739a2a43",
      "6321c0641a63450db5e172c15959451a",
      "7635af8509a24d5ca9c290e4b8e12112"
     ]
    },
    "id": "1skFMZRvILpp",
    "outputId": "8f8d19d4-f19a-4948-864f-cef0615d73ca"
   },
   "outputs": [
    {
     "data": {
      "application/vnd.jupyter.widget-view+json": {
       "model_id": "d74a576d239e45d18b8a8e50abacd878",
       "version_major": 2,
       "version_minor": 0
      },
      "text/plain": [
       "Map:   0%|          | 0/3259 [00:00<?, ? examples/s]"
      ]
     },
     "metadata": {},
     "output_type": "display_data"
    },
    {
     "data": {
      "text/html": [],
      "text/plain": [
       "<IPython.core.display.HTML object>"
      ]
     },
     "metadata": {},
     "output_type": "display_data"
    }
   ],
   "source": [
    "# Tokenize the unseen test data\n",
    "test_set_tokenized = test_data.map(tokenize_fn, batched=True)\n",
    "test_set_tokenized = test_set_tokenized.remove_columns(['text'])\n",
    "test_set_tokenized.set_format(type='torch')\n",
    "\n",
    "# Use `predict` to generate predictions\n",
    "test_output = trainer.predict(test_set_tokenized)\n",
    "test_logits = test_output.predictions\n",
    "\n",
    "# Convert logits to probabilities using sigmoid\n",
    "test_probs = sigmoid(test_logits)\n",
    "\n",
    "# Apply optimal thresholds to obtain binary predictions\n",
    "test_preds = (test_probs > optimal_thresholds).astype(int)"
   ]
  },
  {
   "cell_type": "code",
   "execution_count": 98,
   "metadata": {
    "id": "z1XtZZI1NaaT"
   },
   "outputs": [],
   "source": [
    "# Retrieve the IDs from the original test data\n",
    "ids = test_data['ID']\n",
    "\n",
    "# Define the class names\n",
    "emotion_columns = ['anger', 'anticipation', 'disgust', 'fear', 'joy',\n",
    "                   'love', 'optimism', 'pessimism', 'sadness', 'surprise', 'trust']\n",
    "\n",
    "# Create a DataFrame with the predictions and IDs\n",
    "submission_df = pd.DataFrame(test_preds, columns=emotion_columns)\n",
    "submission_df['ID'] = ids  # Add the 'ID' column\n",
    "\n",
    "# Reorder the columns to have 'ID' as the first column\n",
    "submission_df = submission_df[['ID'] + emotion_columns]\n",
    "\n",
    "# Save to CSV for Kaggle submission\n",
    "submission_df.to_csv(\"submission_model_1.csv\", index=False)\n"
   ]
  },
  {
   "cell_type": "code",
   "execution_count": 98,
   "metadata": {
    "id": "litAIqbxNadB"
   },
   "outputs": [],
   "source": []
  },
  {
   "cell_type": "code",
   "execution_count": 98,
   "metadata": {
    "id": "osFjEvFPNafX"
   },
   "outputs": [],
   "source": []
  }
 ],
 "metadata": {
  "accelerator": "GPU",
  "colab": {
   "gpuType": "L4",
   "provenance": []
  },
  "kernelspec": {
   "display_name": "Python 3",
   "name": "python3"
  },
  "language_info": {
   "codemirror_mode": {
    "name": "ipython",
    "version": 3
   },
   "file_extension": ".py",
   "mimetype": "text/x-python",
   "name": "python",
   "nbconvert_exporter": "python",
   "pygments_lexer": "ipython3",
   "version": "3.12.9"
  }
 },
 "nbformat": 4,
 "nbformat_minor": 0
}
